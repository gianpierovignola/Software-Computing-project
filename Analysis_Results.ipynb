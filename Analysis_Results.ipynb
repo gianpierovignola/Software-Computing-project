{
 "cells": [
  {
   "cell_type": "code",
   "execution_count": 1,
   "metadata": {},
   "outputs": [
    {
     "name": "stdout",
     "output_type": "stream",
     "text": [
      "Welcome to JupyROOT 6.22/03\n"
     ]
    }
   ],
   "source": [
    "import ROOT\n",
    "from IPython.display import Image\n",
    "# You may want this if you'd like your ROOT plots to be interactive in the notebook.\n",
    "%jsroot on\n",
    "#ROOT.TMVA.TMVAGui('TMVA_output_6_8.root')"
   ]
  },
  {
   "cell_type": "code",
   "execution_count": 3,
   "metadata": {
    "collapsed": true
   },
   "outputs": [
    {
     "name": "stdout",
     "output_type": "stream",
     "text": [
      "--- Opening root file TMVA_output_8_12.root in read mode\n",
      "--- Found 3 classifier types\n",
      "--- Found 1 instance(s) of the method Method_Cuts\n",
      "--- Found 1 instance(s) of the method Method_BDT\n",
      "--- Found 1 instance(s) of the method Method_MLP\n",
      "--- Found 3 classifier types\n",
      "--- Found 1 instance(s) of the method Method_Cuts\n",
      "--- Found 1 instance(s) of the method Method_BDT\n",
      "--- Found 1 instance(s) of the method Method_MLP\n",
      "--- --------------------------------------------------------------------\n",
      "--- If you want to save the image as eps, gif or png, please comment out \n",
      "--- the corresponding lines (line no. 239-241) in tmvaglob.C\n",
      "--- --------------------------------------------------------------------\n"
     ]
    },
    {
     "name": "stderr",
     "output_type": "stream",
     "text": [
      "Warning in <TColor::TColor>: color 599 already defined\n",
      "Info in <TCanvas::Print>: eps file dataset/plots/rejBvsS.eps has been created\n",
      "Info in <TCanvas::Print>: png file dataset/plots/rejBvsS.png has been created\n"
     ]
    }
   ],
   "source": [
    "ROOT.TMVA.efficiencies(\"dataset\", \"TMVA_output_8_12.root\")"
   ]
  },
  {
   "cell_type": "markdown",
   "metadata": {},
   "source": [
    "<img src=\"dataset/plots/rejBvsS.png\"/>"
   ]
  },
  {
   "cell_type": "code",
   "execution_count": 4,
   "metadata": {
    "collapsed": true
   },
   "outputs": [
    {
     "name": "stdout",
     "output_type": "stream",
     "text": [
      "--- --------------------------------------------------------------------\n",
      "--- If you want to save the image as eps, gif or png, please comment out \n",
      "--- the corresponding lines (line no. 239-241) in tmvaglob.C\n",
      "--- --------------------------------------------------------------------\n",
      "--- --------------------------------------------------------------------\n",
      "--- If you want to save the image as eps, gif or png, please comment out \n",
      "--- the corresponding lines (line no. 239-241) in tmvaglob.C\n",
      "--- --------------------------------------------------------------------\n"
     ]
    },
    {
     "name": "stderr",
     "output_type": "stream",
     "text": [
      "Info in <TCanvas::Print>: eps file dataset/plots/CorrelationMatrixS.eps has been created\n",
      "Info in <TCanvas::Print>: png file dataset/plots/CorrelationMatrixS.png has been created\n",
      "Info in <TCanvas::Print>: eps file dataset/plots/CorrelationMatrixB.eps has been created\n",
      "Info in <TCanvas::Print>: png file dataset/plots/CorrelationMatrixB.png has been created\n"
     ]
    }
   ],
   "source": [
    "ROOT.TMVA.correlations(\"dataset\", \"TMVA_output_8_12.root\")"
   ]
  },
  {
   "cell_type": "markdown",
   "metadata": {},
   "source": [
    "<img src=\"dataset/plots/CorrelationMatrixS.png\"/> <img src=\"dataset/plots/CorrelationMatrixB.png\"/>"
   ]
  },
  {
   "cell_type": "code",
   "execution_count": 5,
   "metadata": {},
   "outputs": [
    {
     "name": "stdout",
     "output_type": "stream",
     "text": [
      "--- Found directory for method: Cuts::Cuts:\t mva distribution not available (this is normal for Cut classifier)\n",
      "--- Found directory for method: BDT::BDT containing MVA_BDT_S/_B\n",
      "--- Mean and RMS (S): 0.0686799, 0.0700635\n",
      "--- Mean and RMS (B): -0.0527318, 0.112014\n",
      "--- --------------------------------------------------------------------\n",
      "--- If you want to save the image as eps, gif or png, please comment out \n",
      "--- the corresponding lines (line no. 239-241) in tmvaglob.C\n",
      "--- --------------------------------------------------------------------\n",
      "--- Found directory for method: MLP::MLP containing MVA_MLP_S/_B\n",
      "--- Mean and RMS (S): 0.877417, 0.129273\n",
      "--- Mean and RMS (B): 0.589309, 0.299927\n",
      "--- --------------------------------------------------------------------\n",
      "--- If you want to save the image as eps, gif or png, please comment out \n",
      "--- the corresponding lines (line no. 239-241) in tmvaglob.C\n",
      "--- --------------------------------------------------------------------\n"
     ]
    },
    {
     "name": "stderr",
     "output_type": "stream",
     "text": [
      "Warning in <TColor::TColor>: color 600 already defined\n",
      "Info in <TCanvas::Print>: eps file dataset/plots/mva_BDT.eps has been created\n",
      "Info in <TCanvas::Print>: png file dataset/plots/mva_BDT.png has been created\n",
      "Warning in <TColor::TColor>: color 600 already defined\n",
      "Info in <TCanvas::Print>: eps file dataset/plots/mva_MLP.eps has been created\n",
      "Info in <TCanvas::Print>: png file dataset/plots/mva_MLP.png has been created\n"
     ]
    }
   ],
   "source": [
    "ROOT.TMVA.mvas(\"dataset\", \"TMVA_output_8_12.root\")"
   ]
  },
  {
   "cell_type": "code",
   "execution_count": 7,
   "metadata": {
    "collapsed": true
   },
   "outputs": [
    {
     "ename": "SegmentationViolation",
     "evalue": "void TMVA::mvaeffs(TString dataset, TString fin = \"TMVA.root\", bool useTMVAStyle = kTRUE, TString formula = \"S/sqrt(S+B)\") =>\n    SegmentationViolation: segfault in C++; program state was reset",
     "output_type": "error",
     "traceback": [
      "\u001b[0;31m---------------------------------------------------------------------------\u001b[0m",
      "\u001b[0;31mSegmentationViolation\u001b[0m                     Traceback (most recent call last)",
      "\u001b[0;32m<ipython-input-7-06e8d357629e>\u001b[0m in \u001b[0;36m<module>\u001b[0;34m\u001b[0m\n\u001b[0;32m----> 1\u001b[0;31m \u001b[0mROOT\u001b[0m\u001b[0;34m.\u001b[0m\u001b[0mTMVA\u001b[0m\u001b[0;34m.\u001b[0m\u001b[0mmvaeffs\u001b[0m\u001b[0;34m(\u001b[0m\u001b[0;34m\"dataset\"\u001b[0m\u001b[0;34m,\u001b[0m \u001b[0;34m\"TMVA_output_8_12.root\"\u001b[0m\u001b[0;34m)\u001b[0m\u001b[0;34m\u001b[0m\u001b[0;34m\u001b[0m\u001b[0m\n\u001b[0m",
      "\u001b[0;31mSegmentationViolation\u001b[0m: void TMVA::mvaeffs(TString dataset, TString fin = \"TMVA.root\", bool useTMVAStyle = kTRUE, TString formula = \"S/sqrt(S+B)\") =>\n    SegmentationViolation: segfault in C++; program state was reset"
     ]
    },
    {
     "name": "stderr",
     "output_type": "stream",
     "text": [
      " *** Break *** segmentation violation\n",
      "\n",
      "\n",
      "\n",
      "===========================================================\n",
      "There was a crash.\n",
      "This is the entire stack trace of all threads:\n",
      "===========================================================\n",
      "\n",
      "Thread 10 (Thread 0x7fcf53411700 (LWP 8963)):\n",
      "#0  futex_abstimed_wait_cancelable (private=<optimized out>, abstime=0x7fcf534102b0, clockid=<optimized out>, expected=0, futex_word=0x934b68 <_PyRuntime+1224>) at ../sysdeps/nptl/futex-internal.h:320\n",
      "#1  __pthread_cond_wait_common (abstime=0x7fcf534102b0, clockid=<optimized out>, mutex=0x934b70 <_PyRuntime+1232>, cond=0x934b40 <_PyRuntime+1184>) at pthread_cond_wait.c:520\n",
      "#2  __pthread_cond_timedwait (cond=0x934b40 <_PyRuntime+1184>, mutex=0x934b70 <_PyRuntime+1232>, abstime=0x7fcf534102b0) at pthread_cond_wait.c:656\n",
      "#3  0x0000000000570679 in PyEval_RestoreThread ()\n",
      "#4  0x0000000000527712 in ?? ()\n",
      "#5  0x00000000005009da in ?? ()\n",
      "#6  0x00000000005677c7 in _PyEval_EvalFrameDefault ()\n",
      "#7  0x0000000000565972 in _PyEval_EvalCodeWithName ()\n",
      "#8  0x00000000005f1d85 in _PyFunction_Vectorcall ()\n",
      "#9  0x00000000005677c7 in _PyEval_EvalFrameDefault ()\n",
      "#10 0x0000000000565972 in _PyEval_EvalCodeWithName ()\n",
      "#11 0x00000000005f1d85 in _PyFunction_Vectorcall ()\n",
      "#12 0x00000000005677c7 in _PyEval_EvalFrameDefault ()\n",
      "#13 0x00000000005f1b8b in _PyFunction_Vectorcall ()\n",
      "#14 0x00000000005677c7 in _PyEval_EvalFrameDefault ()\n",
      "#15 0x00000000005f1b8b in _PyFunction_Vectorcall ()\n",
      "#16 0x00000000005677c7 in _PyEval_EvalFrameDefault ()\n",
      "#17 0x00000000005f1b8b in _PyFunction_Vectorcall ()\n",
      "#18 0x000000000050722c in ?? ()\n",
      "#19 0x00000000005f1107 in PyObject_Call ()\n",
      "#20 0x000000000064fb98 in ?? ()\n",
      "#21 0x000000000066ee14 in ?? ()\n",
      "#22 0x00007fcf8472f609 in start_thread (arg=<optimized out>) at pthread_create.c:477\n",
      "#23 0x00007fcf8486b103 in clone () at ../sysdeps/unix/sysv/linux/x86_64/clone.S:95\n",
      "\n",
      "Thread 9 (Thread 0x7fcf67fff700 (LWP 8946)):\n",
      "#0  0x00007fcf84860f9b in __GI___select (nfds=0, readfds=0x0, writefds=0x0, exceptfds=0x0, timeout=0x7fcf67ffe8c0) at ../sysdeps/unix/sysv/linux/select.c:41\n",
      "#1  0x00000000006194da in ?? ()\n",
      "#2  0x00000000005c052c in ?? ()\n",
      "#3  0x000000000056c475 in _PyEval_EvalFrameDefault ()\n",
      "#4  0x00000000005f1b8b in _PyFunction_Vectorcall ()\n",
      "#5  0x00000000005677c7 in _PyEval_EvalFrameDefault ()\n",
      "#6  0x00000000005f1b8b in _PyFunction_Vectorcall ()\n",
      "#7  0x00000000005677c7 in _PyEval_EvalFrameDefault ()\n",
      "#8  0x00000000005f1b8b in _PyFunction_Vectorcall ()\n",
      "#9  0x000000000050722c in ?? ()\n",
      "#10 0x00000000005f1107 in PyObject_Call ()\n",
      "#11 0x000000000064fb98 in ?? ()\n",
      "#12 0x000000000066ee14 in ?? ()\n",
      "#13 0x00007fcf8472f609 in start_thread (arg=<optimized out>) at pthread_create.c:477\n",
      "#14 0x00007fcf8486b103 in clone () at ../sysdeps/unix/sysv/linux/x86_64/clone.S:95\n",
      "\n",
      "Thread 8 (Thread 0x7fcf7cc8e700 (LWP 8945)):\n",
      "#0  futex_abstimed_wait_cancelable (private=<optimized out>, abstime=0x7fcf7cc8ce30, clockid=<optimized out>, expected=0, futex_word=0x934b68 <_PyRuntime+1224>) at ../sysdeps/nptl/futex-internal.h:320\n",
      "#1  __pthread_cond_wait_common (abstime=0x7fcf7cc8ce30, clockid=<optimized out>, mutex=0x934b70 <_PyRuntime+1232>, cond=0x934b40 <_PyRuntime+1184>) at pthread_cond_wait.c:520\n",
      "#2  __pthread_cond_timedwait (cond=0x934b40 <_PyRuntime+1184>, mutex=0x934b70 <_PyRuntime+1232>, abstime=0x7fcf7cc8ce30) at pthread_cond_wait.c:656\n",
      "#3  0x0000000000570679 in PyEval_RestoreThread ()\n",
      "#4  0x0000000000527712 in ?? ()\n",
      "#5  0x00000000005009da in ?? ()\n",
      "#6  0x00000000005677c7 in _PyEval_EvalFrameDefault ()\n",
      "#7  0x0000000000565972 in _PyEval_EvalCodeWithName ()\n",
      "#8  0x00000000005f1d85 in _PyFunction_Vectorcall ()\n",
      "#9  0x00000000005677c7 in _PyEval_EvalFrameDefault ()\n",
      "#10 0x0000000000565972 in _PyEval_EvalCodeWithName ()\n",
      "#11 0x00000000005f1d85 in _PyFunction_Vectorcall ()\n",
      "#12 0x00000000005677c7 in _PyEval_EvalFrameDefault ()\n",
      "#13 0x00000000005f1b8b in _PyFunction_Vectorcall ()\n",
      "#14 0x00000000005f1107 in PyObject_Call ()\n",
      "#15 0x0000000000568e1f in _PyEval_EvalFrameDefault ()\n",
      "#16 0x0000000000565972 in _PyEval_EvalCodeWithName ()\n",
      "#17 0x00000000005f1d85 in _PyFunction_Vectorcall ()\n",
      "#18 0x000000000056769f in _PyEval_EvalFrameDefault ()\n",
      "#19 0x00000000005f1b8b in _PyFunction_Vectorcall ()\n",
      "#20 0x00000000005677c7 in _PyEval_EvalFrameDefault ()\n",
      "#21 0x00000000005f1b8b in _PyFunction_Vectorcall ()\n",
      "#22 0x00000000005677c7 in _PyEval_EvalFrameDefault ()\n",
      "#23 0x00000000005f1b8b in _PyFunction_Vectorcall ()\n",
      "#24 0x000000000050722c in ?? ()\n",
      "#25 0x00000000005f1107 in PyObject_Call ()\n",
      "#26 0x000000000064fb98 in ?? ()\n",
      "#27 0x000000000066ee14 in ?? ()\n",
      "#28 0x00007fcf8472f609 in start_thread (arg=<optimized out>) at pthread_create.c:477\n",
      "#29 0x00007fcf8486b103 in clone () at ../sysdeps/unix/sysv/linux/x86_64/clone.S:95\n",
      "\n",
      "Thread 7 (Thread 0x7fcf7d4cf700 (LWP 8944)):\n",
      "#0  0x00007fcf8486b43e in epoll_wait (epfd=40, events=0x7fcf7d4ce1d0, maxevents=256, timeout=-1) at ../sysdeps/unix/sysv/linux/epoll_wait.c:30\n",
      "#1  0x00007fcf818b09ef in ?? () from /usr/local/lib/python3.8/dist-packages/zmq/backend/cython/../../../pyzmq.libs/libzmq-1358af2c.so.5.2.2\n",
      "#2  0x00007fcf818ce84f in ?? () from /usr/local/lib/python3.8/dist-packages/zmq/backend/cython/../../../pyzmq.libs/libzmq-1358af2c.so.5.2.2\n",
      "#3  0x00007fcf818fb6cc in ?? () from /usr/local/lib/python3.8/dist-packages/zmq/backend/cython/../../../pyzmq.libs/libzmq-1358af2c.so.5.2.2\n",
      "#4  0x00007fcf8472f609 in start_thread (arg=<optimized out>) at pthread_create.c:477\n",
      "#5  0x00007fcf8486b103 in clone () at ../sysdeps/unix/sysv/linux/x86_64/clone.S:95\n",
      "\n",
      "Thread 6 (Thread 0x7fcf7dcd0700 (LWP 8943)):\n",
      "#0  0x00007fcf8486b43e in epoll_wait (epfd=37, events=0x7fcf7dccf1d0, maxevents=256, timeout=-1) at ../sysdeps/unix/sysv/linux/epoll_wait.c:30\n",
      "#1  0x00007fcf818b09ef in ?? () from /usr/local/lib/python3.8/dist-packages/zmq/backend/cython/../../../pyzmq.libs/libzmq-1358af2c.so.5.2.2\n",
      "#2  0x00007fcf818ce84f in ?? () from /usr/local/lib/python3.8/dist-packages/zmq/backend/cython/../../../pyzmq.libs/libzmq-1358af2c.so.5.2.2\n",
      "#3  0x00007fcf818fb6cc in ?? () from /usr/local/lib/python3.8/dist-packages/zmq/backend/cython/../../../pyzmq.libs/libzmq-1358af2c.so.5.2.2\n",
      "#4  0x00007fcf8472f609 in start_thread (arg=<optimized out>) at pthread_create.c:477\n",
      "#5  0x00007fcf8486b103 in clone () at ../sysdeps/unix/sysv/linux/x86_64/clone.S:95\n",
      "\n",
      "Thread 5 (Thread 0x7fcf7e4d1700 (LWP 8942)):\n",
      "#0  0x00007fcf8485e96f in __GI___poll (fds=0x7fcf7e4d0520, nfds=2, timeout=-1) at ../sysdeps/unix/sysv/linux/poll.c:29\n",
      "#1  0x00007fcf8190f5e5 in zmq_poll () from /usr/local/lib/python3.8/dist-packages/zmq/backend/cython/../../../pyzmq.libs/libzmq-1358af2c.so.5.2.2\n",
      "#2  0x00007fcf818cfda3 in ?? () from /usr/local/lib/python3.8/dist-packages/zmq/backend/cython/../../../pyzmq.libs/libzmq-1358af2c.so.5.2.2\n",
      "#3  0x00007fcf81910469 in zmq_proxy () from /usr/local/lib/python3.8/dist-packages/zmq/backend/cython/../../../pyzmq.libs/libzmq-1358af2c.so.5.2.2\n",
      "#4  0x00007fcf802c7e0d in ?? () from /usr/local/lib/python3.8/dist-packages/zmq/backend/cython/_device.cpython-38-x86_64-linux-gnu.so\n",
      "#5  0x00007fcf802c7419 in ?? () from /usr/local/lib/python3.8/dist-packages/zmq/backend/cython/_device.cpython-38-x86_64-linux-gnu.so\n",
      "#6  0x00000000005f2406 in _PyObject_MakeTpCall ()\n",
      "#7  0x000000000056cb23 in _PyEval_EvalFrameDefault ()\n",
      "#8  0x00000000005f1b8b in _PyFunction_Vectorcall ()\n",
      "#9  0x00000000005677c7 in _PyEval_EvalFrameDefault ()\n",
      "#10 0x00000000005f1b8b in _PyFunction_Vectorcall ()\n",
      "#11 0x00000000005677c7 in _PyEval_EvalFrameDefault ()\n",
      "#12 0x00000000005f1b8b in _PyFunction_Vectorcall ()\n",
      "#13 0x000000000050722c in ?? ()\n",
      "#14 0x00000000005f1107 in PyObject_Call ()\n",
      "#15 0x000000000064fb98 in ?? ()\n",
      "#16 0x000000000066ee14 in ?? ()\n",
      "#17 0x00007fcf8472f609 in start_thread (arg=<optimized out>) at pthread_create.c:477\n",
      "#18 0x00007fcf8486b103 in clone () at ../sysdeps/unix/sysv/linux/x86_64/clone.S:95\n",
      "\n",
      "Thread 4 (Thread 0x7fcf7ecd2700 (LWP 8941)):\n",
      "#0  futex_abstimed_wait_cancelable (private=<optimized out>, abstime=0x7fcf7ecd0e40, clockid=<optimized out>, expected=0, futex_word=0x934b68 <_PyRuntime+1224>) at ../sysdeps/nptl/futex-internal.h:320\n",
      "#1  __pthread_cond_wait_common (abstime=0x7fcf7ecd0e40, clockid=<optimized out>, mutex=0x934b70 <_PyRuntime+1232>, cond=0x934b40 <_PyRuntime+1184>) at pthread_cond_wait.c:520\n",
      "#2  __pthread_cond_timedwait (cond=0x934b40 <_PyRuntime+1184>, mutex=0x934b70 <_PyRuntime+1232>, abstime=0x7fcf7ecd0e40) at pthread_cond_wait.c:656\n",
      "#3  0x0000000000570679 in PyEval_RestoreThread ()\n",
      "#4  0x0000000000631642 in ?? ()\n",
      "#5  0x000000000050143e in ?? ()\n",
      "#6  0x00000000005677c7 in _PyEval_EvalFrameDefault ()\n",
      "#7  0x0000000000565972 in _PyEval_EvalCodeWithName ()\n",
      "#8  0x00000000005f1d85 in _PyFunction_Vectorcall ()\n",
      "#9  0x00000000005677c7 in _PyEval_EvalFrameDefault ()\n",
      "#10 0x00000000005f1b8b in _PyFunction_Vectorcall ()\n",
      "#11 0x00000000005677c7 in _PyEval_EvalFrameDefault ()\n",
      "#12 0x00000000005f1b8b in _PyFunction_Vectorcall ()\n",
      "#13 0x00000000005677c7 in _PyEval_EvalFrameDefault ()\n",
      "#14 0x00000000005f1b8b in _PyFunction_Vectorcall ()\n",
      "#15 0x00000000005677c7 in _PyEval_EvalFrameDefault ()\n",
      "#16 0x00000000005f1b8b in _PyFunction_Vectorcall ()\n",
      "#17 0x000000000050722c in ?? ()\n",
      "#18 0x00000000005f1107 in PyObject_Call ()\n",
      "#19 0x0000000000568e1f in _PyEval_EvalFrameDefault ()\n",
      "#20 0x00000000005f1b8b in _PyFunction_Vectorcall ()\n",
      "#21 0x00000000005677c7 in _PyEval_EvalFrameDefault ()\n",
      "#22 0x00000000005f1b8b in _PyFunction_Vectorcall ()\n",
      "#23 0x00000000005677c7 in _PyEval_EvalFrameDefault ()\n",
      "#24 0x00000000005f1b8b in _PyFunction_Vectorcall ()\n",
      "#25 0x000000000050722c in ?? ()\n",
      "#26 0x00000000005f1107 in PyObject_Call ()\n",
      "#27 0x000000000064fb98 in ?? ()\n",
      "#28 0x000000000066ee14 in ?? ()\n",
      "#29 0x00007fcf8472f609 in start_thread (arg=<optimized out>) at pthread_create.c:477\n",
      "#30 0x00007fcf8486b103 in clone () at ../sysdeps/unix/sysv/linux/x86_64/clone.S:95\n",
      "\n",
      "Thread 3 (Thread 0x7fcf7f4d3700 (LWP 8940)):\n",
      "#0  0x00007fcf8486b43e in epoll_wait (epfd=12, events=0x7fcf7f4d21d0, maxevents=256, timeout=-1) at ../sysdeps/unix/sysv/linux/epoll_wait.c:30\n",
      "#1  0x00007fcf818b09ef in ?? () from /usr/local/lib/python3.8/dist-packages/zmq/backend/cython/../../../pyzmq.libs/libzmq-1358af2c.so.5.2.2\n",
      "#2  0x00007fcf818ce84f in ?? () from /usr/local/lib/python3.8/dist-packages/zmq/backend/cython/../../../pyzmq.libs/libzmq-1358af2c.so.5.2.2\n",
      "#3  0x00007fcf818fb6cc in ?? () from /usr/local/lib/python3.8/dist-packages/zmq/backend/cython/../../../pyzmq.libs/libzmq-1358af2c.so.5.2.2\n",
      "#4  0x00007fcf8472f609 in start_thread (arg=<optimized out>) at pthread_create.c:477\n",
      "#5  0x00007fcf8486b103 in clone () at ../sysdeps/unix/sysv/linux/x86_64/clone.S:95\n",
      "\n",
      "Thread 2 (Thread 0x7fcf7fcd4700 (LWP 8939)):\n",
      "#0  0x00007fcf8486b43e in epoll_wait (epfd=9, events=0x7fcf7fcd31d0, maxevents=256, timeout=-1) at ../sysdeps/unix/sysv/linux/epoll_wait.c:30\n",
      "#1  0x00007fcf818b09ef in ?? () from /usr/local/lib/python3.8/dist-packages/zmq/backend/cython/../../../pyzmq.libs/libzmq-1358af2c.so.5.2.2\n",
      "#2  0x00007fcf818ce84f in ?? () from /usr/local/lib/python3.8/dist-packages/zmq/backend/cython/../../../pyzmq.libs/libzmq-1358af2c.so.5.2.2\n",
      "#3  0x00007fcf818fb6cc in ?? () from /usr/local/lib/python3.8/dist-packages/zmq/backend/cython/../../../pyzmq.libs/libzmq-1358af2c.so.5.2.2\n",
      "#4  0x00007fcf8472f609 in start_thread (arg=<optimized out>) at pthread_create.c:477\n",
      "#5  0x00007fcf8486b103 in clone () at ../sysdeps/unix/sysv/linux/x86_64/clone.S:95\n",
      "\n",
      "Thread 1 (Thread 0x7fcf8457d740 (LWP 8937)):\n",
      "#0  0x00007fcf8482ec6f in __GI___wait4 (pid=9980, stat_loc=stat_loc\n",
      "entry=0x7ffc45856f08, options=options\n",
      "entry=0, usage=usage\n",
      "entry=0x0) at ../sysdeps/unix/sysv/linux/wait4.c:27\n",
      "#1  0x00007fcf8482ebeb in __GI___waitpid (pid=<optimized out>, stat_loc=stat_loc\n",
      "entry=0x7ffc45856f08, options=options\n",
      "entry=0) at waitpid.c:38\n",
      "#2  0x00007fcf8479e0e7 in do_system (line=<optimized out>) at ../sysdeps/posix/system.c:172\n",
      "#3  0x00007fcf67595e1e in TUnixSystem::StackTrace() () from /home/gianp/root/lib/libCore.so\n",
      "#4  0x00007fcf7c32a032 in (anonymous namespace)::TExceptionHandlerImp::HandleException(int) () from /home/gianp/root/lib/libcppyy_backend3_8.so\n",
      "#5  0x00007fcf67592b19 in TUnixSystem::DispatchSignals(ESignals) () from /home/gianp/root/lib/libCore.so\n",
      "#6  <signal handler called>\n",
      "#7  0x00007fcf50e29573 in asim_parse_argb_color () from /home/gianp/root/lib/libASImage.so\n",
      "#8  0x00007fcf50e7e877 in build_xpm_colormap () from /home/gianp/root/lib/libASImage.so\n",
      "#9  0x00007fcf50e5bdb6 in xpm2ASImage () from /home/gianp/root/lib/libASImage.so\n",
      "#10 0x00007fcf50e5d04f in file2ASImage_extra () from /home/gianp/root/lib/libASImage.so\n",
      "#11 0x00007fcf50e1ca25 in TASImage::ReadImage(char const*, TImage::EImageFileTypes) () from /home/gianp/root/lib/libASImage.so\n",
      "#12 0x00007fcf51de5deb in TImage::Open(char const*, TImage::EImageFileTypes) () from /home/gianp/root/lib/libGraf.so\n",
      "#13 0x00007fcf512f5e52 in TGPicturePool::GetPicture(char const*) () from /home/gianp/root/lib/libGui.so\n",
      "#14 0x00007fcf512ebc08 in TGNumberEntry::TGNumberEntry(TGWindow const*, double, int, int, TGNumberFormat::EStyle, TGNumberFormat::EAttribute, TGNumberFormat::ELimit, double, double) () from /home/gianp/root/lib/libGui.so\n",
      "#15 0x00007fcf515cb8cd in TMVA::StatDialogMVAEffs::StatDialogMVAEffs(TString, TGWindow const*, float, float) () from /home/gianp/root/lib/libTMVAGui.so\n",
      "#16 0x00007fcf515cdf92 in TMVA::mvaeffs(TString, TString, bool, TString) () from /home/gianp/root/lib/libTMVAGui.so\n",
      "#17 0x00007fcf509d71e7 in ?? ()\n",
      "#18 0x00007fcf82af1eb0 in ?? ()\n",
      "#19 0x00000000012e1a40 in ?? ()\n",
      "#20 0x00007fcf834d65f0 in ?? ()\n",
      "#21 0x00007fcf833f0065 in ?? ()\n",
      "#22 0x00007fcf833f0060 in ?? ()\n",
      "#23 0x0000000000000001 in ?? ()\n",
      "#24 0x00007fcf832fc700 in ?? ()\n",
      "#25 0x00007ffc4585a100 in ?? ()\n",
      "#26 0x00000000005f19e0 in ?? ()\n",
      "#27 0x0000000000000000 in ?? ()\n",
      "===========================================================\n",
      "\n",
      "\n",
      "The lines below might hint at the cause of the crash.\n",
      "You may get help by asking at the ROOT forum http://root.cern.ch/forum\n",
      "Only if you are really convinced it is a bug in ROOT then please submit a\n",
      "report at http://root.cern.ch/bugs Please post the ENTIRE stack trace\n",
      "from above as an attachment in addition to anything else\n",
      "that might help us fixing this issue.\n",
      "===========================================================\n",
      "#7  0x00007fcf50e29573 in asim_parse_argb_color () from /home/gianp/root/lib/libASImage.so\n",
      "#8  0x00007fcf50e7e877 in build_xpm_colormap () from /home/gianp/root/lib/libASImage.so\n",
      "#9  0x00007fcf50e5bdb6 in xpm2ASImage () from /home/gianp/root/lib/libASImage.so\n",
      "#10 0x00007fcf50e5d04f in file2ASImage_extra () from /home/gianp/root/lib/libASImage.so\n",
      "#11 0x00007fcf50e1ca25 in TASImage::ReadImage(char const*, TImage::EImageFileTypes) () from /home/gianp/root/lib/libASImage.so\n",
      "#12 0x00007fcf51de5deb in TImage::Open(char const*, TImage::EImageFileTypes) () from /home/gianp/root/lib/libGraf.so\n",
      "#13 0x00007fcf512f5e52 in TGPicturePool::GetPicture(char const*) () from /home/gianp/root/lib/libGui.so\n",
      "#14 0x00007fcf512ebc08 in TGNumberEntry::TGNumberEntry(TGWindow const*, double, int, int, TGNumberFormat::EStyle, TGNumberFormat::EAttribute, TGNumberFormat::ELimit, double, double) () from /home/gianp/root/lib/libGui.so\n",
      "#15 0x00007fcf515cb8cd in TMVA::StatDialogMVAEffs::StatDialogMVAEffs(TString, TGWindow const*, float, float) () from /home/gianp/root/lib/libTMVAGui.so\n",
      "#16 0x00007fcf515cdf92 in TMVA::mvaeffs(TString, TString, bool, TString) () from /home/gianp/root/lib/libTMVAGui.so\n",
      "#17 0x00007fcf509d71e7 in ?? ()\n",
      "#18 0x00007fcf82af1eb0 in ?? ()\n",
      "#19 0x00000000012e1a40 in ?? ()\n",
      "#20 0x00007fcf834d65f0 in ?? ()\n",
      "#21 0x00007fcf833f0065 in ?? ()\n",
      "#22 0x00007fcf833f0060 in ?? ()\n",
      "#23 0x0000000000000001 in ?? ()\n",
      "#24 0x00007fcf832fc700 in ?? ()\n",
      "#25 0x00007ffc4585a100 in ?? ()\n",
      "#26 0x00000000005f19e0 in ?? ()\n",
      "#27 0x0000000000000000 in ?? ()\n",
      "===========================================================\n",
      "\n",
      "\n"
     ]
    }
   ],
   "source": [
    "ROOT.TMVA.mvaeffs(\"dataset\", \"TMVA_output_8_12.root\")"
   ]
  },
  {
   "cell_type": "code",
   "execution_count": null,
   "metadata": {},
   "outputs": [],
   "source": []
  }
 ],
 "metadata": {
  "kernelspec": {
   "display_name": "Python 3",
   "language": "python",
   "name": "python3"
  },
  "language_info": {
   "codemirror_mode": {
    "name": "ipython",
    "version": 3
   },
   "file_extension": ".py",
   "mimetype": "text/x-python",
   "name": "python",
   "nbconvert_exporter": "python",
   "pygments_lexer": "ipython3",
   "version": "3.8.2"
  }
 },
 "nbformat": 4,
 "nbformat_minor": 4
}
