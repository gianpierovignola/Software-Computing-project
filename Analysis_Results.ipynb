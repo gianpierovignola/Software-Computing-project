{
 "cells": [
  {
   "cell_type": "code",
   "execution_count": 1,
   "metadata": {},
   "outputs": [
    {
     "name": "stdout",
     "output_type": "stream",
     "text": [
      "Welcome to JupyROOT 6.22/03\n"
     ]
    }
   ],
   "source": [
    "import ROOT\n",
    "import functions\n",
    "from IPython.display import Image\n",
    "# You may want this if you'd like your ROOT plots to be interactive in the notebook.\n",
    "%jsroot on\n",
    "#ROOT.TMVA.TMVAGui('TMVA_output_6_8.root')"
   ]
  },
  {
   "cell_type": "code",
   "execution_count": 2,
   "metadata": {},
   "outputs": [
    {
     "name": "stderr",
     "output_type": "stream",
     "text": [
      "Warning in <TClass::Init>: no dictionary for class AliRDHFCutsLctoV0 is available\n",
      "Warning in <TClass::Init>: no dictionary for class AliRDHFCuts is available\n",
      "Warning in <TClass::Init>: no dictionary for class AliAnalysisCuts is available\n",
      "Warning in <TClass::Init>: no dictionary for class AliVCuts is available\n",
      "Warning in <TClass::Init>: no dictionary for class AliESDtrackCuts is available\n",
      "Warning in <TClass::Init>: no dictionary for class AliAODPidHF is available\n",
      "Warning in <TClass::Init>: no dictionary for class AliAnalysisUtils is available\n",
      "Warning in <TClass::Init>: no dictionary for class AliEventCuts is available\n",
      "Warning in <TClass::Init>: no dictionary for class AliNormalizationCounter is available\n",
      "Warning in <TClass::Init>: no dictionary for class AliCounterCollection is available\n",
      "Info in <TCanvas::SaveAs>: ROOT file canvas.root has been created\n"
     ]
    }
   ],
   "source": [
    "functions.Plot_Input_Variables()\n",
    "#mycanvas.Draw()"
   ]
  },
  {
   "cell_type": "code",
   "execution_count": 3,
   "metadata": {},
   "outputs": [
    {
     "data": {
      "text/html": [
       "\n",
       "<div id=\"root_plot_1600716925555\"\n",
       "     style=\"width: 892px; height: 1544px\">\n",
       "</div>\n",
       "<script src=\"/static/components/requirejs/require.js\" type=\"text/javascript\" charset=\"utf-8\"></script>\n",
       "<script>\n",
       " requirejs.config({\n",
       "     paths: {\n",
       "       'JSRootCore' : '/static/scripts/JSRootCore',\n",
       "     }\n",
       "   });\n",
       " require(['JSRootCore'],\n",
       "     function(Core) {\n",
       "       var obj = Core.JSONR_unref({\"_typename\":\"TCanvas\",\"fUniqueID\":0,\"fBits\":3342344,\"fLineColor\":1,\"fLineStyle\":1,\"fLineWidth\":1,\"fFillColor\":0,\"fFillStyle\":1001,\"fLeftMargin\":0.1,\"fRightMargin\":0.1,\"fBottomMargin\":0.1,\"fTopMargin\":0.1,\"fXfile\":2,\"fYfile\":2,\"fAfile\":1,\"fXstat\":0.99,\"fYstat\":0.99,\"fAstat\":2,\"fFrameFillColor\":0,\"fFrameLineColor\":1,\"fFrameFillStyle\":1001,\"fFrameLineStyle\":1,\"fFrameLineWidth\":1,\"fFrameBorderSize\":1,\"fFrameBorderMode\":0,\"fX1\":0,\"fY1\":0,\"fX2\":1,\"fY2\":1,\"fXtoAbsPixelk\":5e-5,\"fXtoPixelk\":5e-5,\"fXtoPixel\":892,\"fYtoAbsPixelk\":1544.00005,\"fYtoPixelk\":1544.00005,\"fYtoPixel\":-1544,\"fUtoAbsPixelk\":5e-5,\"fUtoPixelk\":5e-5,\"fUtoPixel\":892,\"fVtoAbsPixelk\":1544.00005,\"fVtoPixelk\":1544,\"fVtoPixel\":-1544,\"fAbsPixeltoXk\":0,\"fPixeltoXk\":0,\"fPixeltoX\":0.00112107623318386,\"fAbsPixeltoYk\":1,\"fPixeltoYk\":0,\"fPixeltoY\":-6.47668393782383e-4,\"fXlowNDC\":0,\"fYlowNDC\":0,\"fXUpNDC\":1,\"fYUpNDC\":1,\"fWNDC\":1,\"fHNDC\":1,\"fAbsXlowNDC\":0,\"fAbsYlowNDC\":0,\"fAbsWNDC\":1,\"fAbsHNDC\":1,\"fUxmin\":0,\"fUymin\":0,\"fUxmax\":1,\"fUymax\":1,\"fTheta\":30,\"fPhi\":30,\"fAspectRatio\":0,\"fNumber\":0,\"fTickx\":0,\"fTicky\":0,\"fLogx\":0,\"fLogy\":0,\"fLogz\":0,\"fPadPaint\":0,\"fCrosshair\":0,\"fCrosshairPos\":0,\"fBorderSize\":2,\"fBorderMode\":0,\"fModified\":true,\"fGridx\":false,\"fGridy\":false,\"fAbsCoord\":false,\"fEditable\":true,\"fFixedAspectRatio\":false,\"fPrimitives\":{\"_typename\":\"TList\",\"name\":\"TList\",\"arr\":[{\"_typename\":\"TPad\",\"fUniqueID\":0,\"fBits\":9,\"fLineColor\":1,\"fLineStyle\":1,\"fLineWidth\":1,\"fFillColor\":0,\"fFillStyle\":1001,\"fLeftMargin\":0.1,\"fRightMargin\":0.1,\"fBottomMargin\":0.1,\"fTopMargin\":0.1,\"fXfile\":2,\"fYfile\":2,\"fAfile\":1,\"fXstat\":0.99,\"fYstat\":0.99,\"fAstat\":2,\"fFrameFillColor\":0,\"fFrameLineColor\":1,\"fFrameFillStyle\":1001,\"fFrameLineStyle\":1,\"fFrameLineWidth\":1,\"fFrameBorderSize\":1,\"fFrameBorderMode\":0,\"fX1\":0,\"fY1\":0,\"fX2\":1,\"fY2\":1,\"fXtoAbsPixelk\":8.92004980062246,\"fXtoPixelk\":5e-5,\"fXtoPixel\":428.160000398755,\"fYtoAbsPixelk\":370.560050345111,\"fYtoPixelk\":355.120050690222,\"fYtoPixel\":-355.120000690222,\"fUtoAbsPixelk\":8.92004980062246,\"fUtoPixelk\":5e-5,\"fUtoPixel\":428.160000398755,\"fVtoAbsPixelk\":370.560050345111,\"fVtoPixelk\":355.120000690222,\"fVtoPixel\":-355.120000690222,\"fAbsPixeltoXk\":-0.0208333328482695,\"fPixeltoXk\":0,\"fPixeltoX\":0.00233557548362453,\"fAbsPixeltoYk\":1.04347825981324,\"fPixeltoYk\":0,\"fPixeltoY\":-0.00281594953271111,\"fXlowNDC\":0.00999999977648258,\"fYlowNDC\":0.759999999776483,\"fXUpNDC\":0.490000000223517,\"fYUpNDC\":0.990000000223517,\"fWNDC\":0.480000000447035,\"fHNDC\":0.230000000447035,\"fAbsXlowNDC\":0.00999999977648258,\"fAbsYlowNDC\":0.759999999776483,\"fAbsWNDC\":0.480000000447035,\"fAbsHNDC\":0.230000000447035,\"fUxmin\":0,\"fUymin\":0,\"fUxmax\":1,\"fUymax\":1,\"fTheta\":30,\"fPhi\":30,\"fAspectRatio\":0,\"fNumber\":1,\"fTickx\":0,\"fTicky\":0,\"fLogx\":0,\"fLogy\":0,\"fLogz\":0,\"fPadPaint\":0,\"fCrosshair\":0,\"fCrosshairPos\":0,\"fBorderSize\":2,\"fBorderMode\":0,\"fModified\":true,\"fGridx\":false,\"fGridy\":false,\"fAbsCoord\":false,\"fEditable\":true,\"fFixedAspectRatio\":false,\"fPrimitives\":{\"_typename\":\"TList\",\"name\":\"TList\",\"arr\":[{\"_typename\":\"TH1F\",\"fUniqueID\":0,\"fBits\":513,\"fName\":\"massK0S_Signal\",\"fTitle\":\"massK0S\",\"fLineColor\":4,\"fLineStyle\":1,\"fLineWidth\":2,\"fFillColor\":4,\"fFillStyle\":3004,\"fMarkerColor\":1,\"fMarkerStyle\":1,\"fMarkerSize\":1,\"fNcells\":102,\"fXaxis\":{\"_typename\":\"TAxis\",\"fUniqueID\":0,\"fBits\":0,\"fName\":\"xaxis\",\"fTitle\":\"\",\"fNdivisions\":510,\"fAxisColor\":1,\"fLabelColor\":1,\"fLabelFont\":42,\"fLabelOffset\":0.005,\"fLabelSize\":0.035,\"fTickLength\":0.03,\"fTitleOffset\":1,\"fTitleSize\":0.035,\"fTitleColor\":1,\"fTitleFont\":42,\"fNbins\":100,\"fXmin\":0.486,\"fXmax\":0.508,\"fXbins\":[],\"fFirst\":0,\"fLast\":0,\"fBits2\":0,\"fTimeDisplay\":false,\"fTimeFormat\":\"\",\"fLabels\":null,\"fModLabs\":null},\"fYaxis\":{\"_typename\":\"TAxis\",\"fUniqueID\":0,\"fBits\":0,\"fName\":\"yaxis\",\"fTitle\":\"\",\"fNdivisions\":510,\"fAxisColor\":1,\"fLabelColor\":1,\"fLabelFont\":42,\"fLabelOffset\":0.005,\"fLabelSize\":0.035,\"fTickLength\":0.03,\"fTitleOffset\":0,\"fTitleSize\":0.035,\"fTitleColor\":1,\"fTitleFont\":42,\"fNbins\":1,\"fXmin\":0,\"fXmax\":1,\"fXbins\":[],\"fFirst\":0,\"fLast\":0,\"fBits2\":0,\"fTimeDisplay\":false,\"fTimeFormat\":\"\",\"fLabels\":null,\"fModLabs\":null},\"fZaxis\":{\"_typename\":\"TAxis\",\"fUniqueID\":0,\"fBits\":0,\"fName\":\"zaxis\",\"fTitle\":\"\",\"fNdivisions\":510,\"fAxisColor\":1,\"fLabelColor\":1,\"fLabelFont\":42,\"fLabelOffset\":0.005,\"fLabelSize\":0.035,\"fTickLength\":0.03,\"fTitleOffset\":1,\"fTitleSize\":0.035,\"fTitleColor\":1,\"fTitleFont\":42,\"fNbins\":1,\"fXmin\":0,\"fXmax\":1,\"fXbins\":[],\"fFirst\":0,\"fLast\":0,\"fBits2\":0,\"fTimeDisplay\":false,\"fTimeFormat\":\"\",\"fLabels\":null,\"fModLabs\":null},\"fBarOffset\":0,\"fBarWidth\":1000,\"fEntries\":1762028,\"fTsumw\":1762028,\"fTsumw2\":1762028,\"fTsumwx\":877480.15917176,\"fTsumwx2\":437004.947244112,\"fMaximum\":-1111,\"fMinimum\":-1111,\"fNormFactor\":0,\"fContour\":[],\"fSumw2\":[],\"fOption\":\"\",\"fFunctions\":{\"_typename\":\"TList\",\"name\":\"TList\",\"arr\":[],\"opt\":[]},\"fBufferSize\":0,\"fBuffer\":[],\"fBinStatErrOpt\":0,\"fStatOverflows\":2,\"fArray\":[0,0,0,0,0,0,0,0,1507,2488,2634,2872,3063,3220,3611,3853,4089,4387,4866,5185,5660,5941,6610,7114,7759,8563,9223,10104,10861,11746,12596,13840,15177,16324,17494,18678,20307,21655,23525,25054,26490,28359,29617,31485,32800,34465,36068,37130,38644,39804,40555,41634,42251,42722,43240,43303,43251,43223,42203,41443,40959,39758,38703,37539,36395,34697,33208,31263,29944,28409,26759,25518,23723,22372,21073,19546,18004,16758,15649,14494,13361,12192,11533,10500,9912,8929,8366,7696,7273,6650,6041,5651,5263,4801,4536,4227,3886,3577,3366,804,0,0]},{\"_typename\":\"TH1F\",\"fUniqueID\":0,\"fBits\":513,\"fName\":\"massK0S_Background\",\"fTitle\":\"\",\"fLineColor\":2,\"fLineStyle\":1,\"fLineWidth\":2,\"fFillColor\":2,\"fFillStyle\":3005,\"fMarkerColor\":1,\"fMarkerStyle\":1,\"fMarkerSize\":1,\"fNcells\":102,\"fXaxis\":{\"_typename\":\"TAxis\",\"fUniqueID\":0,\"fBits\":0,\"fName\":\"xaxis\",\"fTitle\":\"\",\"fNdivisions\":510,\"fAxisColor\":1,\"fLabelColor\":1,\"fLabelFont\":42,\"fLabelOffset\":0.005,\"fLabelSize\":0.035,\"fTickLength\":0.03,\"fTitleOffset\":1,\"fTitleSize\":0.035,\"fTitleColor\":1,\"fTitleFont\":42,\"fNbins\":100,\"fXmin\":0.486,\"fXmax\":0.508,\"fXbins\":[],\"fFirst\":0,\"fLast\":0,\"fBits2\":0,\"fTimeDisplay\":false,\"fTimeFormat\":\"\",\"fLabels\":null,\"fModLabs\":null},\"fYaxis\":{\"_typename\":\"TAxis\",\"fUniqueID\":0,\"fBits\":0,\"fName\":\"yaxis\",\"fTitle\":\"\",\"fNdivisions\":510,\"fAxisColor\":1,\"fLabelColor\":1,\"fLabelFont\":42,\"fLabelOffset\":0.005,\"fLabelSize\":0.035,\"fTickLength\":0.03,\"fTitleOffset\":0,\"fTitleSize\":0.035,\"fTitleColor\":1,\"fTitleFont\":42,\"fNbins\":1,\"fXmin\":0,\"fXmax\":1,\"fXbins\":[],\"fFirst\":0,\"fLast\":0,\"fBits2\":0,\"fTimeDisplay\":false,\"fTimeFormat\":\"\",\"fLabels\":null,\"fModLabs\":null},\"fZaxis\":{\"_typename\":\"TAxis\",\"fUniqueID\":0,\"fBits\":0,\"fName\":\"zaxis\",\"fTitle\":\"\",\"fNdivisions\":510,\"fAxisColor\":1,\"fLabelColor\":1,\"fLabelFont\":42,\"fLabelOffset\":0.005,\"fLabelSize\":0.035,\"fTickLength\":0.03,\"fTitleOffset\":1,\"fTitleSize\":0.035,\"fTitleColor\":1,\"fTitleFont\":42,\"fNbins\":1,\"fXmin\":0,\"fXmax\":1,\"fXbins\":[],\"fFirst\":0,\"fLast\":0,\"fBits2\":0,\"fTimeDisplay\":false,\"fTimeFormat\":\"\",\"fLabels\":null,\"fModLabs\":null},\"fBarOffset\":0,\"fBarWidth\":1000,\"fEntries\":1473789,\"fTsumw\":1473789,\"fTsumw2\":1473789,\"fTsumwx\":733807.826573938,\"fTsumwx2\":365387.96475335,\"fMaximum\":-1111,\"fMinimum\":-1111,\"fNormFactor\":0,\"fContour\":[],\"fSumw2\":[],\"fOption\":\"\",\"fFunctions\":{\"_typename\":\"TList\",\"name\":\"TList\",\"arr\":[],\"opt\":[]},\"fBufferSize\":0,\"fBuffer\":[],\"fBinStatErrOpt\":0,\"fStatOverflows\":2,\"fArray\":[0,0,0,0,0,0,0,0,1475,2443,2691,2715,2832,2989,3197,3464,3661,3893,4394,4600,4919,5290,5795,6199,6725,7277,8161,8565,9340,9994,10859,12013,13009,13931,14881,15952,17307,18883,20149,21039,22748,23779,25459,26708,28204,29468,30586,31700,32433,33802,34867,35279,35410,35978,36114,36294,36318,35581,35051,34368,33867,32735,31917,30585,29736,28430,26890,25837,24157,23463,21626,20590,19029,17787,16931,15413,14739,13473,12471,11633,10648,10120,9390,8360,7875,7341,6964,6308,5808,5402,4965,4682,4493,4035,3777,3511,3265,3054,3009,684,0,0]}],\"opt\":[\"\",\"same\"]},\"fExecs\":{\"_typename\":\"TList\",\"name\":\"TList\",\"arr\":[],\"opt\":[]},\"fName\":\"c1_1\",\"fTitle\":\"c1_1\",\"fNumPaletteColor\":0,\"fNextPaletteColor\":0},{\"_typename\":\"TPad\",\"fUniqueID\":0,\"fBits\":9,\"fLineColor\":1,\"fLineStyle\":1,\"fLineWidth\":1,\"fFillColor\":0,\"fFillStyle\":1001,\"fLeftMargin\":0.1,\"fRightMargin\":0.1,\"fBottomMargin\":0.1,\"fTopMargin\":0.1,\"fXfile\":2,\"fYfile\":2,\"fAfile\":1,\"fXstat\":0.99,\"fYstat\":0.99,\"fAstat\":2,\"fFrameFillColor\":0,\"fFrameLineColor\":1,\"fFrameFillStyle\":1001,\"fFrameLineStyle\":1,\"fFrameLineWidth\":1,\"fFrameBorderSize\":1,\"fFrameBorderMode\":0,\"fX1\":0,\"fY1\":0,\"fX2\":1,\"fY2\":1,\"fXtoAbsPixelk\":454.920049800622,\"fXtoPixelk\":5e-5,\"fXtoPixel\":428.160000398755,\"fYtoAbsPixelk\":370.560050345111,\"fYtoPixelk\":355.120050690222,\"fYtoPixel\":-355.120000690222,\"fUtoAbsPixelk\":454.920049800622,\"fUtoPixelk\":5e-5,\"fUtoPixel\":428.160000398755,\"fVtoAbsPixelk\":370.560050345111,\"fVtoPixelk\":355.120000690222,\"fVtoPixel\":-355.120000690222,\"fAbsPixeltoXk\":-1.06249999854481,\"fPixeltoXk\":0,\"fPixeltoX\":0.00233557548362453,\"fAbsPixeltoYk\":1.04347825981324,\"fPixeltoYk\":0,\"fPixeltoY\":-0.00281594953271111,\"fXlowNDC\":0.509999999776483,\"fYlowNDC\":0.759999999776483,\"fXUpNDC\":0.990000000223517,\"fYUpNDC\":0.990000000223517,\"fWNDC\":0.480000000447035,\"fHNDC\":0.230000000447035,\"fAbsXlowNDC\":0.509999999776483,\"fAbsYlowNDC\":0.759999999776483,\"fAbsWNDC\":0.480000000447035,\"fAbsHNDC\":0.230000000447035,\"fUxmin\":0,\"fUymin\":0,\"fUxmax\":1,\"fUymax\":1,\"fTheta\":30,\"fPhi\":30,\"fAspectRatio\":0,\"fNumber\":2,\"fTickx\":0,\"fTicky\":0,\"fLogx\":0,\"fLogy\":0,\"fLogz\":0,\"fPadPaint\":0,\"fCrosshair\":0,\"fCrosshairPos\":0,\"fBorderSize\":2,\"fBorderMode\":0,\"fModified\":true,\"fGridx\":false,\"fGridy\":false,\"fAbsCoord\":false,\"fEditable\":true,\"fFixedAspectRatio\":false,\"fPrimitives\":{\"_typename\":\"TList\",\"name\":\"TList\",\"arr\":[{\"_typename\":\"TH1F\",\"fUniqueID\":0,\"fBits\":513,\"fName\":\"CosThetaStar_Signal\",\"fTitle\":\"CosThetaStar\",\"fLineColor\":4,\"fLineStyle\":1,\"fLineWidth\":2,\"fFillColor\":4,\"fFillStyle\":3004,\"fMarkerColor\":1,\"fMarkerStyle\":1,\"fMarkerSize\":1,\"fNcells\":102,\"fXaxis\":{\"_typename\":\"TAxis\",\"fUniqueID\":0,\"fBits\":0,\"fName\":\"xaxis\",\"fTitle\":\"\",\"fNdivisions\":510,\"fAxisColor\":1,\"fLabelColor\":1,\"fLabelFont\":42,\"fLabelOffset\":0.005,\"fLabelSize\":0.035,\"fTickLength\":0.03,\"fTitleOffset\":1,\"fTitleSize\":0.035,\"fTitleColor\":1,\"fTitleFont\":42,\"fNbins\":100,\"fXmin\":-1.05,\"fXmax\":1.05,\"fXbins\":[],\"fFirst\":0,\"fLast\":0,\"fBits2\":0,\"fTimeDisplay\":false,\"fTimeFormat\":\"\",\"fLabels\":null,\"fModLabs\":null},\"fYaxis\":{\"_typename\":\"TAxis\",\"fUniqueID\":0,\"fBits\":0,\"fName\":\"yaxis\",\"fTitle\":\"\",\"fNdivisions\":510,\"fAxisColor\":1,\"fLabelColor\":1,\"fLabelFont\":42,\"fLabelOffset\":0.005,\"fLabelSize\":0.035,\"fTickLength\":0.03,\"fTitleOffset\":0,\"fTitleSize\":0.035,\"fTitleColor\":1,\"fTitleFont\":42,\"fNbins\":1,\"fXmin\":0,\"fXmax\":1,\"fXbins\":[],\"fFirst\":0,\"fLast\":0,\"fBits2\":0,\"fTimeDisplay\":false,\"fTimeFormat\":\"\",\"fLabels\":null,\"fModLabs\":null},\"fZaxis\":{\"_typename\":\"TAxis\",\"fUniqueID\":0,\"fBits\":0,\"fName\":\"zaxis\",\"fTitle\":\"\",\"fNdivisions\":510,\"fAxisColor\":1,\"fLabelColor\":1,\"fLabelFont\":42,\"fLabelOffset\":0.005,\"fLabelSize\":0.035,\"fTickLength\":0.03,\"fTitleOffset\":1,\"fTitleSize\":0.035,\"fTitleColor\":1,\"fTitleFont\":42,\"fNbins\":1,\"fXmin\":0,\"fXmax\":1,\"fXbins\":[],\"fFirst\":0,\"fLast\":0,\"fBits2\":0,\"fTimeDisplay\":false,\"fTimeFormat\":\"\",\"fLabels\":null,\"fModLabs\":null},\"fBarOffset\":0,\"fBarWidth\":1000,\"fEntries\":1762028,\"fTsumw\":1762028,\"fTsumw2\":1762028,\"fTsumwx\":-285980.161019036,\"fTsumwx2\":503727.681795053,\"fMaximum\":-1111,\"fMinimum\":-1111,\"fNormFactor\":0,\"fContour\":[],\"fSumw2\":[],\"fOption\":\"\",\"fFunctions\":{\"_typename\":\"TList\",\"name\":\"TList\",\"arr\":[],\"opt\":[]},\"fBufferSize\":0,\"fBuffer\":[],\"fBinStatErrOpt\":0,\"fStatOverflows\":2,\"fArray\":[0,0,0,9395,17315,18856,21170,22814,23557,23781,23572,24132,23955,24239,24108,24174,24205,24017,24202,24094,24261,24396,24033,23951,23805,23954,23899,23770,23774,23688,24005,23424,23470,23707,23158,23072,22981,23308,23080,22864,22654,22556,22478,22358,21962,22237,22116,21632,21654,21358,21504,20892,20841,20759,20701,20330,20266,19983,19767,19607,19712,19087,18808,18756,18435,18090,17756,17555,17223,17155,16791,16492,16216,15757,15340,15142,14873,14516,14191,13569,13228,12790,12305,11741,11457,10911,10403,9735,9187,8643,8023,7489,6698,5781,4847,3533,2129,1334,489,0,0,0]},{\"_typename\":\"TH1F\",\"fUniqueID\":0,\"fBits\":513,\"fName\":\"CosThetaStar_Background\",\"fTitle\":\"\",\"fLineColor\":2,\"fLineStyle\":1,\"fLineWidth\":2,\"fFillColor\":2,\"fFillStyle\":3005,\"fMarkerColor\":1,\"fMarkerStyle\":1,\"fMarkerSize\":1,\"fNcells\":102,\"fXaxis\":{\"_typename\":\"TAxis\",\"fUniqueID\":0,\"fBits\":0,\"fName\":\"xaxis\",\"fTitle\":\"\",\"fNdivisions\":510,\"fAxisColor\":1,\"fLabelColor\":1,\"fLabelFont\":42,\"fLabelOffset\":0.005,\"fLabelSize\":0.035,\"fTickLength\":0.03,\"fTitleOffset\":1,\"fTitleSize\":0.035,\"fTitleColor\":1,\"fTitleFont\":42,\"fNbins\":100,\"fXmin\":-1.05,\"fXmax\":1.05,\"fXbins\":[],\"fFirst\":0,\"fLast\":0,\"fBits2\":0,\"fTimeDisplay\":false,\"fTimeFormat\":\"\",\"fLabels\":null,\"fModLabs\":null},\"fYaxis\":{\"_typename\":\"TAxis\",\"fUniqueID\":0,\"fBits\":0,\"fName\":\"yaxis\",\"fTitle\":\"\",\"fNdivisions\":510,\"fAxisColor\":1,\"fLabelColor\":1,\"fLabelFont\":42,\"fLabelOffset\":0.005,\"fLabelSize\":0.035,\"fTickLength\":0.03,\"fTitleOffset\":0,\"fTitleSize\":0.035,\"fTitleColor\":1,\"fTitleFont\":42,\"fNbins\":1,\"fXmin\":0,\"fXmax\":1,\"fXbins\":[],\"fFirst\":0,\"fLast\":0,\"fBits2\":0,\"fTimeDisplay\":false,\"fTimeFormat\":\"\",\"fLabels\":null,\"fModLabs\":null},\"fZaxis\":{\"_typename\":\"TAxis\",\"fUniqueID\":0,\"fBits\":0,\"fName\":\"zaxis\",\"fTitle\":\"\",\"fNdivisions\":510,\"fAxisColor\":1,\"fLabelColor\":1,\"fLabelFont\":42,\"fLabelOffset\":0.005,\"fLabelSize\":0.035,\"fTickLength\":0.03,\"fTitleOffset\":1,\"fTitleSize\":0.035,\"fTitleColor\":1,\"fTitleFont\":42,\"fNbins\":1,\"fXmin\":0,\"fXmax\":1,\"fXbins\":[],\"fFirst\":0,\"fLast\":0,\"fBits2\":0,\"fTimeDisplay\":false,\"fTimeFormat\":\"\",\"fLabels\":null,\"fModLabs\":null},\"fBarOffset\":0,\"fBarWidth\":1000,\"fEntries\":1473789,\"fTsumw\":1473789,\"fTsumw2\":1473789,\"fTsumwx\":-205383.98192444,\"fTsumwx2\":461577.459362528,\"fMaximum\":-1111,\"fMinimum\":-1111,\"fNormFactor\":0,\"fContour\":[],\"fSumw2\":[],\"fOption\":\"\",\"fFunctions\":{\"_typename\":\"TList\",\"name\":\"TList\",\"arr\":[],\"opt\":[]},\"fBufferSize\":0,\"fBuffer\":[],\"fBinStatErrOpt\":0,\"fStatOverflows\":2,\"fArray\":[0,0,0,12162,19539,20986,22685,23247,22838,21728,20816,19845,19166,18903,18524,18047,17729,17744,17459,17334,17182,17246,17080,17355,17183,17528,17435,17692,18069,17890,18233,18340,18702,19092,18990,19223,19047,19261,19502,19380,19030,19083,19036,18737,18758,18489,18236,17976,17541,17420,17326,16920,16515,16337,16109,15571,15344,15430,15169,14740,14590,14341,14207,14047,13753,13644,13509,13159,13268,13111,12962,12803,12694,12292,12417,12235,12331,12154,12114,11853,11956,11803,11731,11594,11449,11467,11343,11144,11198,10878,10691,10170,9930,9098,8058,6097,3684,2153,912,0,0,0]},{\"_typename\":\"TLegend\",\"fUniqueID\":0,\"fBits\":9,\"fLineColor\":1,\"fLineStyle\":1,\"fLineWidth\":1,\"fFillColor\":0,\"fFillStyle\":1001,\"fX1\":0.7,\"fY1\":0.7,\"fX2\":1,\"fY2\":0.9,\"fX1NDC\":0,\"fY1NDC\":0,\"fX2NDC\":0,\"fY2NDC\":0,\"fBorderSize\":1,\"fInit\":0,\"fShadowColor\":1,\"fCornerRadius\":0,\"fOption\":\"brNDC\",\"fName\":\"TPave\",\"fTextAngle\":0,\"fTextSize\":0,\"fTextAlign\":12,\"fTextColor\":1,\"fTextFont\":42,\"fPrimitives\":{\"_typename\":\"TList\",\"name\":\"TList\",\"arr\":[{\"_typename\":\"TLegendEntry\",\"fUniqueID\":0,\"fBits\":0,\"fTextAngle\":0,\"fTextSize\":0,\"fTextAlign\":0,\"fTextColor\":0,\"fTextFont\":0,\"fLineColor\":1,\"fLineStyle\":1,\"fLineWidth\":1,\"fFillColor\":0,\"fFillStyle\":0,\"fMarkerColor\":1,\"fMarkerStyle\":21,\"fMarkerSize\":1,\"fObject\":{\"$ref\":4},\"fLabel\":\"Signal\",\"fOption\":\"f\"},{\"_typename\":\"TLegendEntry\",\"fUniqueID\":0,\"fBits\":0,\"fTextAngle\":0,\"fTextSize\":0,\"fTextAlign\":0,\"fTextColor\":0,\"fTextFont\":0,\"fLineColor\":1,\"fLineStyle\":1,\"fLineWidth\":1,\"fFillColor\":0,\"fFillStyle\":0,\"fMarkerColor\":1,\"fMarkerStyle\":21,\"fMarkerSize\":1,\"fObject\":{\"$ref\":9},\"fLabel\":\"Background\",\"fOption\":\"f\"}],\"opt\":[\"f\",\"f\"]},\"fEntrySeparation\":0.1,\"fMargin\":0.25,\"fNColumns\":1,\"fColumnSeparation\":0}],\"opt\":[\"\",\"same\",\"same\"]},\"fExecs\":{\"_typename\":\"TList\",\"name\":\"TList\",\"arr\":[],\"opt\":[]},\"fName\":\"c1_2\",\"fTitle\":\"c1_2\",\"fNumPaletteColor\":0,\"fNextPaletteColor\":0},{\"_typename\":\"TPad\",\"fUniqueID\":0,\"fBits\":9,\"fLineColor\":1,\"fLineStyle\":1,\"fLineWidth\":1,\"fFillColor\":0,\"fFillStyle\":1001,\"fLeftMargin\":0.1,\"fRightMargin\":0.1,\"fBottomMargin\":0.1,\"fTopMargin\":0.1,\"fXfile\":2,\"fYfile\":2,\"fAfile\":1,\"fXstat\":0.99,\"fYstat\":0.99,\"fAstat\":2,\"fFrameFillColor\":0,\"fFrameLineColor\":1,\"fFrameFillStyle\":1001,\"fFrameLineStyle\":1,\"fFrameLineWidth\":1,\"fFrameBorderSize\":1,\"fFrameBorderMode\":0,\"fX1\":0,\"fY1\":0,\"fX2\":1,\"fY2\":1,\"fXtoAbsPixelk\":8.92004980062246,\"fXtoPixelk\":5e-5,\"fXtoPixel\":428.160000398755,\"fYtoAbsPixelk\":756.560050345111,\"fYtoPixelk\":355.120050690222,\"fYtoPixel\":-355.120000690222,\"fUtoAbsPixelk\":8.92004980062246,\"fUtoPixelk\":5e-5,\"fUtoPixel\":428.160000398755,\"fVtoAbsPixelk\":756.560050345111,\"fVtoPixelk\":355.120000690222,\"fVtoPixel\":-355.120000690222,\"fAbsPixeltoXk\":-0.0208333328482695,\"fPixeltoXk\":0,\"fPixeltoX\":0.00233557548362453,\"fAbsPixeltoYk\":2.13043477943973,\"fPixeltoYk\":0,\"fPixeltoY\":-0.00281594953271111,\"fXlowNDC\":0.00999999977648258,\"fYlowNDC\":0.509999999776483,\"fXUpNDC\":0.490000000223517,\"fYUpNDC\":0.740000000223517,\"fWNDC\":0.480000000447035,\"fHNDC\":0.230000000447035,\"fAbsXlowNDC\":0.00999999977648258,\"fAbsYlowNDC\":0.509999999776483,\"fAbsWNDC\":0.480000000447035,\"fAbsHNDC\":0.230000000447035,\"fUxmin\":0,\"fUymin\":0,\"fUxmax\":1,\"fUymax\":1,\"fTheta\":30,\"fPhi\":30,\"fAspectRatio\":0,\"fNumber\":3,\"fTickx\":0,\"fTicky\":0,\"fLogx\":0,\"fLogy\":0,\"fLogz\":0,\"fPadPaint\":0,\"fCrosshair\":0,\"fCrosshairPos\":0,\"fBorderSize\":2,\"fBorderMode\":0,\"fModified\":true,\"fGridx\":false,\"fGridy\":false,\"fAbsCoord\":false,\"fEditable\":true,\"fFixedAspectRatio\":false,\"fPrimitives\":{\"_typename\":\"TList\",\"name\":\"TList\",\"arr\":[{\"_typename\":\"TH1F\",\"fUniqueID\":0,\"fBits\":513,\"fName\":\"combinedProtonProb_Signal\",\"fTitle\":\"combinedProtonProb\",\"fLineColor\":4,\"fLineStyle\":1,\"fLineWidth\":2,\"fFillColor\":4,\"fFillStyle\":3004,\"fMarkerColor\":1,\"fMarkerStyle\":1,\"fMarkerSize\":1,\"fNcells\":32,\"fXaxis\":{\"_typename\":\"TAxis\",\"fUniqueID\":0,\"fBits\":0,\"fName\":\"xaxis\",\"fTitle\":\"\",\"fNdivisions\":510,\"fAxisColor\":1,\"fLabelColor\":1,\"fLabelFont\":42,\"fLabelOffset\":0.005,\"fLabelSize\":0.035,\"fTickLength\":0.03,\"fTitleOffset\":1,\"fTitleSize\":0.035,\"fTitleColor\":1,\"fTitleFont\":42,\"fNbins\":30,\"fXmin\":-0.1,\"fXmax\":1.1,\"fXbins\":[],\"fFirst\":0,\"fLast\":0,\"fBits2\":0,\"fTimeDisplay\":false,\"fTimeFormat\":\"\",\"fLabels\":null,\"fModLabs\":null},\"fYaxis\":{\"_typename\":\"TAxis\",\"fUniqueID\":0,\"fBits\":0,\"fName\":\"yaxis\",\"fTitle\":\"\",\"fNdivisions\":510,\"fAxisColor\":1,\"fLabelColor\":1,\"fLabelFont\":42,\"fLabelOffset\":0.005,\"fLabelSize\":0.035,\"fTickLength\":0.03,\"fTitleOffset\":0,\"fTitleSize\":0.035,\"fTitleColor\":1,\"fTitleFont\":42,\"fNbins\":1,\"fXmin\":0,\"fXmax\":1,\"fXbins\":[],\"fFirst\":0,\"fLast\":0,\"fBits2\":0,\"fTimeDisplay\":false,\"fTimeFormat\":\"\",\"fLabels\":null,\"fModLabs\":null},\"fZaxis\":{\"_typename\":\"TAxis\",\"fUniqueID\":0,\"fBits\":0,\"fName\":\"zaxis\",\"fTitle\":\"\",\"fNdivisions\":510,\"fAxisColor\":1,\"fLabelColor\":1,\"fLabelFont\":42,\"fLabelOffset\":0.005,\"fLabelSize\":0.035,\"fTickLength\":0.03,\"fTitleOffset\":1,\"fTitleSize\":0.035,\"fTitleColor\":1,\"fTitleFont\":42,\"fNbins\":1,\"fXmin\":0,\"fXmax\":1,\"fXbins\":[],\"fFirst\":0,\"fLast\":0,\"fBits2\":0,\"fTimeDisplay\":false,\"fTimeFormat\":\"\",\"fLabels\":null,\"fModLabs\":null},\"fBarOffset\":0,\"fBarWidth\":1000,\"fEntries\":1762028,\"fTsumw\":1762028,\"fTsumw2\":1762028,\"fTsumwx\":1361183.06820199,\"fTsumwx2\":1210957.87945293,\"fMaximum\":-1111,\"fMinimum\":-1111,\"fNormFactor\":0,\"fContour\":[],\"fSumw2\":[],\"fOption\":\"\",\"fFunctions\":{\"_typename\":\"TList\",\"name\":\"TList\",\"arr\":[],\"opt\":[]},\"fBufferSize\":0,\"fBuffer\":[],\"fBinStatErrOpt\":0,\"fStatOverflows\":2,\"fArray\":[0,0,0,4193,14556,18812,23631,31585,41898,44987,38021,36331,37586,40137,43100,41235,36797,32449,29473,27839,26885,27003,27364,29557,34780,43820,61710,119176,849103,0,0,0]},{\"_typename\":\"TH1F\",\"fUniqueID\":0,\"fBits\":513,\"fName\":\"combinedProtonProb_Background\",\"fTitle\":\"\",\"fLineColor\":2,\"fLineStyle\":1,\"fLineWidth\":2,\"fFillColor\":2,\"fFillStyle\":3005,\"fMarkerColor\":1,\"fMarkerStyle\":1,\"fMarkerSize\":1,\"fNcells\":32,\"fXaxis\":{\"_typename\":\"TAxis\",\"fUniqueID\":0,\"fBits\":0,\"fName\":\"xaxis\",\"fTitle\":\"\",\"fNdivisions\":510,\"fAxisColor\":1,\"fLabelColor\":1,\"fLabelFont\":42,\"fLabelOffset\":0.005,\"fLabelSize\":0.035,\"fTickLength\":0.03,\"fTitleOffset\":1,\"fTitleSize\":0.035,\"fTitleColor\":1,\"fTitleFont\":42,\"fNbins\":30,\"fXmin\":-0.1,\"fXmax\":1.1,\"fXbins\":[],\"fFirst\":0,\"fLast\":0,\"fBits2\":0,\"fTimeDisplay\":false,\"fTimeFormat\":\"\",\"fLabels\":null,\"fModLabs\":null},\"fYaxis\":{\"_typename\":\"TAxis\",\"fUniqueID\":0,\"fBits\":0,\"fName\":\"yaxis\",\"fTitle\":\"\",\"fNdivisions\":510,\"fAxisColor\":1,\"fLabelColor\":1,\"fLabelFont\":42,\"fLabelOffset\":0.005,\"fLabelSize\":0.035,\"fTickLength\":0.03,\"fTitleOffset\":0,\"fTitleSize\":0.035,\"fTitleColor\":1,\"fTitleFont\":42,\"fNbins\":1,\"fXmin\":0,\"fXmax\":1,\"fXbins\":[],\"fFirst\":0,\"fLast\":0,\"fBits2\":0,\"fTimeDisplay\":false,\"fTimeFormat\":\"\",\"fLabels\":null,\"fModLabs\":null},\"fZaxis\":{\"_typename\":\"TAxis\",\"fUniqueID\":0,\"fBits\":0,\"fName\":\"zaxis\",\"fTitle\":\"\",\"fNdivisions\":510,\"fAxisColor\":1,\"fLabelColor\":1,\"fLabelFont\":42,\"fLabelOffset\":0.005,\"fLabelSize\":0.035,\"fTickLength\":0.03,\"fTitleOffset\":1,\"fTitleSize\":0.035,\"fTitleColor\":1,\"fTitleFont\":42,\"fNbins\":1,\"fXmin\":0,\"fXmax\":1,\"fXbins\":[],\"fFirst\":0,\"fLast\":0,\"fBits2\":0,\"fTimeDisplay\":false,\"fTimeFormat\":\"\",\"fLabels\":null,\"fModLabs\":null},\"fBarOffset\":0,\"fBarWidth\":1000,\"fEntries\":1473789,\"fTsumw\":1473789,\"fTsumw2\":1473789,\"fTsumwx\":767745.554829561,\"fTsumwx2\":641489.898140288,\"fMaximum\":-1111,\"fMinimum\":-1111,\"fNormFactor\":0,\"fContour\":[],\"fSumw2\":[],\"fOption\":\"\",\"fFunctions\":{\"_typename\":\"TList\",\"name\":\"TList\",\"arr\":[],\"opt\":[]},\"fBufferSize\":0,\"fBuffer\":[],\"fBinStatErrOpt\":0,\"fStatOverflows\":2,\"fArray\":[0,0,0,132054,111190,73715,65965,70947,74440,68480,46627,36740,32390,30162,28707,25741,20763,15749,12616,10666,9619,9062,9184,10215,12533,16094,21870,44138,484122,0,0,0]}],\"opt\":[\"\",\"same\"]},\"fExecs\":{\"_typename\":\"TList\",\"name\":\"TList\",\"arr\":[],\"opt\":[]},\"fName\":\"c1_3\",\"fTitle\":\"c1_3\",\"fNumPaletteColor\":0,\"fNextPaletteColor\":0},{\"_typename\":\"TPad\",\"fUniqueID\":0,\"fBits\":9,\"fLineColor\":1,\"fLineStyle\":1,\"fLineWidth\":1,\"fFillColor\":0,\"fFillStyle\":1001,\"fLeftMargin\":0.1,\"fRightMargin\":0.1,\"fBottomMargin\":0.1,\"fTopMargin\":0.1,\"fXfile\":2,\"fYfile\":2,\"fAfile\":1,\"fXstat\":0.99,\"fYstat\":0.99,\"fAstat\":2,\"fFrameFillColor\":0,\"fFrameLineColor\":1,\"fFrameFillStyle\":1001,\"fFrameLineStyle\":1,\"fFrameLineWidth\":1,\"fFrameBorderSize\":1,\"fFrameBorderMode\":0,\"fX1\":0,\"fY1\":0,\"fX2\":1,\"fY2\":1,\"fXtoAbsPixelk\":454.920049800622,\"fXtoPixelk\":5e-5,\"fXtoPixel\":428.160000398755,\"fYtoAbsPixelk\":756.560050345111,\"fYtoPixelk\":355.120050690222,\"fYtoPixel\":-355.120000690222,\"fUtoAbsPixelk\":454.920049800622,\"fUtoPixelk\":5e-5,\"fUtoPixel\":428.160000398755,\"fVtoAbsPixelk\":756.560050345111,\"fVtoPixelk\":355.120000690222,\"fVtoPixel\":-355.120000690222,\"fAbsPixeltoXk\":-1.06249999854481,\"fPixeltoXk\":0,\"fPixeltoX\":0.00233557548362453,\"fAbsPixeltoYk\":2.13043477943973,\"fPixeltoYk\":0,\"fPixeltoY\":-0.00281594953271111,\"fXlowNDC\":0.509999999776483,\"fYlowNDC\":0.509999999776483,\"fXUpNDC\":0.990000000223517,\"fYUpNDC\":0.740000000223517,\"fWNDC\":0.480000000447035,\"fHNDC\":0.230000000447035,\"fAbsXlowNDC\":0.509999999776483,\"fAbsYlowNDC\":0.509999999776483,\"fAbsWNDC\":0.480000000447035,\"fAbsHNDC\":0.230000000447035,\"fUxmin\":0,\"fUymin\":0,\"fUxmax\":1,\"fUymax\":1,\"fTheta\":30,\"fPhi\":30,\"fAspectRatio\":0,\"fNumber\":4,\"fTickx\":0,\"fTicky\":0,\"fLogx\":0,\"fLogy\":0,\"fLogz\":0,\"fPadPaint\":0,\"fCrosshair\":0,\"fCrosshairPos\":0,\"fBorderSize\":2,\"fBorderMode\":0,\"fModified\":true,\"fGridx\":false,\"fGridy\":false,\"fAbsCoord\":false,\"fEditable\":true,\"fFixedAspectRatio\":false,\"fPrimitives\":{\"_typename\":\"TList\",\"name\":\"TList\",\"arr\":[{\"_typename\":\"TH1F\",\"fUniqueID\":0,\"fBits\":513,\"fName\":\"signd0_Signal\",\"fTitle\":\"signd0\",\"fLineColor\":4,\"fLineStyle\":1,\"fLineWidth\":2,\"fFillColor\":4,\"fFillStyle\":3004,\"fMarkerColor\":1,\"fMarkerStyle\":1,\"fMarkerSize\":1,\"fNcells\":102,\"fXaxis\":{\"_typename\":\"TAxis\",\"fUniqueID\":0,\"fBits\":0,\"fName\":\"xaxis\",\"fTitle\":\"\",\"fNdivisions\":510,\"fAxisColor\":1,\"fLabelColor\":1,\"fLabelFont\":42,\"fLabelOffset\":0.005,\"fLabelSize\":0.035,\"fTickLength\":0.03,\"fTitleOffset\":1,\"fTitleSize\":0.035,\"fTitleColor\":1,\"fTitleFont\":42,\"fNbins\":100,\"fXmin\":-0.01,\"fXmax\":0.14,\"fXbins\":[],\"fFirst\":0,\"fLast\":0,\"fBits2\":0,\"fTimeDisplay\":false,\"fTimeFormat\":\"\",\"fLabels\":null,\"fModLabs\":null},\"fYaxis\":{\"_typename\":\"TAxis\",\"fUniqueID\":0,\"fBits\":0,\"fName\":\"yaxis\",\"fTitle\":\"\",\"fNdivisions\":510,\"fAxisColor\":1,\"fLabelColor\":1,\"fLabelFont\":42,\"fLabelOffset\":0.005,\"fLabelSize\":0.035,\"fTickLength\":0.03,\"fTitleOffset\":0,\"fTitleSize\":0.035,\"fTitleColor\":1,\"fTitleFont\":42,\"fNbins\":1,\"fXmin\":0,\"fXmax\":1,\"fXbins\":[],\"fFirst\":0,\"fLast\":0,\"fBits2\":0,\"fTimeDisplay\":false,\"fTimeFormat\":\"\",\"fLabels\":null,\"fModLabs\":null},\"fZaxis\":{\"_typename\":\"TAxis\",\"fUniqueID\":0,\"fBits\":0,\"fName\":\"zaxis\",\"fTitle\":\"\",\"fNdivisions\":510,\"fAxisColor\":1,\"fLabelColor\":1,\"fLabelFont\":42,\"fLabelOffset\":0.005,\"fLabelSize\":0.035,\"fTickLength\":0.03,\"fTitleOffset\":1,\"fTitleSize\":0.035,\"fTitleColor\":1,\"fTitleFont\":42,\"fNbins\":1,\"fXmin\":0,\"fXmax\":1,\"fXbins\":[],\"fFirst\":0,\"fLast\":0,\"fBits2\":0,\"fTimeDisplay\":false,\"fTimeFormat\":\"\",\"fLabels\":null,\"fModLabs\":null},\"fBarOffset\":0,\"fBarWidth\":1000,\"fEntries\":1762028,\"fTsumw\":1749842,\"fTsumw2\":1749842,\"fTsumwx\":26322.7760382286,\"fTsumwx2\":1047.95213868043,\"fMaximum\":-1111,\"fMinimum\":-1111,\"fNormFactor\":0,\"fContour\":[],\"fSumw2\":[],\"fOption\":\"\",\"fFunctions\":{\"_typename\":\"TList\",\"name\":\"TList\",\"arr\":[],\"opt\":[]},\"fBufferSize\":0,\"fBuffer\":[],\"fBinStatErrOpt\":0,\"fStatOverflows\":2,\"fArray\":[0,0,0,0,0,0,0,78217,232273,196742,158337,125660,101371,82944,69103,60287,53203,47547,43064,39268,35905,32602,29892,27344,24639,22351,20518,18932,17315,15875,14476,13416,12396,11261,10403,9838,8996,8476,7790,7152,6768,6408,6015,5467,5008,4783,4393,4162,3870,3752,3543,3251,3083,2876,2664,2546,2499,2262,2129,2061,1962,1875,1769,1611,1562,1489,1403,1347,1317,1233,1115,1079,1030,964,972,865,858,818,792,716,724,697,652,635,584,602,519,463,496,477,419,429,412,409,398,378,310,343,365,327,293,12186]},{\"_typename\":\"TH1F\",\"fUniqueID\":0,\"fBits\":513,\"fName\":\"signd0_Background\",\"fTitle\":\"\",\"fLineColor\":2,\"fLineStyle\":1,\"fLineWidth\":2,\"fFillColor\":2,\"fFillStyle\":3005,\"fMarkerColor\":1,\"fMarkerStyle\":1,\"fMarkerSize\":1,\"fNcells\":102,\"fXaxis\":{\"_typename\":\"TAxis\",\"fUniqueID\":0,\"fBits\":0,\"fName\":\"xaxis\",\"fTitle\":\"\",\"fNdivisions\":510,\"fAxisColor\":1,\"fLabelColor\":1,\"fLabelFont\":42,\"fLabelOffset\":0.005,\"fLabelSize\":0.035,\"fTickLength\":0.03,\"fTitleOffset\":1,\"fTitleSize\":0.035,\"fTitleColor\":1,\"fTitleFont\":42,\"fNbins\":100,\"fXmin\":-0.01,\"fXmax\":0.14,\"fXbins\":[],\"fFirst\":0,\"fLast\":0,\"fBits2\":0,\"fTimeDisplay\":false,\"fTimeFormat\":\"\",\"fLabels\":null,\"fModLabs\":null},\"fYaxis\":{\"_typename\":\"TAxis\",\"fUniqueID\":0,\"fBits\":0,\"fName\":\"yaxis\",\"fTitle\":\"\",\"fNdivisions\":510,\"fAxisColor\":1,\"fLabelColor\":1,\"fLabelFont\":42,\"fLabelOffset\":0.005,\"fLabelSize\":0.035,\"fTickLength\":0.03,\"fTitleOffset\":0,\"fTitleSize\":0.035,\"fTitleColor\":1,\"fTitleFont\":42,\"fNbins\":1,\"fXmin\":0,\"fXmax\":1,\"fXbins\":[],\"fFirst\":0,\"fLast\":0,\"fBits2\":0,\"fTimeDisplay\":false,\"fTimeFormat\":\"\",\"fLabels\":null,\"fModLabs\":null},\"fZaxis\":{\"_typename\":\"TAxis\",\"fUniqueID\":0,\"fBits\":0,\"fName\":\"zaxis\",\"fTitle\":\"\",\"fNdivisions\":510,\"fAxisColor\":1,\"fLabelColor\":1,\"fLabelFont\":42,\"fLabelOffset\":0.005,\"fLabelSize\":0.035,\"fTickLength\":0.03,\"fTitleOffset\":1,\"fTitleSize\":0.035,\"fTitleColor\":1,\"fTitleFont\":42,\"fNbins\":1,\"fXmin\":0,\"fXmax\":1,\"fXbins\":[],\"fFirst\":0,\"fLast\":0,\"fBits2\":0,\"fTimeDisplay\":false,\"fTimeFormat\":\"\",\"fLabels\":null,\"fModLabs\":null},\"fBarOffset\":0,\"fBarWidth\":1000,\"fEntries\":1473789,\"fTsumw\":1442667,\"fTsumw2\":1442667,\"fTsumwx\":16771.3686975445,\"fTsumwx2\":693.116558689645,\"fMaximum\":-1111,\"fMinimum\":-1111,\"fNormFactor\":0,\"fContour\":[],\"fSumw2\":[],\"fOption\":\"\",\"fFunctions\":{\"_typename\":\"TList\",\"name\":\"TList\",\"arr\":[],\"opt\":[]},\"fBufferSize\":0,\"fBuffer\":[],\"fBinStatErrOpt\":0,\"fStatOverflows\":2,\"fArray\":[64,9,10,10,13,8,15,149669,227717,190402,148754,114099,87328,67232,53254,43335,35371,29758,25701,22604,19757,17557,15429,13680,12679,11228,10210,9375,8495,7623,7101,6350,6012,5345,4976,4736,4455,4124,3705,3585,3336,3173,2999,2844,2616,2467,2351,2298,2133,2069,2025,1853,1835,1688,1595,1587,1360,1370,1310,1304,1243,1190,1147,1118,1063,992,985,950,956,891,855,887,826,786,756,716,693,729,654,651,646,586,651,558,584,567,534,545,507,478,497,481,489,488,475,421,457,458,437,394,402,31058]}],\"opt\":[\"\",\"same\"]},\"fExecs\":{\"_typename\":\"TList\",\"name\":\"TList\",\"arr\":[],\"opt\":[]},\"fName\":\"c1_4\",\"fTitle\":\"c1_4\",\"fNumPaletteColor\":0,\"fNextPaletteColor\":0},{\"_typename\":\"TPad\",\"fUniqueID\":0,\"fBits\":9,\"fLineColor\":1,\"fLineStyle\":1,\"fLineWidth\":1,\"fFillColor\":0,\"fFillStyle\":1001,\"fLeftMargin\":0.1,\"fRightMargin\":0.1,\"fBottomMargin\":0.1,\"fTopMargin\":0.1,\"fXfile\":2,\"fYfile\":2,\"fAfile\":1,\"fXstat\":0.99,\"fYstat\":0.99,\"fAstat\":2,\"fFrameFillColor\":0,\"fFrameLineColor\":1,\"fFrameFillStyle\":1001,\"fFrameLineStyle\":1,\"fFrameLineWidth\":1,\"fFrameBorderSize\":1,\"fFrameBorderMode\":0,\"fX1\":0,\"fY1\":0,\"fX2\":1,\"fY2\":1,\"fXtoAbsPixelk\":8.92004980062246,\"fXtoPixelk\":5e-5,\"fXtoPixel\":428.160000398755,\"fYtoAbsPixelk\":1142.56005034511,\"fYtoPixelk\":355.120050690222,\"fYtoPixel\":-355.120000690222,\"fUtoAbsPixelk\":8.92004980062246,\"fUtoPixelk\":5e-5,\"fUtoPixel\":428.160000398755,\"fVtoAbsPixelk\":1142.56005034511,\"fVtoPixelk\":355.120000690222,\"fVtoPixel\":-355.120000690222,\"fAbsPixeltoXk\":-0.0208333328482695,\"fPixeltoXk\":0,\"fPixeltoX\":0.00233557548362453,\"fAbsPixeltoYk\":3.21739129906622,\"fPixeltoYk\":0,\"fPixeltoY\":-0.00281594953271111,\"fXlowNDC\":0.00999999977648258,\"fYlowNDC\":0.259999999776483,\"fXUpNDC\":0.490000000223517,\"fYUpNDC\":0.490000000223517,\"fWNDC\":0.480000000447035,\"fHNDC\":0.230000000447035,\"fAbsXlowNDC\":0.00999999977648258,\"fAbsYlowNDC\":0.259999999776483,\"fAbsWNDC\":0.480000000447035,\"fAbsHNDC\":0.230000000447035,\"fUxmin\":0,\"fUymin\":0,\"fUxmax\":1,\"fUymax\":1,\"fTheta\":30,\"fPhi\":30,\"fAspectRatio\":0,\"fNumber\":5,\"fTickx\":0,\"fTicky\":0,\"fLogx\":0,\"fLogy\":0,\"fLogz\":0,\"fPadPaint\":0,\"fCrosshair\":0,\"fCrosshairPos\":0,\"fBorderSize\":2,\"fBorderMode\":0,\"fModified\":true,\"fGridx\":false,\"fGridy\":false,\"fAbsCoord\":false,\"fEditable\":true,\"fFixedAspectRatio\":false,\"fPrimitives\":{\"_typename\":\"TList\",\"name\":\"TList\",\"arr\":[{\"_typename\":\"TH1F\",\"fUniqueID\":0,\"fBits\":513,\"fName\":\"tImpParV0_Signal\",\"fTitle\":\"tImpParV0\",\"fLineColor\":4,\"fLineStyle\":1,\"fLineWidth\":2,\"fFillColor\":4,\"fFillStyle\":3004,\"fMarkerColor\":1,\"fMarkerStyle\":1,\"fMarkerSize\":1,\"fNcells\":102,\"fXaxis\":{\"_typename\":\"TAxis\",\"fUniqueID\":0,\"fBits\":0,\"fName\":\"xaxis\",\"fTitle\":\"\",\"fNdivisions\":510,\"fAxisColor\":1,\"fLabelColor\":1,\"fLabelFont\":42,\"fLabelOffset\":0.005,\"fLabelSize\":0.035,\"fTickLength\":0.03,\"fTitleOffset\":1,\"fTitleSize\":0.035,\"fTitleColor\":1,\"fTitleFont\":42,\"fNbins\":100,\"fXmin\":-0.2,\"fXmax\":0.2,\"fXbins\":[],\"fFirst\":0,\"fLast\":0,\"fBits2\":0,\"fTimeDisplay\":false,\"fTimeFormat\":\"\",\"fLabels\":null,\"fModLabs\":null},\"fYaxis\":{\"_typename\":\"TAxis\",\"fUniqueID\":0,\"fBits\":0,\"fName\":\"yaxis\",\"fTitle\":\"\",\"fNdivisions\":510,\"fAxisColor\":1,\"fLabelColor\":1,\"fLabelFont\":42,\"fLabelOffset\":0.005,\"fLabelSize\":0.035,\"fTickLength\":0.03,\"fTitleOffset\":0,\"fTitleSize\":0.035,\"fTitleColor\":1,\"fTitleFont\":42,\"fNbins\":1,\"fXmin\":0,\"fXmax\":1,\"fXbins\":[],\"fFirst\":0,\"fLast\":0,\"fBits2\":0,\"fTimeDisplay\":false,\"fTimeFormat\":\"\",\"fLabels\":null,\"fModLabs\":null},\"fZaxis\":{\"_typename\":\"TAxis\",\"fUniqueID\":0,\"fBits\":0,\"fName\":\"zaxis\",\"fTitle\":\"\",\"fNdivisions\":510,\"fAxisColor\":1,\"fLabelColor\":1,\"fLabelFont\":42,\"fLabelOffset\":0.005,\"fLabelSize\":0.035,\"fTickLength\":0.03,\"fTitleOffset\":1,\"fTitleSize\":0.035,\"fTitleColor\":1,\"fTitleFont\":42,\"fNbins\":1,\"fXmin\":0,\"fXmax\":1,\"fXbins\":[],\"fFirst\":0,\"fLast\":0,\"fBits2\":0,\"fTimeDisplay\":false,\"fTimeFormat\":\"\",\"fLabels\":null,\"fModLabs\":null},\"fBarOffset\":0,\"fBarWidth\":1000,\"fEntries\":1762028,\"fTsumw\":1672261,\"fTsumw2\":1672261,\"fTsumwx\":446.474252428153,\"fTsumwx2\":5190.03501613259,\"fMaximum\":-1111,\"fMinimum\":-1111,\"fNormFactor\":0,\"fContour\":[],\"fSumw2\":[],\"fOption\":\"\",\"fFunctions\":{\"_typename\":\"TList\",\"name\":\"TList\",\"arr\":[],\"opt\":[]},\"fBufferSize\":0,\"fBuffer\":[],\"fBinStatErrOpt\":0,\"fStatOverflows\":2,\"fArray\":[44038,1510,1711,1738,1808,1951,1969,2108,2232,2328,2446,2613,2687,2867,3132,3295,3403,3506,3643,4038,4242,4579,4780,5184,5445,5757,6119,6718,7294,7853,8380,9213,9846,10894,12150,13222,14737,16260,18268,20492,23171,26368,30007,34189,40113,46856,54998,65802,78860,92628,102998,102832,91486,77407,64803,53844,46059,39772,34371,30064,26388,23331,20570,18427,16493,14874,13437,12335,11094,10255,9213,8647,8142,7552,6938,6274,6076,5607,5316,4930,4676,4406,4128,3836,3667,3420,3236,3171,2978,2801,2589,2613,2399,2282,2183,2100,1934,1829,1734,1705,1629,45729]},{\"_typename\":\"TH1F\",\"fUniqueID\":0,\"fBits\":513,\"fName\":\"tImpParV0_Background\",\"fTitle\":\"\",\"fLineColor\":2,\"fLineStyle\":1,\"fLineWidth\":2,\"fFillColor\":2,\"fFillStyle\":3005,\"fMarkerColor\":1,\"fMarkerStyle\":1,\"fMarkerSize\":1,\"fNcells\":102,\"fXaxis\":{\"_typename\":\"TAxis\",\"fUniqueID\":0,\"fBits\":0,\"fName\":\"xaxis\",\"fTitle\":\"\",\"fNdivisions\":510,\"fAxisColor\":1,\"fLabelColor\":1,\"fLabelFont\":42,\"fLabelOffset\":0.005,\"fLabelSize\":0.035,\"fTickLength\":0.03,\"fTitleOffset\":1,\"fTitleSize\":0.035,\"fTitleColor\":1,\"fTitleFont\":42,\"fNbins\":100,\"fXmin\":-0.2,\"fXmax\":0.2,\"fXbins\":[],\"fFirst\":0,\"fLast\":0,\"fBits2\":0,\"fTimeDisplay\":false,\"fTimeFormat\":\"\",\"fLabels\":null,\"fModLabs\":null},\"fYaxis\":{\"_typename\":\"TAxis\",\"fUniqueID\":0,\"fBits\":0,\"fName\":\"yaxis\",\"fTitle\":\"\",\"fNdivisions\":510,\"fAxisColor\":1,\"fLabelColor\":1,\"fLabelFont\":42,\"fLabelOffset\":0.005,\"fLabelSize\":0.035,\"fTickLength\":0.03,\"fTitleOffset\":0,\"fTitleSize\":0.035,\"fTitleColor\":1,\"fTitleFont\":42,\"fNbins\":1,\"fXmin\":0,\"fXmax\":1,\"fXbins\":[],\"fFirst\":0,\"fLast\":0,\"fBits2\":0,\"fTimeDisplay\":false,\"fTimeFormat\":\"\",\"fLabels\":null,\"fModLabs\":null},\"fZaxis\":{\"_typename\":\"TAxis\",\"fUniqueID\":0,\"fBits\":0,\"fName\":\"zaxis\",\"fTitle\":\"\",\"fNdivisions\":510,\"fAxisColor\":1,\"fLabelColor\":1,\"fLabelFont\":42,\"fLabelOffset\":0.005,\"fLabelSize\":0.035,\"fTickLength\":0.03,\"fTitleOffset\":1,\"fTitleSize\":0.035,\"fTitleColor\":1,\"fTitleFont\":42,\"fNbins\":1,\"fXmin\":0,\"fXmax\":1,\"fXbins\":[],\"fFirst\":0,\"fLast\":0,\"fBits2\":0,\"fTimeDisplay\":false,\"fTimeFormat\":\"\",\"fLabels\":null,\"fModLabs\":null},\"fBarOffset\":0,\"fBarWidth\":1000,\"fEntries\":1473789,\"fTsumw\":1360898,\"fTsumw2\":1360898,\"fTsumwx\":86.1437367549487,\"fTsumwx2\":4340.20915548122,\"fMaximum\":-1111,\"fMinimum\":-1111,\"fNormFactor\":0,\"fContour\":[],\"fSumw2\":[],\"fOption\":\"\",\"fFunctions\":{\"_typename\":\"TList\",\"name\":\"TList\",\"arr\":[],\"opt\":[]},\"fBufferSize\":0,\"fBuffer\":[],\"fBinStatErrOpt\":0,\"fStatOverflows\":2,\"fArray\":[56189,1611,1690,1685,1803,1926,1945,1977,2098,2191,2327,2386,2469,2639,2759,2804,2971,3037,3235,3305,3577,3599,3903,4117,4456,4730,4905,5209,5590,5999,6415,6857,7477,8078,8747,9640,10575,11584,12754,14284,16398,18536,21258,24648,28811,35028,41935,52697,67826,86125,102319,101450,85999,66466,51791,41527,33408,28465,24176,20764,18340,16142,14291,13050,11658,10474,9728,8944,8089,7585,6909,6513,5961,5660,5283,4961,4759,4299,4250,4059,3929,3522,3436,3289,3210,2964,2869,2664,2651,2607,2392,2319,2163,2158,2015,1965,1917,1853,1726,1667,1646,56702]}],\"opt\":[\"\",\"same\"]},\"fExecs\":{\"_typename\":\"TList\",\"name\":\"TList\",\"arr\":[],\"opt\":[]},\"fName\":\"c1_5\",\"fTitle\":\"c1_5\",\"fNumPaletteColor\":0,\"fNextPaletteColor\":0},{\"_typename\":\"TPad\",\"fUniqueID\":0,\"fBits\":9,\"fLineColor\":1,\"fLineStyle\":1,\"fLineWidth\":1,\"fFillColor\":0,\"fFillStyle\":1001,\"fLeftMargin\":0.1,\"fRightMargin\":0.1,\"fBottomMargin\":0.1,\"fTopMargin\":0.1,\"fXfile\":2,\"fYfile\":2,\"fAfile\":1,\"fXstat\":0.99,\"fYstat\":0.99,\"fAstat\":2,\"fFrameFillColor\":0,\"fFrameLineColor\":1,\"fFrameFillStyle\":1001,\"fFrameLineStyle\":1,\"fFrameLineWidth\":1,\"fFrameBorderSize\":1,\"fFrameBorderMode\":0,\"fX1\":0,\"fY1\":0,\"fX2\":1,\"fY2\":1,\"fXtoAbsPixelk\":454.920049800622,\"fXtoPixelk\":5e-5,\"fXtoPixel\":428.160000398755,\"fYtoAbsPixelk\":1142.56005034511,\"fYtoPixelk\":355.120050690222,\"fYtoPixel\":-355.120000690222,\"fUtoAbsPixelk\":454.920049800622,\"fUtoPixelk\":5e-5,\"fUtoPixel\":428.160000398755,\"fVtoAbsPixelk\":1142.56005034511,\"fVtoPixelk\":355.120000690222,\"fVtoPixel\":-355.120000690222,\"fAbsPixeltoXk\":-1.06249999854481,\"fPixeltoXk\":0,\"fPixeltoX\":0.00233557548362453,\"fAbsPixeltoYk\":3.21739129906622,\"fPixeltoYk\":0,\"fPixeltoY\":-0.00281594953271111,\"fXlowNDC\":0.509999999776483,\"fYlowNDC\":0.259999999776483,\"fXUpNDC\":0.990000000223517,\"fYUpNDC\":0.490000000223517,\"fWNDC\":0.480000000447035,\"fHNDC\":0.230000000447035,\"fAbsXlowNDC\":0.509999999776483,\"fAbsYlowNDC\":0.259999999776483,\"fAbsWNDC\":0.480000000447035,\"fAbsHNDC\":0.230000000447035,\"fUxmin\":0,\"fUymin\":0,\"fUxmax\":1,\"fUymax\":1,\"fTheta\":30,\"fPhi\":30,\"fAspectRatio\":0,\"fNumber\":6,\"fTickx\":0,\"fTicky\":0,\"fLogx\":0,\"fLogy\":0,\"fLogz\":0,\"fPadPaint\":0,\"fCrosshair\":0,\"fCrosshairPos\":0,\"fBorderSize\":2,\"fBorderMode\":0,\"fModified\":true,\"fGridx\":false,\"fGridy\":false,\"fAbsCoord\":false,\"fEditable\":true,\"fFixedAspectRatio\":false,\"fPrimitives\":{\"_typename\":\"TList\",\"name\":\"TList\",\"arr\":[{\"_typename\":\"TH1F\",\"fUniqueID\":0,\"fBits\":513,\"fName\":\"tImpParBach_Signal\",\"fTitle\":\"tImpParBach\",\"fLineColor\":4,\"fLineStyle\":1,\"fLineWidth\":2,\"fFillColor\":4,\"fFillStyle\":3004,\"fMarkerColor\":1,\"fMarkerStyle\":1,\"fMarkerSize\":1,\"fNcells\":102,\"fXaxis\":{\"_typename\":\"TAxis\",\"fUniqueID\":0,\"fBits\":0,\"fName\":\"xaxis\",\"fTitle\":\"\",\"fNdivisions\":510,\"fAxisColor\":1,\"fLabelColor\":1,\"fLabelFont\":42,\"fLabelOffset\":0.005,\"fLabelSize\":0.035,\"fTickLength\":0.03,\"fTitleOffset\":1,\"fTitleSize\":0.035,\"fTitleColor\":1,\"fTitleFont\":42,\"fNbins\":100,\"fXmin\":-0.2,\"fXmax\":0.2,\"fXbins\":[],\"fFirst\":0,\"fLast\":0,\"fBits2\":0,\"fTimeDisplay\":false,\"fTimeFormat\":\"\",\"fLabels\":null,\"fModLabs\":null},\"fYaxis\":{\"_typename\":\"TAxis\",\"fUniqueID\":0,\"fBits\":0,\"fName\":\"yaxis\",\"fTitle\":\"\",\"fNdivisions\":510,\"fAxisColor\":1,\"fLabelColor\":1,\"fLabelFont\":42,\"fLabelOffset\":0.005,\"fLabelSize\":0.035,\"fTickLength\":0.03,\"fTitleOffset\":0,\"fTitleSize\":0.035,\"fTitleColor\":1,\"fTitleFont\":42,\"fNbins\":1,\"fXmin\":0,\"fXmax\":1,\"fXbins\":[],\"fFirst\":0,\"fLast\":0,\"fBits2\":0,\"fTimeDisplay\":false,\"fTimeFormat\":\"\",\"fLabels\":null,\"fModLabs\":null},\"fZaxis\":{\"_typename\":\"TAxis\",\"fUniqueID\":0,\"fBits\":0,\"fName\":\"zaxis\",\"fTitle\":\"\",\"fNdivisions\":510,\"fAxisColor\":1,\"fLabelColor\":1,\"fLabelFont\":42,\"fLabelOffset\":0.005,\"fLabelSize\":0.035,\"fTickLength\":0.03,\"fTitleOffset\":1,\"fTitleSize\":0.035,\"fTitleColor\":1,\"fTitleFont\":42,\"fNbins\":1,\"fXmin\":0,\"fXmax\":1,\"fXbins\":[],\"fFirst\":0,\"fLast\":0,\"fBits2\":0,\"fTimeDisplay\":false,\"fTimeFormat\":\"\",\"fLabels\":null,\"fModLabs\":null},\"fBarOffset\":0,\"fBarWidth\":1000,\"fEntries\":1762028,\"fTsumw\":1757170,\"fTsumw2\":1757170,\"fTsumwx\":-342.087430348257,\"fTsumwx2\":1179.45352336611,\"fMaximum\":-1111,\"fMinimum\":-1111,\"fNormFactor\":0,\"fContour\":[],\"fSumw2\":[],\"fOption\":\"\",\"fFunctions\":{\"_typename\":\"TList\",\"name\":\"TList\",\"arr\":[],\"opt\":[]},\"fBufferSize\":0,\"fBuffer\":[],\"fBinStatErrOpt\":0,\"fStatOverflows\":2,\"fArray\":[2421,102,119,127,123,150,159,170,164,203,214,228,272,318,340,388,401,442,521,560,605,681,879,893,1009,1142,1295,1545,1663,2004,2276,2636,2992,3619,4106,4974,5881,7045,8558,10271,12343,15316,19187,24154,30708,39951,51692,67222,96978,170096,292944,289578,164854,93642,64646,49258,38556,29851,23660,18552,15000,12202,10135,8236,6822,5658,4825,4092,3513,3036,2603,2265,1967,1703,1431,1295,1054,1003,921,769,689,628,518,464,442,412,404,339,337,267,255,232,209,165,185,174,132,156,144,120,105,2437]},{\"_typename\":\"TH1F\",\"fUniqueID\":0,\"fBits\":513,\"fName\":\"tImpParBach_Background\",\"fTitle\":\"\",\"fLineColor\":2,\"fLineStyle\":1,\"fLineWidth\":2,\"fFillColor\":2,\"fFillStyle\":3005,\"fMarkerColor\":1,\"fMarkerStyle\":1,\"fMarkerSize\":1,\"fNcells\":102,\"fXaxis\":{\"_typename\":\"TAxis\",\"fUniqueID\":0,\"fBits\":0,\"fName\":\"xaxis\",\"fTitle\":\"\",\"fNdivisions\":510,\"fAxisColor\":1,\"fLabelColor\":1,\"fLabelFont\":42,\"fLabelOffset\":0.005,\"fLabelSize\":0.035,\"fTickLength\":0.03,\"fTitleOffset\":1,\"fTitleSize\":0.035,\"fTitleColor\":1,\"fTitleFont\":42,\"fNbins\":100,\"fXmin\":-0.1,\"fXmax\":0.1,\"fXbins\":[],\"fFirst\":0,\"fLast\":0,\"fBits2\":0,\"fTimeDisplay\":false,\"fTimeFormat\":\"\",\"fLabels\":null,\"fModLabs\":null},\"fYaxis\":{\"_typename\":\"TAxis\",\"fUniqueID\":0,\"fBits\":0,\"fName\":\"yaxis\",\"fTitle\":\"\",\"fNdivisions\":510,\"fAxisColor\":1,\"fLabelColor\":1,\"fLabelFont\":42,\"fLabelOffset\":0.005,\"fLabelSize\":0.035,\"fTickLength\":0.03,\"fTitleOffset\":0,\"fTitleSize\":0.035,\"fTitleColor\":1,\"fTitleFont\":42,\"fNbins\":1,\"fXmin\":0,\"fXmax\":1,\"fXbins\":[],\"fFirst\":0,\"fLast\":0,\"fBits2\":0,\"fTimeDisplay\":false,\"fTimeFormat\":\"\",\"fLabels\":null,\"fModLabs\":null},\"fZaxis\":{\"_typename\":\"TAxis\",\"fUniqueID\":0,\"fBits\":0,\"fName\":\"zaxis\",\"fTitle\":\"\",\"fNdivisions\":510,\"fAxisColor\":1,\"fLabelColor\":1,\"fLabelFont\":42,\"fLabelOffset\":0.005,\"fLabelSize\":0.035,\"fTickLength\":0.03,\"fTitleOffset\":1,\"fTitleSize\":0.035,\"fTitleColor\":1,\"fTitleFont\":42,\"fNbins\":1,\"fXmin\":0,\"fXmax\":1,\"fXbins\":[],\"fFirst\":0,\"fLast\":0,\"fBits2\":0,\"fTimeDisplay\":false,\"fTimeFormat\":\"\",\"fLabels\":null,\"fModLabs\":null},\"fBarOffset\":0,\"fBarWidth\":1000,\"fEntries\":1473789,\"fTsumw\":1374964,\"fTsumw2\":1374964,\"fTsumwx\":-229.51511167068,\"fTsumwx2\":519.154723943058,\"fMaximum\":-1111,\"fMinimum\":-1111,\"fNormFactor\":0,\"fContour\":[],\"fSumw2\":[],\"fOption\":\"\",\"fFunctions\":{\"_typename\":\"TList\",\"name\":\"TList\",\"arr\":[],\"opt\":[]},\"fBufferSize\":0,\"fBuffer\":[],\"fBinStatErrOpt\":0,\"fStatOverflows\":2,\"fArray\":[50641,689,710,734,789,812,786,836,838,922,938,1031,1001,1026,1143,1217,1245,1361,1408,1487,1608,1584,1782,1930,2016,2149,2277,2534,2710,2928,3243,3574,3988,4336,4883,5420,6182,7077,8078,9230,10755,12696,15171,18405,22402,29645,39993,57691,86886,130600,175843,173788,127748,85340,56228,38670,28116,21497,17084,14202,11705,10194,8655,7687,6733,6053,5327,4651,4162,3839,3532,3167,2818,2687,2407,2397,2187,1936,1829,1779,1660,1538,1457,1402,1337,1206,1192,1117,1073,994,1016,928,924,852,793,802,785,762,738,719,662,48184]}],\"opt\":[\"\",\"same\"]},\"fExecs\":{\"_typename\":\"TList\",\"name\":\"TList\",\"arr\":[],\"opt\":[]},\"fName\":\"c1_6\",\"fTitle\":\"c1_6\",\"fNumPaletteColor\":0,\"fNextPaletteColor\":0},{\"_typename\":\"TPad\",\"fUniqueID\":0,\"fBits\":9,\"fLineColor\":1,\"fLineStyle\":1,\"fLineWidth\":1,\"fFillColor\":0,\"fFillStyle\":1001,\"fLeftMargin\":0.1,\"fRightMargin\":0.1,\"fBottomMargin\":0.1,\"fTopMargin\":0.1,\"fXfile\":2,\"fYfile\":2,\"fAfile\":1,\"fXstat\":0.99,\"fYstat\":0.99,\"fAstat\":2,\"fFrameFillColor\":0,\"fFrameLineColor\":1,\"fFrameFillStyle\":1001,\"fFrameLineStyle\":1,\"fFrameLineWidth\":1,\"fFrameBorderSize\":1,\"fFrameBorderMode\":0,\"fX1\":0,\"fY1\":0,\"fX2\":1,\"fY2\":1,\"fXtoAbsPixelk\":8.92004980062246,\"fXtoPixelk\":5e-5,\"fXtoPixel\":428.160000398755,\"fYtoAbsPixelk\":1528.56005034511,\"fYtoPixelk\":355.120050690222,\"fYtoPixel\":-355.120000690222,\"fUtoAbsPixelk\":8.92004980062246,\"fUtoPixelk\":5e-5,\"fUtoPixel\":428.160000398755,\"fVtoAbsPixelk\":1528.56005034511,\"fVtoPixelk\":355.120000690222,\"fVtoPixel\":-355.120000690222,\"fAbsPixeltoXk\":-0.0208333328482695,\"fPixeltoXk\":0,\"fPixeltoX\":0.00233557548362453,\"fAbsPixeltoYk\":4.30434781869271,\"fPixeltoYk\":0,\"fPixeltoY\":-0.00281594953271111,\"fXlowNDC\":0.00999999977648258,\"fYlowNDC\":0.00999999977648258,\"fXUpNDC\":0.490000000223517,\"fYUpNDC\":0.240000000223517,\"fWNDC\":0.480000000447035,\"fHNDC\":0.230000000447035,\"fAbsXlowNDC\":0.00999999977648258,\"fAbsYlowNDC\":0.00999999977648258,\"fAbsWNDC\":0.480000000447035,\"fAbsHNDC\":0.230000000447035,\"fUxmin\":0,\"fUymin\":0,\"fUxmax\":1,\"fUymax\":1,\"fTheta\":30,\"fPhi\":30,\"fAspectRatio\":0,\"fNumber\":7,\"fTickx\":0,\"fTicky\":0,\"fLogx\":0,\"fLogy\":0,\"fLogz\":0,\"fPadPaint\":0,\"fCrosshair\":0,\"fCrosshairPos\":0,\"fBorderSize\":2,\"fBorderMode\":0,\"fModified\":true,\"fGridx\":false,\"fGridy\":false,\"fAbsCoord\":false,\"fEditable\":true,\"fFixedAspectRatio\":false,\"fPrimitives\":{\"_typename\":\"TList\",\"name\":\"TList\",\"arr\":[{\"_typename\":\"TH1F\",\"fUniqueID\":0,\"fBits\":513,\"fName\":\"DecayLengthK0S_Signal\",\"fTitle\":\"DecayLengthK0S\",\"fLineColor\":4,\"fLineStyle\":1,\"fLineWidth\":2,\"fFillColor\":4,\"fFillStyle\":3004,\"fMarkerColor\":1,\"fMarkerStyle\":1,\"fMarkerSize\":1,\"fNcells\":102,\"fXaxis\":{\"_typename\":\"TAxis\",\"fUniqueID\":0,\"fBits\":0,\"fName\":\"xaxis\",\"fTitle\":\"\",\"fNdivisions\":510,\"fAxisColor\":1,\"fLabelColor\":1,\"fLabelFont\":42,\"fLabelOffset\":0.005,\"fLabelSize\":0.035,\"fTickLength\":0.03,\"fTitleOffset\":1,\"fTitleSize\":0.035,\"fTitleColor\":1,\"fTitleFont\":42,\"fNbins\":100,\"fXmin\":-5,\"fXmax\":100,\"fXbins\":[],\"fFirst\":0,\"fLast\":0,\"fBits2\":0,\"fTimeDisplay\":false,\"fTimeFormat\":\"\",\"fLabels\":null,\"fModLabs\":null},\"fYaxis\":{\"_typename\":\"TAxis\",\"fUniqueID\":0,\"fBits\":0,\"fName\":\"yaxis\",\"fTitle\":\"\",\"fNdivisions\":510,\"fAxisColor\":1,\"fLabelColor\":1,\"fLabelFont\":42,\"fLabelOffset\":0.005,\"fLabelSize\":0.035,\"fTickLength\":0.03,\"fTitleOffset\":0,\"fTitleSize\":0.035,\"fTitleColor\":1,\"fTitleFont\":42,\"fNbins\":1,\"fXmin\":0,\"fXmax\":1,\"fXbins\":[],\"fFirst\":0,\"fLast\":0,\"fBits2\":0,\"fTimeDisplay\":false,\"fTimeFormat\":\"\",\"fLabels\":null,\"fModLabs\":null},\"fZaxis\":{\"_typename\":\"TAxis\",\"fUniqueID\":0,\"fBits\":0,\"fName\":\"zaxis\",\"fTitle\":\"\",\"fNdivisions\":510,\"fAxisColor\":1,\"fLabelColor\":1,\"fLabelFont\":42,\"fLabelOffset\":0.005,\"fLabelSize\":0.035,\"fTickLength\":0.03,\"fTitleOffset\":1,\"fTitleSize\":0.035,\"fTitleColor\":1,\"fTitleFont\":42,\"fNbins\":1,\"fXmin\":0,\"fXmax\":1,\"fXbins\":[],\"fFirst\":0,\"fLast\":0,\"fBits2\":0,\"fTimeDisplay\":false,\"fTimeFormat\":\"\",\"fLabels\":null,\"fModLabs\":null},\"fBarOffset\":0,\"fBarWidth\":1000,\"fEntries\":1762028,\"fTsumw\":1754817,\"fTsumw2\":1754817,\"fTsumwx\":26569941.4074647,\"fTsumwx2\":861316360.506176,\"fMaximum\":-1111,\"fMinimum\":-1111,\"fNormFactor\":0,\"fContour\":[],\"fSumw2\":[],\"fOption\":\"\",\"fFunctions\":{\"_typename\":\"TList\",\"name\":\"TList\",\"arr\":[],\"opt\":[]},\"fBufferSize\":0,\"fBuffer\":[],\"fBinStatErrOpt\":0,\"fStatOverflows\":2,\"fArray\":[0,0,0,0,0,653,95799,133255,124412,113524,101663,91941,82814,75131,67952,62392,57168,52689,47991,44027,39999,36800,33886,31210,28843,26711,24714,22923,21409,20072,18377,17231,16120,15061,14211,13185,12421,11806,10960,10385,9548,9116,8713,7881,7443,7195,6691,6303,6003,5731,5295,5132,4873,4589,4149,4059,3939,3645,3543,3325,3181,2991,2892,2794,2623,2514,2296,2189,2086,2032,1977,1911,1763,1750,1686,1543,1587,1488,1332,1265,1306,1229,1148,1111,1046,989,994,928,908,821,825,803,805,767,718,645,616,629,584,572,565,7211]},{\"_typename\":\"TH1F\",\"fUniqueID\":0,\"fBits\":513,\"fName\":\"DecayLengthK0S_Background\",\"fTitle\":\"\",\"fLineColor\":2,\"fLineStyle\":1,\"fLineWidth\":2,\"fFillColor\":2,\"fFillStyle\":3005,\"fMarkerColor\":1,\"fMarkerStyle\":1,\"fMarkerSize\":1,\"fNcells\":102,\"fXaxis\":{\"_typename\":\"TAxis\",\"fUniqueID\":0,\"fBits\":0,\"fName\":\"xaxis\",\"fTitle\":\"\",\"fNdivisions\":510,\"fAxisColor\":1,\"fLabelColor\":1,\"fLabelFont\":42,\"fLabelOffset\":0.005,\"fLabelSize\":0.035,\"fTickLength\":0.03,\"fTitleOffset\":1,\"fTitleSize\":0.035,\"fTitleColor\":1,\"fTitleFont\":42,\"fNbins\":100,\"fXmin\":-5,\"fXmax\":100,\"fXbins\":[],\"fFirst\":0,\"fLast\":0,\"fBits2\":0,\"fTimeDisplay\":false,\"fTimeFormat\":\"\",\"fLabels\":null,\"fModLabs\":null},\"fYaxis\":{\"_typename\":\"TAxis\",\"fUniqueID\":0,\"fBits\":0,\"fName\":\"yaxis\",\"fTitle\":\"\",\"fNdivisions\":510,\"fAxisColor\":1,\"fLabelColor\":1,\"fLabelFont\":42,\"fLabelOffset\":0.005,\"fLabelSize\":0.035,\"fTickLength\":0.03,\"fTitleOffset\":0,\"fTitleSize\":0.035,\"fTitleColor\":1,\"fTitleFont\":42,\"fNbins\":1,\"fXmin\":0,\"fXmax\":1,\"fXbins\":[],\"fFirst\":0,\"fLast\":0,\"fBits2\":0,\"fTimeDisplay\":false,\"fTimeFormat\":\"\",\"fLabels\":null,\"fModLabs\":null},\"fZaxis\":{\"_typename\":\"TAxis\",\"fUniqueID\":0,\"fBits\":0,\"fName\":\"zaxis\",\"fTitle\":\"\",\"fNdivisions\":510,\"fAxisColor\":1,\"fLabelColor\":1,\"fLabelFont\":42,\"fLabelOffset\":0.005,\"fLabelSize\":0.035,\"fTickLength\":0.03,\"fTitleOffset\":1,\"fTitleSize\":0.035,\"fTitleColor\":1,\"fTitleFont\":42,\"fNbins\":1,\"fXmin\":0,\"fXmax\":1,\"fXbins\":[],\"fFirst\":0,\"fLast\":0,\"fBits2\":0,\"fTimeDisplay\":false,\"fTimeFormat\":\"\",\"fLabels\":null,\"fModLabs\":null},\"fBarOffset\":0,\"fBarWidth\":1000,\"fEntries\":1473789,\"fTsumw\":1470807,\"fTsumw2\":1470807,\"fTsumwx\":17475194.29978,\"fTsumwx2\":472508952.974242,\"fMaximum\":-1111,\"fMinimum\":-1111,\"fNormFactor\":0,\"fContour\":[],\"fSumw2\":[],\"fOption\":\"\",\"fFunctions\":{\"_typename\":\"TList\",\"name\":\"TList\",\"arr\":[],\"opt\":[]},\"fBufferSize\":0,\"fBuffer\":[],\"fBinStatErrOpt\":0,\"fStatOverflows\":2,\"fArray\":[0,0,0,0,0,1693,120886,145667,128190,110033,94667,82956,73177,64918,57842,51293,46705,41482,37594,33834,30241,27137,24660,22547,20616,18480,17046,15725,14382,13213,11933,11091,10022,9663,8713,8104,7329,7052,6569,6125,5721,5186,4815,4463,4194,4052,3727,3384,3192,3034,2782,2669,2586,2380,2202,1981,1987,1748,1671,1516,1450,1408,1382,1278,1208,1139,1015,980,987,901,860,852,771,758,644,634,676,655,551,584,503,487,461,467,487,448,395,336,384,328,302,325,341,278,263,273,226,232,236,226,201,2982]}],\"opt\":[\"\",\"same\"]},\"fExecs\":{\"_typename\":\"TList\",\"name\":\"TList\",\"arr\":[],\"opt\":[]},\"fName\":\"c1_7\",\"fTitle\":\"c1_7\",\"fNumPaletteColor\":0,\"fNextPaletteColor\":0},{\"_typename\":\"TPad\",\"fUniqueID\":0,\"fBits\":9,\"fLineColor\":1,\"fLineStyle\":1,\"fLineWidth\":1,\"fFillColor\":0,\"fFillStyle\":1001,\"fLeftMargin\":0.1,\"fRightMargin\":0.1,\"fBottomMargin\":0.1,\"fTopMargin\":0.1,\"fXfile\":2,\"fYfile\":2,\"fAfile\":1,\"fXstat\":0.99,\"fYstat\":0.99,\"fAstat\":2,\"fFrameFillColor\":0,\"fFrameLineColor\":1,\"fFrameFillStyle\":1001,\"fFrameLineStyle\":1,\"fFrameLineWidth\":1,\"fFrameBorderSize\":1,\"fFrameBorderMode\":0,\"fX1\":0,\"fY1\":0,\"fX2\":1,\"fY2\":1,\"fXtoAbsPixelk\":454.920049800622,\"fXtoPixelk\":5e-5,\"fXtoPixel\":428.160000398755,\"fYtoAbsPixelk\":1528.56005034511,\"fYtoPixelk\":355.120050690222,\"fYtoPixel\":-355.120000690222,\"fUtoAbsPixelk\":454.920049800622,\"fUtoPixelk\":5e-5,\"fUtoPixel\":428.160000398755,\"fVtoAbsPixelk\":1528.56005034511,\"fVtoPixelk\":355.120000690222,\"fVtoPixel\":-355.120000690222,\"fAbsPixeltoXk\":-1.06249999854481,\"fPixeltoXk\":0,\"fPixeltoX\":0.00233557548362453,\"fAbsPixeltoYk\":4.30434781869271,\"fPixeltoYk\":0,\"fPixeltoY\":-0.00281594953271111,\"fXlowNDC\":0.509999999776483,\"fYlowNDC\":0.00999999977648258,\"fXUpNDC\":0.990000000223517,\"fYUpNDC\":0.240000000223517,\"fWNDC\":0.480000000447035,\"fHNDC\":0.230000000447035,\"fAbsXlowNDC\":0.509999999776483,\"fAbsYlowNDC\":0.00999999977648258,\"fAbsWNDC\":0.480000000447035,\"fAbsHNDC\":0.230000000447035,\"fUxmin\":0,\"fUymin\":0,\"fUxmax\":1,\"fUymax\":1,\"fTheta\":30,\"fPhi\":30,\"fAspectRatio\":0,\"fNumber\":8,\"fTickx\":0,\"fTicky\":0,\"fLogx\":0,\"fLogy\":0,\"fLogz\":0,\"fPadPaint\":0,\"fCrosshair\":0,\"fCrosshairPos\":0,\"fBorderSize\":2,\"fBorderMode\":0,\"fModified\":true,\"fGridx\":false,\"fGridy\":false,\"fAbsCoord\":false,\"fEditable\":true,\"fFixedAspectRatio\":false,\"fPrimitives\":{\"_typename\":\"TList\",\"name\":\"TList\",\"arr\":[{\"_typename\":\"TH1F\",\"fUniqueID\":0,\"fBits\":513,\"fName\":\"cosPAK0S_Signal\",\"fTitle\":\"cosPAK0S\",\"fLineColor\":4,\"fLineStyle\":1,\"fLineWidth\":2,\"fFillColor\":4,\"fFillStyle\":3004,\"fMarkerColor\":1,\"fMarkerStyle\":1,\"fMarkerSize\":1,\"fNcells\":102,\"fXaxis\":{\"_typename\":\"TAxis\",\"fUniqueID\":0,\"fBits\":0,\"fName\":\"xaxis\",\"fTitle\":\"\",\"fNdivisions\":510,\"fAxisColor\":1,\"fLabelColor\":1,\"fLabelFont\":42,\"fLabelOffset\":0.005,\"fLabelSize\":0.035,\"fTickLength\":0.03,\"fTitleOffset\":1,\"fTitleSize\":0.035,\"fTitleColor\":1,\"fTitleFont\":42,\"fNbins\":100,\"fXmin\":0.9999,\"fXmax\":1.00001,\"fXbins\":[],\"fFirst\":0,\"fLast\":0,\"fBits2\":0,\"fTimeDisplay\":false,\"fTimeFormat\":\"\",\"fLabels\":null,\"fModLabs\":null},\"fYaxis\":{\"_typename\":\"TAxis\",\"fUniqueID\":0,\"fBits\":0,\"fName\":\"yaxis\",\"fTitle\":\"\",\"fNdivisions\":510,\"fAxisColor\":1,\"fLabelColor\":1,\"fLabelFont\":42,\"fLabelOffset\":0.005,\"fLabelSize\":0.035,\"fTickLength\":0.03,\"fTitleOffset\":0,\"fTitleSize\":0.035,\"fTitleColor\":1,\"fTitleFont\":42,\"fNbins\":1,\"fXmin\":0,\"fXmax\":1,\"fXbins\":[],\"fFirst\":0,\"fLast\":0,\"fBits2\":0,\"fTimeDisplay\":false,\"fTimeFormat\":\"\",\"fLabels\":null,\"fModLabs\":null},\"fZaxis\":{\"_typename\":\"TAxis\",\"fUniqueID\":0,\"fBits\":0,\"fName\":\"zaxis\",\"fTitle\":\"\",\"fNdivisions\":510,\"fAxisColor\":1,\"fLabelColor\":1,\"fLabelFont\":42,\"fLabelOffset\":0.005,\"fLabelSize\":0.035,\"fTickLength\":0.03,\"fTitleOffset\":1,\"fTitleSize\":0.035,\"fTitleColor\":1,\"fTitleFont\":42,\"fNbins\":1,\"fXmin\":0,\"fXmax\":1,\"fXbins\":[],\"fFirst\":0,\"fLast\":0,\"fBits2\":0,\"fTimeDisplay\":false,\"fTimeFormat\":\"\",\"fLabels\":null,\"fModLabs\":null},\"fBarOffset\":0,\"fBarWidth\":1000,\"fEntries\":1762028,\"fTsumw\":1460534,\"fTsumw2\":1460534,\"fTsumwx\":1460510.16097158,\"fTsumwx2\":1460486.32300332,\"fMaximum\":-1111,\"fMinimum\":-1111,\"fNormFactor\":0,\"fContour\":[],\"fSumw2\":[],\"fOption\":\"\",\"fFunctions\":{\"_typename\":\"TList\",\"name\":\"TList\",\"arr\":[],\"opt\":[]},\"fBufferSize\":0,\"fBuffer\":[],\"fBinStatErrOpt\":0,\"fStatOverflows\":2,\"fArray\":[301494,1918,2059,1930,2103,2045,2133,2085,2118,2211,2142,2332,2299,2376,2309,2481,2412,2542,2506,2529,2767,2672,2848,2791,2980,2835,3214,3091,3269,3191,3267,3499,3398,3670,3524,3960,3836,4100,4001,4343,4190,4274,4732,4567,4898,4857,5238,5191,5574,5395,5971,5963,6093,6559,6559,7150,6893,7551,7619,8366,8165,8981,8980,9195,10049,10439,11338,11381,12524,12630,14178,14350,15839,16325,17057,19442,19932,22784,23187,27007,27937,32539,34698,40655,44052,50149,61681,69020,89349,107736,156547,224962,0,0,0,0,0,0,0,0,0,0]},{\"_typename\":\"TH1F\",\"fUniqueID\":0,\"fBits\":513,\"fName\":\"cosPAK0S_Background\",\"fTitle\":\"\",\"fLineColor\":2,\"fLineStyle\":1,\"fLineWidth\":2,\"fFillColor\":2,\"fFillStyle\":3005,\"fMarkerColor\":1,\"fMarkerStyle\":1,\"fMarkerSize\":1,\"fNcells\":102,\"fXaxis\":{\"_typename\":\"TAxis\",\"fUniqueID\":0,\"fBits\":0,\"fName\":\"xaxis\",\"fTitle\":\"\",\"fNdivisions\":510,\"fAxisColor\":1,\"fLabelColor\":1,\"fLabelFont\":42,\"fLabelOffset\":0.005,\"fLabelSize\":0.035,\"fTickLength\":0.03,\"fTitleOffset\":1,\"fTitleSize\":0.035,\"fTitleColor\":1,\"fTitleFont\":42,\"fNbins\":100,\"fXmin\":0.9999,\"fXmax\":1.00001,\"fXbins\":[],\"fFirst\":0,\"fLast\":0,\"fBits2\":0,\"fTimeDisplay\":false,\"fTimeFormat\":\"\",\"fLabels\":null,\"fModLabs\":null},\"fYaxis\":{\"_typename\":\"TAxis\",\"fUniqueID\":0,\"fBits\":0,\"fName\":\"yaxis\",\"fTitle\":\"\",\"fNdivisions\":510,\"fAxisColor\":1,\"fLabelColor\":1,\"fLabelFont\":42,\"fLabelOffset\":0.005,\"fLabelSize\":0.035,\"fTickLength\":0.03,\"fTitleOffset\":0,\"fTitleSize\":0.035,\"fTitleColor\":1,\"fTitleFont\":42,\"fNbins\":1,\"fXmin\":0,\"fXmax\":1,\"fXbins\":[],\"fFirst\":0,\"fLast\":0,\"fBits2\":0,\"fTimeDisplay\":false,\"fTimeFormat\":\"\",\"fLabels\":null,\"fModLabs\":null},\"fZaxis\":{\"_typename\":\"TAxis\",\"fUniqueID\":0,\"fBits\":0,\"fName\":\"zaxis\",\"fTitle\":\"\",\"fNdivisions\":510,\"fAxisColor\":1,\"fLabelColor\":1,\"fLabelFont\":42,\"fLabelOffset\":0.005,\"fLabelSize\":0.035,\"fTickLength\":0.03,\"fTitleOffset\":1,\"fTitleSize\":0.035,\"fTitleColor\":1,\"fTitleFont\":42,\"fNbins\":1,\"fXmin\":0,\"fXmax\":1,\"fXbins\":[],\"fFirst\":0,\"fLast\":0,\"fBits2\":0,\"fTimeDisplay\":false,\"fTimeFormat\":\"\",\"fLabels\":null,\"fModLabs\":null},\"fBarOffset\":0,\"fBarWidth\":1000,\"fEntries\":1473789,\"fTsumw\":1122536,\"fTsumw2\":1122536,\"fTsumwx\":1122514.59999615,\"fTsumwx2\":1122493.20099337,\"fMaximum\":-1111,\"fMinimum\":-1111,\"fNormFactor\":0,\"fContour\":[],\"fSumw2\":[],\"fOption\":\"\",\"fFunctions\":{\"_typename\":\"TList\",\"name\":\"TList\",\"arr\":[],\"opt\":[]},\"fBufferSize\":0,\"fBuffer\":[],\"fBinStatErrOpt\":0,\"fStatOverflows\":2,\"fArray\":[351253,1882,2051,1955,2119,2014,2160,2003,2068,2320,2115,2329,2185,2402,2320,2462,2348,2492,2460,2474,2687,2502,2799,2762,2922,2780,2931,2911,3199,3024,3097,3326,3287,3442,3356,3677,3518,3952,3721,3979,3932,3952,4326,4274,4511,4467,4834,4738,5149,4953,5517,5364,5571,5922,5989,6590,6205,6971,6825,7553,7285,8087,7903,8437,9057,9041,10094,9895,11179,11164,12308,12455,13909,14060,14546,16298,16752,19243,19593,22463,23010,26199,27636,32722,34641,38865,46982,51287,65000,75432,102783,130536,0,0,0,0,0,0,0,0,0,0]}],\"opt\":[\"\",\"same\"]},\"fExecs\":{\"_typename\":\"TList\",\"name\":\"TList\",\"arr\":[],\"opt\":[]},\"fName\":\"c1_8\",\"fTitle\":\"c1_8\",\"fNumPaletteColor\":0,\"fNextPaletteColor\":0},{\"_typename\":\"TStyle\",\"fUniqueID\":0,\"fBits\":0,\"fName\":\"Modern\",\"fTitle\":\"Modern Style\",\"fLineColor\":1,\"fLineStyle\":1,\"fLineWidth\":1,\"fFillColor\":19,\"fFillStyle\":1001,\"fMarkerColor\":1,\"fMarkerStyle\":1,\"fMarkerSize\":1,\"fTextAngle\":0,\"fTextSize\":0.05,\"fTextAlign\":11,\"fTextColor\":1,\"fTextFont\":62,\"fXaxis\":{\"_typename\":\"TAttAxis\",\"fNdivisions\":510,\"fAxisColor\":1,\"fLabelColor\":1,\"fLabelFont\":42,\"fLabelOffset\":0.005,\"fLabelSize\":0.035,\"fTickLength\":0.03,\"fTitleOffset\":1,\"fTitleSize\":0.035,\"fTitleColor\":1,\"fTitleFont\":42},\"fYaxis\":{\"_typename\":\"TAttAxis\",\"fNdivisions\":510,\"fAxisColor\":1,\"fLabelColor\":1,\"fLabelFont\":42,\"fLabelOffset\":0.005,\"fLabelSize\":0.035,\"fTickLength\":0.03,\"fTitleOffset\":0,\"fTitleSize\":0.035,\"fTitleColor\":1,\"fTitleFont\":42},\"fZaxis\":{\"_typename\":\"TAttAxis\",\"fNdivisions\":510,\"fAxisColor\":1,\"fLabelColor\":1,\"fLabelFont\":42,\"fLabelOffset\":0.005,\"fLabelSize\":0.035,\"fTickLength\":0.03,\"fTitleOffset\":1,\"fTitleSize\":0.035,\"fTitleColor\":1,\"fTitleFont\":42},\"fBarWidth\":1,\"fBarOffset\":0,\"fColorModelPS\":0,\"fDrawBorder\":0,\"fOptLogx\":0,\"fOptLogy\":0,\"fOptLogz\":0,\"fOptDate\":0,\"fOptStat\":1111,\"fOptTitle\":1,\"fOptFile\":0,\"fOptFit\":0,\"fShowEventStatus\":0,\"fShowEditor\":0,\"fShowToolBar\":0,\"fNumberContours\":20,\"fAttDate\":{\"_typename\":\"TAttText\",\"fTextAngle\":0,\"fTextSize\":0.025,\"fTextAlign\":11,\"fTextColor\":1,\"fTextFont\":62},\"fDateX\":0.01,\"fDateY\":0.01,\"fEndErrorSize\":2,\"fErrorX\":0.5,\"fFuncColor\":2,\"fFuncStyle\":1,\"fFuncWidth\":2,\"fGridColor\":0,\"fGridStyle\":3,\"fGridWidth\":1,\"fLegendBorderSize\":1,\"fLegendFillColor\":0,\"fLegendFont\":42,\"fLegendTextSize\":0,\"fHatchesLineWidth\":1,\"fHatchesSpacing\":1,\"fFrameFillColor\":0,\"fFrameLineColor\":1,\"fFrameFillStyle\":1001,\"fFrameLineStyle\":1,\"fFrameLineWidth\":1,\"fFrameBorderSize\":1,\"fFrameBorderMode\":0,\"fHistFillColor\":0,\"fHistLineColor\":602,\"fHistFillStyle\":1001,\"fHistLineStyle\":1,\"fHistLineWidth\":1,\"fHistMinimumZero\":false,\"fHistTopMargin\":0.05,\"fCanvasPreferGL\":false,\"fCanvasColor\":0,\"fCanvasBorderSize\":2,\"fCanvasBorderMode\":0,\"fCanvasDefH\":500,\"fCanvasDefW\":700,\"fCanvasDefX\":10,\"fCanvasDefY\":10,\"fPadColor\":0,\"fPadBorderSize\":2,\"fPadBorderMode\":0,\"fPadBottomMargin\":0.1,\"fPadTopMargin\":0.1,\"fPadLeftMargin\":0.1,\"fPadRightMargin\":0.1,\"fPadGridX\":false,\"fPadGridY\":false,\"fPadTickX\":0,\"fPadTickY\":0,\"fPaperSizeX\":20,\"fPaperSizeY\":26,\"fScreenFactor\":1,\"fStatColor\":0,\"fStatTextColor\":1,\"fStatBorderSize\":1,\"fStatFont\":42,\"fStatFontSize\":0,\"fStatStyle\":1001,\"fStatFormat\":\"6.4g\",\"fStatX\":0.98,\"fStatY\":0.935,\"fStatW\":0.2,\"fStatH\":0.16,\"fStripDecimals\":true,\"fTitleAlign\":23,\"fTitleColor\":0,\"fTitleTextColor\":1,\"fTitleBorderSize\":0,\"fTitleFont\":42,\"fTitleFontSize\":0.05,\"fTitleStyle\":0,\"fTitleX\":0.5,\"fTitleY\":0.995,\"fTitleW\":0,\"fTitleH\":0,\"fLegoInnerR\":0.5,\"fLineStyle\":[\"\",\"  \",\" 12 12\",\" 4 8\",\" 12 16 4 16\",\" 20 12 4 12\",\" 20 12 4 12 4 12 4 12\",\" 20 20\",\" 20 12 4 12 4 12\",\" 80 20\",\" 80 40 4 40\",\"  \",\"  \",\"  \",\"  \",\"  \",\"  \",\"  \",\"  \",\"  \",\"  \",\"  \",\"  \",\"  \",\"  \",\"  \",\"  \",\"  \",\"  \",\"  \"],\"fHeaderPS\":\"\",\"fTitlePS\":\"\",\"fFitFormat\":\"5.4g\",\"fPaintTextFormat\":\"g\",\"fLineScalePS\":3,\"fJoinLinePS\":0,\"fCapLinePS\":0,\"fTimeOffset\":788918400,\"fImageScaling\":1}],\"opt\":[\"\",\"\",\"\",\"\",\"\",\"\",\"\",\"\",\"\"]},\"fExecs\":null,\"fName\":\"c1\",\"fTitle\":\"Distributions of input variables\",\"fNumPaletteColor\":0,\"fNextPaletteColor\":0,\"fDISPLAY\":\"$DISPLAY\",\"fDoubleBuffer\":0,\"fRetained\":true,\"fXsizeUser\":0,\"fYsizeUser\":0,\"fXsizeReal\":11.39949,\"fYsizeReal\":20,\"fWindowTopX\":0,\"fWindowTopY\":0,\"fWindowWidth\":0,\"fWindowHeight\":0,\"fCw\":892,\"fCh\":1544,\"fCatt\":{\"_typename\":\"TAttCanvas\",\"fXBetween\":2,\"fYBetween\":2,\"fTitleFromTop\":1.2,\"fXdate\":0.2,\"fYdate\":0.3,\"fAdate\":1},\"kMoveOpaque\":true,\"kResizeOpaque\":true,\"fHighLightColor\":2,\"fBatch\":true,\"kShowEventStatus\":false,\"kAutoExec\":true,\"kMenuBar\":true});\n",
       "       Core.key_handling = false;\n",
       "       Core.draw(\"root_plot_1600716925555\", obj, \"\");\n",
       "     }\n",
       " );\n",
       "</script>\n"
      ],
      "text/plain": [
       "<IPython.core.display.HTML object>"
      ]
     },
     "metadata": {},
     "output_type": "display_data"
    }
   ],
   "source": [
    "f = ROOT.TFile(\"canvas.root\")\n",
    "my_canvas=f.Get(\"c1\")\n",
    "my_canvas.Draw()"
   ]
  },
  {
   "cell_type": "code",
   "execution_count": 4,
   "metadata": {},
   "outputs": [
    {
     "data": {
      "text/html": [
       "\n",
       "<div id=\"root_plot_1600716925775\"\n",
       "     style=\"width: 796px; height: 572px\">\n",
       "</div>\n",
       "<script src=\"/static/components/requirejs/require.js\" type=\"text/javascript\" charset=\"utf-8\"></script>\n",
       "<script>\n",
       " requirejs.config({\n",
       "     paths: {\n",
       "       'JSRootCore' : '/static/scripts/JSRootCore',\n",
       "     }\n",
       "   });\n",
       " require(['JSRootCore'],\n",
       "     function(Core) {\n",
       "       var obj = Core.JSONR_unref({\"_typename\":\"TCanvas\",\"fUniqueID\":0,\"fBits\":3342344,\"fLineColor\":1,\"fLineStyle\":1,\"fLineWidth\":1,\"fFillColor\":0,\"fFillStyle\":1001,\"fLeftMargin\":0.1,\"fRightMargin\":0.1,\"fBottomMargin\":0.1,\"fTopMargin\":0.1,\"fXfile\":2,\"fYfile\":2,\"fAfile\":1,\"fXstat\":0.99,\"fYstat\":0.99,\"fAstat\":2,\"fFrameFillColor\":0,\"fFrameLineColor\":1,\"fFrameFillStyle\":1001,\"fFrameLineStyle\":1,\"fFrameLineWidth\":1,\"fFrameBorderSize\":1,\"fFrameBorderMode\":0,\"fX1\":-2.50000018626453,\"fY1\":-1149.4875856435,\"fX2\":22.5000001862645,\"fY2\":10345.3875856435,\"fXtoAbsPixelk\":79.6000547445299,\"fXtoPixelk\":79.6000547445299,\"fXtoPixel\":31.839999525547,\"fYtoAbsPixelk\":514.800046590614,\"fYtoPixelk\":514.800046590614,\"fYtoPixel\":-0.0497613059277752,\"fUtoAbsPixelk\":5e-5,\"fUtoPixelk\":5e-5,\"fUtoPixel\":796,\"fVtoAbsPixelk\":572.00005,\"fVtoPixelk\":572,\"fVtoPixel\":-572,\"fAbsPixeltoXk\":-2.50000018626453,\"fPixeltoXk\":-2.50000018626453,\"fPixeltoX\":0.0314070356438807,\"fAbsPixeltoYk\":10345.3875856435,\"fPixeltoYk\":-1149.4875856435,\"fPixeltoY\":-20.0959356141381,\"fXlowNDC\":0,\"fYlowNDC\":0,\"fXUpNDC\":1,\"fYUpNDC\":1,\"fWNDC\":1,\"fHNDC\":1,\"fAbsXlowNDC\":0,\"fAbsYlowNDC\":0,\"fAbsWNDC\":1,\"fAbsHNDC\":1,\"fUxmin\":0,\"fUymin\":0,\"fUxmax\":20,\"fUymax\":9195.9,\"fTheta\":30,\"fPhi\":30,\"fAspectRatio\":0,\"fNumber\":0,\"fTickx\":0,\"fTicky\":0,\"fLogx\":0,\"fLogy\":0,\"fLogz\":0,\"fPadPaint\":0,\"fCrosshair\":0,\"fCrosshairPos\":0,\"fBorderSize\":2,\"fBorderMode\":0,\"fModified\":false,\"fGridx\":false,\"fGridy\":false,\"fAbsCoord\":false,\"fEditable\":true,\"fFixedAspectRatio\":false,\"fPrimitives\":{\"_typename\":\"TList\",\"name\":\"TList\",\"arr\":[{\"_typename\":\"TFrame\",\"fUniqueID\":0,\"fBits\":8,\"fLineColor\":1,\"fLineStyle\":1,\"fLineWidth\":1,\"fFillColor\":0,\"fFillStyle\":1001,\"fX1\":0,\"fY1\":0,\"fX2\":20,\"fY2\":9195.9,\"fBorderSize\":1,\"fBorderMode\":0},{\"_typename\":\"TH1F\",\"fUniqueID\":0,\"fBits\":8,\"fName\":\"h2\",\"fTitle\":\"EXAMPLE\",\"fLineColor\":602,\"fLineStyle\":1,\"fLineWidth\":1,\"fFillColor\":4,\"fFillStyle\":4050,\"fMarkerColor\":1,\"fMarkerStyle\":1,\"fMarkerSize\":1,\"fNcells\":102,\"fXaxis\":{\"_typename\":\"TAxis\",\"fUniqueID\":0,\"fBits\":0,\"fName\":\"xaxis\",\"fTitle\":\"\",\"fNdivisions\":510,\"fAxisColor\":1,\"fLabelColor\":1,\"fLabelFont\":42,\"fLabelOffset\":0.005,\"fLabelSize\":0.035,\"fTickLength\":0.03,\"fTitleOffset\":1,\"fTitleSize\":0.035,\"fTitleColor\":1,\"fTitleFont\":42,\"fNbins\":100,\"fXmin\":0,\"fXmax\":20,\"fXbins\":[],\"fFirst\":0,\"fLast\":0,\"fBits2\":0,\"fTimeDisplay\":false,\"fTimeFormat\":\"\",\"fLabels\":null,\"fModLabs\":null},\"fYaxis\":{\"_typename\":\"TAxis\",\"fUniqueID\":0,\"fBits\":0,\"fName\":\"yaxis\",\"fTitle\":\"\",\"fNdivisions\":510,\"fAxisColor\":1,\"fLabelColor\":1,\"fLabelFont\":42,\"fLabelOffset\":0.005,\"fLabelSize\":0.035,\"fTickLength\":0.03,\"fTitleOffset\":0,\"fTitleSize\":0.035,\"fTitleColor\":1,\"fTitleFont\":42,\"fNbins\":1,\"fXmin\":0,\"fXmax\":1,\"fXbins\":[],\"fFirst\":0,\"fLast\":0,\"fBits2\":0,\"fTimeDisplay\":false,\"fTimeFormat\":\"\",\"fLabels\":null,\"fModLabs\":null},\"fZaxis\":{\"_typename\":\"TAxis\",\"fUniqueID\":0,\"fBits\":0,\"fName\":\"zaxis\",\"fTitle\":\"\",\"fNdivisions\":510,\"fAxisColor\":1,\"fLabelColor\":1,\"fLabelFont\":42,\"fLabelOffset\":0.005,\"fLabelSize\":0.035,\"fTickLength\":0.03,\"fTitleOffset\":1,\"fTitleSize\":0.035,\"fTitleColor\":1,\"fTitleFont\":42,\"fNbins\":1,\"fXmin\":0,\"fXmax\":1,\"fXbins\":[],\"fFirst\":0,\"fLast\":0,\"fBits2\":0,\"fTimeDisplay\":false,\"fTimeFormat\":\"\",\"fLabels\":null,\"fModLabs\":null},\"fBarOffset\":0,\"fBarWidth\":1000,\"fEntries\":143222,\"fTsumw\":143185,\"fTsumw2\":143185,\"fTsumwx\":400969.666229734,\"fTsumwx2\":1990618.18816421,\"fMaximum\":-1111,\"fMinimum\":-1111,\"fNormFactor\":0,\"fContour\":[],\"fSumw2\":[],\"fOption\":\"\",\"fFunctions\":{\"_typename\":\"TList\",\"name\":\"TList\",\"arr\":[{\"_typename\":\"TPaveStats\",\"fUniqueID\":0,\"fBits\":9,\"fLineColor\":1,\"fLineStyle\":1,\"fLineWidth\":1,\"fFillColor\":0,\"fFillStyle\":1001,\"fX1\":17.0000005066395,\"fY1\":7759.04074061872,\"fX2\":22.0000006556511,\"fY2\":9598.22072691576,\"fX1NDC\":0.780000016093254,\"fY1NDC\":0.775000005960464,\"fX2NDC\":0.980000019073486,\"fY2NDC\":0.935000002384186,\"fBorderSize\":1,\"fInit\":1,\"fShadowColor\":1,\"fCornerRadius\":0,\"fOption\":\"brNDC\",\"fName\":\"stats\",\"fTextAngle\":0,\"fTextSize\":0,\"fTextAlign\":12,\"fTextColor\":1,\"fTextFont\":42,\"fLabel\":\"\",\"fLongest\":18,\"fMargin\":0.05,\"fLines\":{\"_typename\":\"TList\",\"name\":\"TList\",\"arr\":[{\"_typename\":\"TLatex\",\"fUniqueID\":0,\"fBits\":0,\"fName\":\"\",\"fTitle\":\"h2\",\"fTextAngle\":0,\"fTextSize\":0.0368,\"fTextAlign\":0,\"fTextColor\":0,\"fTextFont\":0,\"fX\":0,\"fY\":0,\"fLineColor\":1,\"fLineStyle\":1,\"fLineWidth\":2,\"fLimitFactorSize\":3,\"fOriginSize\":0.0368000008165836},{\"_typename\":\"TLatex\",\"fUniqueID\":0,\"fBits\":0,\"fName\":\"\",\"fTitle\":\"Entries = 143222 \",\"fTextAngle\":0,\"fTextSize\":0,\"fTextAlign\":0,\"fTextColor\":0,\"fTextFont\":0,\"fX\":0,\"fY\":0,\"fLineColor\":1,\"fLineStyle\":1,\"fLineWidth\":2,\"fLimitFactorSize\":3,\"fOriginSize\":0.04},{\"_typename\":\"TLatex\",\"fUniqueID\":0,\"fBits\":0,\"fName\":\"\",\"fTitle\":\"Mean  =    2.8\",\"fTextAngle\":0,\"fTextSize\":0,\"fTextAlign\":0,\"fTextColor\":0,\"fTextFont\":0,\"fX\":0,\"fY\":0,\"fLineColor\":1,\"fLineStyle\":1,\"fLineWidth\":2,\"fLimitFactorSize\":3,\"fOriginSize\":0.04},{\"_typename\":\"TLatex\",\"fUniqueID\":0,\"fBits\":0,\"fName\":\"\",\"fTitle\":\"Std Dev   =  2.462\",\"fTextAngle\":0,\"fTextSize\":0,\"fTextAlign\":0,\"fTextColor\":0,\"fTextFont\":0,\"fX\":0,\"fY\":0,\"fLineColor\":1,\"fLineStyle\":1,\"fLineWidth\":2,\"fLimitFactorSize\":3,\"fOriginSize\":0.04}],\"opt\":[\"\",\"\",\"\",\"\"]},\"fOptFit\":0,\"fOptStat\":1111,\"fFitFormat\":\"5.4g\",\"fStatFormat\":\"6.4g\",\"fParent\":{\"$ref\":3}}],\"opt\":[\"brNDC\"]},\"fBufferSize\":0,\"fBuffer\":[],\"fBinStatErrOpt\":0,\"fStatOverflows\":2,\"fArray\":[0,2816,8015,8758,8435,8061,7793,7148,6792,6380,5839,5510,4974,4468,4244,3858,3642,3410,3238,2890,2768,2583,2392,2119,1992,1842,1746,1606,1518,1469,1336,1254,1162,1063,984,923,844,720,736,700,618,576,553,464,393,423,421,321,296,280,248,242,210,205,195,178,150,142,129,94,89,80,79,82,70,64,51,41,39,38,43,31,33,26,21,28,17,16,17,21,17,11,14,11,3,10,7,6,7,5,4,4,4,3,2,5,1,4,5,3,7,37]},{\"_typename\":\"TLegend\",\"fUniqueID\":0,\"fBits\":8,\"fLineColor\":1,\"fLineStyle\":1,\"fLineWidth\":1,\"fFillColor\":0,\"fFillStyle\":1001,\"fX1\":10,\"fY1\":5747.4375171287,\"fX2\":22.5000001862645,\"fY2\":9195.9000685148,\"fX1NDC\":0.5,\"fY1NDC\":0.6,\"fX2NDC\":1,\"fY2NDC\":0.9,\"fBorderSize\":1,\"fInit\":1,\"fShadowColor\":1,\"fCornerRadius\":0,\"fOption\":\"brNDC\",\"fName\":\"TPave\",\"fTextAngle\":0,\"fTextSize\":0,\"fTextAlign\":12,\"fTextColor\":1,\"fTextFont\":42,\"fPrimitives\":{\"_typename\":\"TList\",\"name\":\"TList\",\"arr\":[{\"_typename\":\"TLegendEntry\",\"fUniqueID\":0,\"fBits\":0,\"fTextAngle\":0,\"fTextSize\":0,\"fTextAlign\":22,\"fTextColor\":0,\"fTextFont\":42,\"fLineColor\":1,\"fLineStyle\":1,\"fLineWidth\":1,\"fFillColor\":0,\"fFillStyle\":0,\"fMarkerColor\":1,\"fMarkerStyle\":21,\"fMarkerSize\":1,\"fObject\":null,\"fLabel\":\"The Legend Title\",\"fOption\":\"h\"},{\"_typename\":\"TLegendEntry\",\"fUniqueID\":0,\"fBits\":0,\"fTextAngle\":0,\"fTextSize\":0,\"fTextAlign\":0,\"fTextColor\":0,\"fTextFont\":42,\"fLineColor\":602,\"fLineStyle\":1,\"fLineWidth\":1,\"fFillColor\":4,\"fFillStyle\":4050,\"fMarkerColor\":1,\"fMarkerStyle\":21,\"fMarkerSize\":1,\"fObject\":{\"$ref\":3},\"fLabel\":\"HSignal\",\"fOption\":\"f\"},{\"_typename\":\"TLegendEntry\",\"fUniqueID\":0,\"fBits\":0,\"fTextAngle\":0,\"fTextSize\":0,\"fTextAlign\":0,\"fTextColor\":0,\"fTextFont\":42,\"fLineColor\":1,\"fLineStyle\":1,\"fLineWidth\":1,\"fFillColor\":0,\"fFillStyle\":0,\"fMarkerColor\":1,\"fMarkerStyle\":21,\"fMarkerSize\":1,\"fObject\":null,\"fLabel\":\"Function abs(#frac{sin(x)}{x})\",\"fOption\":\"l\"},{\"_typename\":\"TLegendEntry\",\"fUniqueID\":0,\"fBits\":0,\"fTextAngle\":0,\"fTextSize\":0,\"fTextAlign\":0,\"fTextColor\":0,\"fTextFont\":42,\"fLineColor\":1,\"fLineStyle\":1,\"fLineWidth\":1,\"fFillColor\":0,\"fFillStyle\":0,\"fMarkerColor\":1,\"fMarkerStyle\":21,\"fMarkerSize\":1,\"fObject\":null,\"fLabel\":\"Graph with error bars\",\"fOption\":\"lep\"}],\"opt\":[\"h\",\"f\",\"l\",\"lep\"]},\"fEntrySeparation\":0.1,\"fMargin\":0.25,\"fNColumns\":1,\"fColumnSeparation\":0},{\"_typename\":\"TPaveText\",\"fUniqueID\":0,\"fBits\":9,\"fLineColor\":1,\"fLineStyle\":1,\"fLineWidth\":1,\"fFillColor\":0,\"fFillStyle\":0,\"fX1\":7.567211019025,\"fY1\":9655.69512075733,\"fX2\":12.432788980975,\"fY2\":10287.9132645989,\"fX1NDC\":0.402688442211055,\"fY1NDC\":0.940000003948808,\"fX2NDC\":0.597311557788945,\"fY2NDC\":0.995000004768372,\"fBorderSize\":0,\"fInit\":1,\"fShadowColor\":1,\"fCornerRadius\":0,\"fOption\":\"blNDC\",\"fName\":\"title\",\"fTextAngle\":0,\"fTextSize\":0,\"fTextAlign\":22,\"fTextColor\":1,\"fTextFont\":42,\"fLabel\":\"\",\"fLongest\":7,\"fMargin\":0.05,\"fLines\":{\"_typename\":\"TList\",\"name\":\"TList\",\"arr\":[{\"_typename\":\"TLatex\",\"fUniqueID\":0,\"fBits\":0,\"fName\":\"\",\"fTitle\":\"EXAMPLE\",\"fTextAngle\":0,\"fTextSize\":0,\"fTextAlign\":0,\"fTextColor\":0,\"fTextFont\":0,\"fX\":0,\"fY\":0,\"fLineColor\":1,\"fLineStyle\":1,\"fLineWidth\":2,\"fLimitFactorSize\":3,\"fOriginSize\":0.0467500016093254}],\"opt\":[\"\"]}},{\"_typename\":\"TStyle\",\"fUniqueID\":0,\"fBits\":0,\"fName\":\"Modern\",\"fTitle\":\"Modern Style\",\"fLineColor\":1,\"fLineStyle\":1,\"fLineWidth\":1,\"fFillColor\":19,\"fFillStyle\":1001,\"fMarkerColor\":1,\"fMarkerStyle\":1,\"fMarkerSize\":1,\"fTextAngle\":0,\"fTextSize\":0.05,\"fTextAlign\":11,\"fTextColor\":1,\"fTextFont\":62,\"fXaxis\":{\"_typename\":\"TAttAxis\",\"fNdivisions\":510,\"fAxisColor\":1,\"fLabelColor\":1,\"fLabelFont\":42,\"fLabelOffset\":0.005,\"fLabelSize\":0.035,\"fTickLength\":0.03,\"fTitleOffset\":1,\"fTitleSize\":0.035,\"fTitleColor\":1,\"fTitleFont\":42},\"fYaxis\":{\"_typename\":\"TAttAxis\",\"fNdivisions\":510,\"fAxisColor\":1,\"fLabelColor\":1,\"fLabelFont\":42,\"fLabelOffset\":0.005,\"fLabelSize\":0.035,\"fTickLength\":0.03,\"fTitleOffset\":0,\"fTitleSize\":0.035,\"fTitleColor\":1,\"fTitleFont\":42},\"fZaxis\":{\"_typename\":\"TAttAxis\",\"fNdivisions\":510,\"fAxisColor\":1,\"fLabelColor\":1,\"fLabelFont\":42,\"fLabelOffset\":0.005,\"fLabelSize\":0.035,\"fTickLength\":0.03,\"fTitleOffset\":1,\"fTitleSize\":0.035,\"fTitleColor\":1,\"fTitleFont\":42},\"fBarWidth\":1,\"fBarOffset\":0,\"fColorModelPS\":0,\"fDrawBorder\":0,\"fOptLogx\":0,\"fOptLogy\":0,\"fOptLogz\":0,\"fOptDate\":0,\"fOptStat\":1111,\"fOptTitle\":1,\"fOptFile\":0,\"fOptFit\":0,\"fShowEventStatus\":0,\"fShowEditor\":0,\"fShowToolBar\":0,\"fNumberContours\":20,\"fAttDate\":{\"_typename\":\"TAttText\",\"fTextAngle\":0,\"fTextSize\":0.025,\"fTextAlign\":11,\"fTextColor\":1,\"fTextFont\":62},\"fDateX\":0.01,\"fDateY\":0.01,\"fEndErrorSize\":2,\"fErrorX\":0.5,\"fFuncColor\":2,\"fFuncStyle\":1,\"fFuncWidth\":2,\"fGridColor\":0,\"fGridStyle\":3,\"fGridWidth\":1,\"fLegendBorderSize\":1,\"fLegendFillColor\":0,\"fLegendFont\":42,\"fLegendTextSize\":0,\"fHatchesLineWidth\":1,\"fHatchesSpacing\":1,\"fFrameFillColor\":0,\"fFrameLineColor\":1,\"fFrameFillStyle\":1001,\"fFrameLineStyle\":1,\"fFrameLineWidth\":1,\"fFrameBorderSize\":1,\"fFrameBorderMode\":0,\"fHistFillColor\":0,\"fHistLineColor\":602,\"fHistFillStyle\":1001,\"fHistLineStyle\":1,\"fHistLineWidth\":1,\"fHistMinimumZero\":false,\"fHistTopMargin\":0.05,\"fCanvasPreferGL\":false,\"fCanvasColor\":0,\"fCanvasBorderSize\":2,\"fCanvasBorderMode\":0,\"fCanvasDefH\":500,\"fCanvasDefW\":700,\"fCanvasDefX\":10,\"fCanvasDefY\":10,\"fPadColor\":0,\"fPadBorderSize\":2,\"fPadBorderMode\":0,\"fPadBottomMargin\":0.1,\"fPadTopMargin\":0.1,\"fPadLeftMargin\":0.1,\"fPadRightMargin\":0.1,\"fPadGridX\":false,\"fPadGridY\":false,\"fPadTickX\":0,\"fPadTickY\":0,\"fPaperSizeX\":20,\"fPaperSizeY\":26,\"fScreenFactor\":1,\"fStatColor\":0,\"fStatTextColor\":1,\"fStatBorderSize\":1,\"fStatFont\":42,\"fStatFontSize\":0,\"fStatStyle\":1001,\"fStatFormat\":\"6.4g\",\"fStatX\":0.98,\"fStatY\":0.935,\"fStatW\":0.2,\"fStatH\":0.16,\"fStripDecimals\":true,\"fTitleAlign\":23,\"fTitleColor\":0,\"fTitleTextColor\":1,\"fTitleBorderSize\":0,\"fTitleFont\":42,\"fTitleFontSize\":0.05,\"fTitleStyle\":0,\"fTitleX\":0.5,\"fTitleY\":0.995,\"fTitleW\":0,\"fTitleH\":0,\"fLegoInnerR\":0.5,\"fLineStyle\":[\"\",\"  \",\" 12 12\",\" 4 8\",\" 12 16 4 16\",\" 20 12 4 12\",\" 20 12 4 12 4 12 4 12\",\" 20 20\",\" 20 12 4 12 4 12\",\" 80 20\",\" 80 40 4 40\",\"  \",\"  \",\"  \",\"  \",\"  \",\"  \",\"  \",\"  \",\"  \",\"  \",\"  \",\"  \",\"  \",\"  \",\"  \",\"  \",\"  \",\"  \",\"  \"],\"fHeaderPS\":\"\",\"fTitlePS\":\"\",\"fFitFormat\":\"5.4g\",\"fPaintTextFormat\":\"g\",\"fLineScalePS\":3,\"fJoinLinePS\":0,\"fCapLinePS\":0,\"fTimeOffset\":788918400,\"fImageScaling\":1}],\"opt\":[\"\",\"\",\"\",\"blNDC\",\"\"]},\"fExecs\":null,\"fName\":\"my_canvas\",\"fTitle\":\"my_canvas\",\"fNumPaletteColor\":0,\"fNextPaletteColor\":0,\"fDISPLAY\":\"$DISPLAY\",\"fDoubleBuffer\":0,\"fRetained\":true,\"fXsizeUser\":0,\"fYsizeUser\":0,\"fXsizeReal\":20,\"fYsizeReal\":15,\"fWindowTopX\":0,\"fWindowTopY\":0,\"fWindowWidth\":0,\"fWindowHeight\":0,\"fCw\":796,\"fCh\":572,\"fCatt\":{\"_typename\":\"TAttCanvas\",\"fXBetween\":2,\"fYBetween\":2,\"fTitleFromTop\":1.2,\"fXdate\":0.2,\"fYdate\":0.3,\"fAdate\":1},\"kMoveOpaque\":true,\"kResizeOpaque\":true,\"fHighLightColor\":2,\"fBatch\":true,\"kShowEventStatus\":false,\"kAutoExec\":true,\"kMenuBar\":true});\n",
       "       Core.key_handling = false;\n",
       "       Core.draw(\"root_plot_1600716925775\", obj, \"\");\n",
       "     }\n",
       " );\n",
       "</script>\n"
      ],
      "text/plain": [
       "<IPython.core.display.HTML object>"
      ]
     },
     "metadata": {},
     "output_type": "display_data"
    }
   ],
   "source": [
    "\n",
    "\n",
    "\n",
    "# Define a canvas\n",
    "my_canvas = ROOT.TCanvas(\"my_canvas\",\"my_canvas\",800,600)\n",
    "\n",
    "f = ROOT.TFile(\"TMVA_output_6_8.root\")\n",
    "t = f.Get(\"dataset/TestTree\")\n",
    "t1 = f.Get(\"dataset/TrainTree\")\n",
    "h1 = ROOT.TH1F(\"h1\",\"\",100,0.,20.)\n",
    "#t.Draw(\"CtK0S>>h1\")\n",
    "#h1.SetLineColor(2)\n",
    "#h1.Draw(\"same\")\n",
    "h2=ROOT.TH1F(\"h2\",\"EXAMPLE\",100,0.,20.)\n",
    "h2.SetFillColor(4)\n",
    "h2.SetFillStyle(4050)\n",
    "t1.Project(\"h2\",\"CtK0S\")\n",
    "h2.Draw(\"same\")\n",
    "\n",
    "legend = ROOT.TLegend(0.5,0.9,1,0.6)\n",
    "legend.SetHeader(\"The Legend Title\",\"C\")\n",
    "legend.AddEntry(h2,\"HSignal\",\"f\")\n",
    "legend.AddEntry(\"f1\",\"Function abs(#frac{sin(x)}{x})\",\"l\")\n",
    "legend.AddEntry(\"gr\",\"Graph with error bars\",\"lep\")\n",
    "legend.Draw()\n",
    "# You have to draw the canvas to see it in the web page.\n",
    "my_canvas.Draw()\n"
   ]
  },
  {
   "cell_type": "code",
   "execution_count": 5,
   "metadata": {},
   "outputs": [
    {
     "name": "stdout",
     "output_type": "stream",
     "text": [
      "--- --------------------------------------------------------------------\n",
      "--- If you want to save the image as eps, gif or png, please comment out \n",
      "--- the corresponding lines (line no. 239-241) in tmvaglob.C\n",
      "--- --------------------------------------------------------------------\n",
      "--- --------------------------------------------------------------------\n",
      "--- If you want to save the image as eps, gif or png, please comment out \n",
      "--- the corresponding lines (line no. 239-241) in tmvaglob.C\n",
      "--- --------------------------------------------------------------------\n"
     ]
    },
    {
     "name": "stderr",
     "output_type": "stream",
     "text": [
      "Info in <TCanvas::Print>: eps file dataset/plots/CorrelationMatrixS.eps has been created\n",
      "Info in <TCanvas::Print>: png file dataset/plots/CorrelationMatrixS.png has been created\n",
      "Info in <TCanvas::Print>: eps file dataset/plots/CorrelationMatrixB.eps has been created\n",
      "Info in <TCanvas::Print>: png file dataset/plots/CorrelationMatrixB.png has been created\n"
     ]
    }
   ],
   "source": [
    "ROOT.TMVA.correlations(\"dataset\", \"TMVA_output_6_8.root\")"
   ]
  },
  {
   "cell_type": "markdown",
   "metadata": {},
   "source": [
    "<table><tr><td><img src=\"dataset/plots/CorrelationMatrixS.png\"/></td><td><img src=\"dataset/plots/CorrelationMatrixB.png\"/></td></tr></table>"
   ]
  },
  {
   "cell_type": "code",
   "execution_count": 6,
   "metadata": {},
   "outputs": [
    {
     "name": "stdout",
     "output_type": "stream",
     "text": [
      "--- Opening root file TMVA_output_4_6.root in read mode\n",
      "--- Found directory for method: Cuts::Cuts:\t mva distribution not available (this is normal for Cut classifier)\n",
      "--- Found directory for method: BDT::BDT containing MVA_BDT_S/_B\n",
      "--- Mean and RMS (S): 0.06883, 0.104794\n",
      "--- Mean and RMS (B): -0.0994011, 0.185503\n",
      "--- --------------------------------------------------------------------\n",
      "--- If you want to save the image as eps, gif or png, please comment out \n",
      "--- the corresponding lines (line no. 239-241) in tmvaglob.C\n",
      "--- --------------------------------------------------------------------\n",
      "--- Found directory for method: MLP::MLP containing MVA_MLP_S/_B\n",
      "--- Mean and RMS (S): 0.750909, 0.15255\n",
      "--- Mean and RMS (B): 0.495123, 0.283179\n",
      "--- --------------------------------------------------------------------\n",
      "--- If you want to save the image as eps, gif or png, please comment out \n",
      "--- the corresponding lines (line no. 239-241) in tmvaglob.C\n",
      "--- --------------------------------------------------------------------\n"
     ]
    },
    {
     "name": "stderr",
     "output_type": "stream",
     "text": [
      "Warning in <TColor::TColor>: color 600 already defined\n",
      "Info in <TCanvas::Print>: eps file dataset/plots/mva_BDT.eps has been created\n",
      "Info in <TCanvas::Print>: png file dataset/plots/mva_BDT.png has been created\n",
      "Warning in <TColor::TColor>: color 600 already defined\n",
      "Info in <TCanvas::Print>: eps file dataset/plots/mva_MLP.eps has been created\n",
      "Info in <TCanvas::Print>: png file dataset/plots/mva_MLP.png has been created\n"
     ]
    }
   ],
   "source": [
    "ROOT.TMVA.mvas(\"dataset\", \"TMVA_output_4_6.root\")"
   ]
  },
  {
   "cell_type": "markdown",
   "metadata": {},
   "source": [
    "<table><tr><td><img src=\"dataset/plots/mva_BDT.png\"/></td><td><img src=\"dataset/plots/mva_MLP.png\"/></td></tr></table>"
   ]
  },
  {
   "cell_type": "code",
   "execution_count": 7,
   "metadata": {},
   "outputs": [
    {
     "ename": "SegmentationViolation",
     "evalue": "void TMVA::mvaeffs(TString dataset, TString fin = \"TMVA.root\", bool useTMVAStyle = kTRUE, TString formula = \"S/sqrt(S+B)\") =>\n    SegmentationViolation: segfault in C++; program state was reset",
     "output_type": "error",
     "traceback": [
      "\u001b[0;31m---------------------------------------------------------------------------\u001b[0m",
      "\u001b[0;31mSegmentationViolation\u001b[0m                     Traceback (most recent call last)",
      "\u001b[0;32m<ipython-input-7-3153caf736a5>\u001b[0m in \u001b[0;36m<module>\u001b[0;34m\u001b[0m\n\u001b[0;32m----> 1\u001b[0;31m \u001b[0mROOT\u001b[0m\u001b[0;34m.\u001b[0m\u001b[0mTMVA\u001b[0m\u001b[0;34m.\u001b[0m\u001b[0mmvaeffs\u001b[0m\u001b[0;34m(\u001b[0m\u001b[0;34m\"dataset\"\u001b[0m\u001b[0;34m,\u001b[0m \u001b[0;34m\"TMVA_output_4_6.root\"\u001b[0m\u001b[0;34m)\u001b[0m\u001b[0;34m\u001b[0m\u001b[0;34m\u001b[0m\u001b[0m\n\u001b[0m",
      "\u001b[0;31mSegmentationViolation\u001b[0m: void TMVA::mvaeffs(TString dataset, TString fin = \"TMVA.root\", bool useTMVAStyle = kTRUE, TString formula = \"S/sqrt(S+B)\") =>\n    SegmentationViolation: segfault in C++; program state was reset"
     ]
    },
    {
     "name": "stderr",
     "output_type": "stream",
     "text": [
      " *** Break *** segmentation violation\n",
      "\n",
      "\n",
      "\n",
      "===========================================================\n",
      "There was a crash.\n",
      "This is the entire stack trace of all threads:\n",
      "===========================================================\n",
      "\n",
      "Thread 13 (Thread 0x7fe820c73700 (LWP 15080)):\n",
      "#0  0x00007fe8547b843e in epoll_wait (epfd=75, events=0x7fe820c721d0, maxevents=256, timeout=-1) at ../sysdeps/unix/sysv/linux/epoll_wait.c:30\n",
      "#1  0x00007fe8517fd9ef in ?? () from /usr/local/lib/python3.8/dist-packages/zmq/backend/cython/../../../pyzmq.libs/libzmq-1358af2c.so.5.2.2\n",
      "#2  0x00007fe85181b84f in ?? () from /usr/local/lib/python3.8/dist-packages/zmq/backend/cython/../../../pyzmq.libs/libzmq-1358af2c.so.5.2.2\n",
      "#3  0x00007fe8518486cc in ?? () from /usr/local/lib/python3.8/dist-packages/zmq/backend/cython/../../../pyzmq.libs/libzmq-1358af2c.so.5.2.2\n",
      "#4  0x00007fe85467c609 in start_thread (arg=<optimized out>) at pthread_create.c:477\n",
      "#5  0x00007fe8547b8103 in clone () at ../sysdeps/unix/sysv/linux/x86_64/clone.S:95\n",
      "\n",
      "Thread 12 (Thread 0x7fe821474700 (LWP 15079)):\n",
      "#0  0x00007fe8547b843e in epoll_wait (epfd=72, events=0x7fe8214731d0, maxevents=256, timeout=-1) at ../sysdeps/unix/sysv/linux/epoll_wait.c:30\n",
      "#1  0x00007fe8517fd9ef in ?? () from /usr/local/lib/python3.8/dist-packages/zmq/backend/cython/../../../pyzmq.libs/libzmq-1358af2c.so.5.2.2\n",
      "#2  0x00007fe85181b84f in ?? () from /usr/local/lib/python3.8/dist-packages/zmq/backend/cython/../../../pyzmq.libs/libzmq-1358af2c.so.5.2.2\n",
      "#3  0x00007fe8518486cc in ?? () from /usr/local/lib/python3.8/dist-packages/zmq/backend/cython/../../../pyzmq.libs/libzmq-1358af2c.so.5.2.2\n",
      "#4  0x00007fe85467c609 in start_thread (arg=<optimized out>) at pthread_create.c:477\n",
      "#5  0x00007fe8547b8103 in clone () at ../sysdeps/unix/sysv/linux/x86_64/clone.S:95\n",
      "\n",
      "Thread 11 (Thread 0x7fe821c75700 (LWP 15078)):\n",
      "#0  0x00007fe8547ab96f in __GI___poll (fds=0x7fe821c74460, nfds=1, timeout=-1) at ../sysdeps/unix/sysv/linux/poll.c:29\n",
      "#1  0x00007fe85182e945 in ?? () from /usr/local/lib/python3.8/dist-packages/zmq/backend/cython/../../../pyzmq.libs/libzmq-1358af2c.so.5.2.2\n",
      "#2  0x00007fe851804c21 in ?? () from /usr/local/lib/python3.8/dist-packages/zmq/backend/cython/../../../pyzmq.libs/libzmq-1358af2c.so.5.2.2\n",
      "#3  0x00007fe8518341b2 in ?? () from /usr/local/lib/python3.8/dist-packages/zmq/backend/cython/../../../pyzmq.libs/libzmq-1358af2c.so.5.2.2\n",
      "#4  0x00007fe851833cc0 in ?? () from /usr/local/lib/python3.8/dist-packages/zmq/backend/cython/../../../pyzmq.libs/libzmq-1358af2c.so.5.2.2\n",
      "#5  0x00007fe85185b826 in ?? () from /usr/local/lib/python3.8/dist-packages/zmq/backend/cython/../../../pyzmq.libs/libzmq-1358af2c.so.5.2.2\n",
      "#6  0x00007fe85185c01f in zmq_msg_recv () from /usr/local/lib/python3.8/dist-packages/zmq/backend/cython/../../../pyzmq.libs/libzmq-1358af2c.so.5.2.2\n",
      "#7  0x00007fe850a598df in ?? () from /usr/local/lib/python3.8/dist-packages/zmq/backend/cython/socket.cpython-38-x86_64-linux-gnu.so\n",
      "#8  0x00007fe850a5204a in ?? () from /usr/local/lib/python3.8/dist-packages/zmq/backend/cython/socket.cpython-38-x86_64-linux-gnu.so\n",
      "#9  0x00007fe85109b6cc in ?? () from /usr/local/lib/python3.8/dist-packages/zmq/backend/cython/error.cpython-38-x86_64-linux-gnu.so\n",
      "#10 0x00000000005f2406 in _PyObject_MakeTpCall ()\n",
      "#11 0x000000000050795f in ?? ()\n",
      "#12 0x000000000056c475 in _PyEval_EvalFrameDefault ()\n",
      "#13 0x00000000005f1b8b in _PyFunction_Vectorcall ()\n",
      "#14 0x00000000005677c7 in _PyEval_EvalFrameDefault ()\n",
      "#15 0x00000000005f1b8b in _PyFunction_Vectorcall ()\n",
      "#16 0x00000000005677c7 in _PyEval_EvalFrameDefault ()\n",
      "#17 0x00000000005f1b8b in _PyFunction_Vectorcall ()\n",
      "#18 0x000000000050722c in ?? ()\n",
      "#19 0x00000000005f1107 in PyObject_Call ()\n",
      "#20 0x000000000064fb98 in ?? ()\n",
      "#21 0x000000000066ee14 in ?? ()\n",
      "#22 0x00007fe85467c609 in start_thread (arg=<optimized out>) at pthread_create.c:477\n",
      "#23 0x00007fe8547b8103 in clone () at ../sysdeps/unix/sysv/linux/x86_64/clone.S:95\n",
      "\n",
      "Thread 10 (Thread 0x7fe823385700 (LWP 15063)):\n",
      "#0  futex_abstimed_wait_cancelable (private=<optimized out>, abstime=0x7fe8233842b0, clockid=<optimized out>, expected=0, futex_word=0x934b6c <_PyRuntime+1228>) at ../sysdeps/nptl/futex-internal.h:320\n",
      "#1  __pthread_cond_wait_common (abstime=0x7fe8233842b0, clockid=<optimized out>, mutex=0x934b70 <_PyRuntime+1232>, cond=0x934b40 <_PyRuntime+1184>) at pthread_cond_wait.c:520\n",
      "#2  __pthread_cond_timedwait (cond=0x934b40 <_PyRuntime+1184>, mutex=0x934b70 <_PyRuntime+1232>, abstime=0x7fe8233842b0) at pthread_cond_wait.c:656\n",
      "#3  0x0000000000570679 in PyEval_RestoreThread ()\n",
      "#4  0x0000000000527712 in ?? ()\n",
      "#5  0x00000000005009da in ?? ()\n",
      "#6  0x00000000005677c7 in _PyEval_EvalFrameDefault ()\n",
      "#7  0x0000000000565972 in _PyEval_EvalCodeWithName ()\n",
      "#8  0x00000000005f1d85 in _PyFunction_Vectorcall ()\n",
      "#9  0x00000000005677c7 in _PyEval_EvalFrameDefault ()\n",
      "#10 0x0000000000565972 in _PyEval_EvalCodeWithName ()\n",
      "#11 0x00000000005f1d85 in _PyFunction_Vectorcall ()\n",
      "#12 0x00000000005677c7 in _PyEval_EvalFrameDefault ()\n",
      "#13 0x00000000005f1b8b in _PyFunction_Vectorcall ()\n",
      "#14 0x00000000005677c7 in _PyEval_EvalFrameDefault ()\n",
      "#15 0x00000000005f1b8b in _PyFunction_Vectorcall ()\n",
      "#16 0x00000000005677c7 in _PyEval_EvalFrameDefault ()\n",
      "#17 0x00000000005f1b8b in _PyFunction_Vectorcall ()\n",
      "#18 0x000000000050722c in ?? ()\n",
      "#19 0x00000000005f1107 in PyObject_Call ()\n",
      "#20 0x000000000064fb98 in ?? ()\n",
      "#21 0x000000000066ee14 in ?? ()\n",
      "#22 0x00007fe85467c609 in start_thread (arg=<optimized out>) at pthread_create.c:477\n",
      "#23 0x00007fe8547b8103 in clone () at ../sysdeps/unix/sysv/linux/x86_64/clone.S:95\n",
      "\n",
      "Thread 9 (Thread 0x7fe837fff700 (LWP 15046)):\n",
      "#0  0x00007fe8547adf9b in __GI___select (nfds=0, readfds=0x0, writefds=0x0, exceptfds=0x0, timeout=0x7fe837ffe8c0) at ../sysdeps/unix/sysv/linux/select.c:41\n",
      "#1  0x00000000006194da in ?? ()\n",
      "#2  0x00000000005c052c in ?? ()\n",
      "#3  0x000000000056c475 in _PyEval_EvalFrameDefault ()\n",
      "#4  0x00000000005f1b8b in _PyFunction_Vectorcall ()\n",
      "#5  0x00000000005677c7 in _PyEval_EvalFrameDefault ()\n",
      "#6  0x00000000005f1b8b in _PyFunction_Vectorcall ()\n",
      "#7  0x00000000005677c7 in _PyEval_EvalFrameDefault ()\n",
      "#8  0x00000000005f1b8b in _PyFunction_Vectorcall ()\n",
      "#9  0x000000000050722c in ?? ()\n",
      "#10 0x00000000005f1107 in PyObject_Call ()\n",
      "#11 0x000000000064fb98 in ?? ()\n",
      "#12 0x000000000066ee14 in ?? ()\n",
      "#13 0x00007fe85467c609 in start_thread (arg=<optimized out>) at pthread_create.c:477\n",
      "#14 0x00007fe8547b8103 in clone () at ../sysdeps/unix/sysv/linux/x86_64/clone.S:95\n",
      "\n",
      "Thread 8 (Thread 0x7fe84cbdb700 (LWP 15045)):\n",
      "#0  futex_abstimed_wait_cancelable (private=<optimized out>, abstime=0x7fe84cbd9e30, clockid=<optimized out>, expected=0, futex_word=0x934b6c <_PyRuntime+1228>) at ../sysdeps/nptl/futex-internal.h:320\n",
      "#1  __pthread_cond_wait_common (abstime=0x7fe84cbd9e30, clockid=<optimized out>, mutex=0x934b70 <_PyRuntime+1232>, cond=0x934b40 <_PyRuntime+1184>) at pthread_cond_wait.c:520\n",
      "#2  __pthread_cond_timedwait (cond=0x934b40 <_PyRuntime+1184>, mutex=0x934b70 <_PyRuntime+1232>, abstime=0x7fe84cbd9e30) at pthread_cond_wait.c:656\n",
      "#3  0x0000000000570679 in PyEval_RestoreThread ()\n",
      "#4  0x0000000000527712 in ?? ()\n",
      "#5  0x00000000005009da in ?? ()\n",
      "#6  0x00000000005677c7 in _PyEval_EvalFrameDefault ()\n",
      "#7  0x0000000000565972 in _PyEval_EvalCodeWithName ()\n",
      "#8  0x00000000005f1d85 in _PyFunction_Vectorcall ()\n",
      "#9  0x00000000005677c7 in _PyEval_EvalFrameDefault ()\n",
      "#10 0x0000000000565972 in _PyEval_EvalCodeWithName ()\n",
      "#11 0x00000000005f1d85 in _PyFunction_Vectorcall ()\n",
      "#12 0x00000000005677c7 in _PyEval_EvalFrameDefault ()\n",
      "#13 0x00000000005f1b8b in _PyFunction_Vectorcall ()\n",
      "#14 0x00000000005f1107 in PyObject_Call ()\n",
      "#15 0x0000000000568e1f in _PyEval_EvalFrameDefault ()\n",
      "#16 0x0000000000565972 in _PyEval_EvalCodeWithName ()\n",
      "#17 0x00000000005f1d85 in _PyFunction_Vectorcall ()\n",
      "#18 0x000000000056769f in _PyEval_EvalFrameDefault ()\n",
      "#19 0x00000000005f1b8b in _PyFunction_Vectorcall ()\n",
      "#20 0x00000000005677c7 in _PyEval_EvalFrameDefault ()\n",
      "#21 0x00000000005f1b8b in _PyFunction_Vectorcall ()\n",
      "#22 0x00000000005677c7 in _PyEval_EvalFrameDefault ()\n",
      "#23 0x00000000005f1b8b in _PyFunction_Vectorcall ()\n",
      "#24 0x000000000050722c in ?? ()\n",
      "#25 0x00000000005f1107 in PyObject_Call ()\n",
      "#26 0x000000000064fb98 in ?? ()\n",
      "#27 0x000000000066ee14 in ?? ()\n",
      "#28 0x00007fe85467c609 in start_thread (arg=<optimized out>) at pthread_create.c:477\n",
      "#29 0x00007fe8547b8103 in clone () at ../sysdeps/unix/sysv/linux/x86_64/clone.S:95\n",
      "\n",
      "Thread 7 (Thread 0x7fe84d41c700 (LWP 15044)):\n",
      "#0  0x00007fe8547b843e in epoll_wait (epfd=40, events=0x7fe84d41b1d0, maxevents=256, timeout=-1) at ../sysdeps/unix/sysv/linux/epoll_wait.c:30\n",
      "#1  0x00007fe8517fd9ef in ?? () from /usr/local/lib/python3.8/dist-packages/zmq/backend/cython/../../../pyzmq.libs/libzmq-1358af2c.so.5.2.2\n",
      "#2  0x00007fe85181b84f in ?? () from /usr/local/lib/python3.8/dist-packages/zmq/backend/cython/../../../pyzmq.libs/libzmq-1358af2c.so.5.2.2\n",
      "#3  0x00007fe8518486cc in ?? () from /usr/local/lib/python3.8/dist-packages/zmq/backend/cython/../../../pyzmq.libs/libzmq-1358af2c.so.5.2.2\n",
      "#4  0x00007fe85467c609 in start_thread (arg=<optimized out>) at pthread_create.c:477\n",
      "#5  0x00007fe8547b8103 in clone () at ../sysdeps/unix/sysv/linux/x86_64/clone.S:95\n",
      "\n",
      "Thread 6 (Thread 0x7fe84dc1d700 (LWP 15043)):\n",
      "#0  0x00007fe8547b843e in epoll_wait (epfd=37, events=0x7fe84dc1c1d0, maxevents=256, timeout=-1) at ../sysdeps/unix/sysv/linux/epoll_wait.c:30\n",
      "#1  0x00007fe8517fd9ef in ?? () from /usr/local/lib/python3.8/dist-packages/zmq/backend/cython/../../../pyzmq.libs/libzmq-1358af2c.so.5.2.2\n",
      "#2  0x00007fe85181b84f in ?? () from /usr/local/lib/python3.8/dist-packages/zmq/backend/cython/../../../pyzmq.libs/libzmq-1358af2c.so.5.2.2\n",
      "#3  0x00007fe8518486cc in ?? () from /usr/local/lib/python3.8/dist-packages/zmq/backend/cython/../../../pyzmq.libs/libzmq-1358af2c.so.5.2.2\n",
      "#4  0x00007fe85467c609 in start_thread (arg=<optimized out>) at pthread_create.c:477\n",
      "#5  0x00007fe8547b8103 in clone () at ../sysdeps/unix/sysv/linux/x86_64/clone.S:95\n",
      "\n",
      "Thread 5 (Thread 0x7fe84e41e700 (LWP 15042)):\n",
      "#0  0x00007fe8547ab96f in __GI___poll (fds=0x7fe84e41d520, nfds=2, timeout=-1) at ../sysdeps/unix/sysv/linux/poll.c:29\n",
      "#1  0x00007fe85185c5e5 in zmq_poll () from /usr/local/lib/python3.8/dist-packages/zmq/backend/cython/../../../pyzmq.libs/libzmq-1358af2c.so.5.2.2\n",
      "#2  0x00007fe85181cda3 in ?? () from /usr/local/lib/python3.8/dist-packages/zmq/backend/cython/../../../pyzmq.libs/libzmq-1358af2c.so.5.2.2\n",
      "#3  0x00007fe85185d469 in zmq_proxy () from /usr/local/lib/python3.8/dist-packages/zmq/backend/cython/../../../pyzmq.libs/libzmq-1358af2c.so.5.2.2\n",
      "#4  0x00007fe850214e0d in ?? () from /usr/local/lib/python3.8/dist-packages/zmq/backend/cython/_device.cpython-38-x86_64-linux-gnu.so\n",
      "#5  0x00007fe850214419 in ?? () from /usr/local/lib/python3.8/dist-packages/zmq/backend/cython/_device.cpython-38-x86_64-linux-gnu.so\n",
      "#6  0x00000000005f2406 in _PyObject_MakeTpCall ()\n",
      "#7  0x000000000056cb23 in _PyEval_EvalFrameDefault ()\n",
      "#8  0x00000000005f1b8b in _PyFunction_Vectorcall ()\n",
      "#9  0x00000000005677c7 in _PyEval_EvalFrameDefault ()\n",
      "#10 0x00000000005f1b8b in _PyFunction_Vectorcall ()\n",
      "#11 0x00000000005677c7 in _PyEval_EvalFrameDefault ()\n",
      "#12 0x00000000005f1b8b in _PyFunction_Vectorcall ()\n",
      "#13 0x000000000050722c in ?? ()\n",
      "#14 0x00000000005f1107 in PyObject_Call ()\n",
      "#15 0x000000000064fb98 in ?? ()\n",
      "#16 0x000000000066ee14 in ?? ()\n",
      "#17 0x00007fe85467c609 in start_thread (arg=<optimized out>) at pthread_create.c:477\n",
      "#18 0x00007fe8547b8103 in clone () at ../sysdeps/unix/sysv/linux/x86_64/clone.S:95\n",
      "\n",
      "Thread 4 (Thread 0x7fe84ec1f700 (LWP 15041)):\n",
      "#0  futex_abstimed_wait_cancelable (private=<optimized out>, abstime=0x7fe84ec1de40, clockid=<optimized out>, expected=0, futex_word=0x934b6c <_PyRuntime+1228>) at ../sysdeps/nptl/futex-internal.h:320\n",
      "#1  __pthread_cond_wait_common (abstime=0x7fe84ec1de40, clockid=<optimized out>, mutex=0x934b70 <_PyRuntime+1232>, cond=0x934b40 <_PyRuntime+1184>) at pthread_cond_wait.c:520\n",
      "#2  __pthread_cond_timedwait (cond=0x934b40 <_PyRuntime+1184>, mutex=0x934b70 <_PyRuntime+1232>, abstime=0x7fe84ec1de40) at pthread_cond_wait.c:656\n",
      "#3  0x0000000000570679 in PyEval_RestoreThread ()\n",
      "#4  0x0000000000631642 in ?? ()\n",
      "#5  0x000000000050143e in ?? ()\n",
      "#6  0x00000000005677c7 in _PyEval_EvalFrameDefault ()\n",
      "#7  0x0000000000565972 in _PyEval_EvalCodeWithName ()\n",
      "#8  0x00000000005f1d85 in _PyFunction_Vectorcall ()\n",
      "#9  0x00000000005677c7 in _PyEval_EvalFrameDefault ()\n",
      "#10 0x00000000005f1b8b in _PyFunction_Vectorcall ()\n",
      "#11 0x00000000005677c7 in _PyEval_EvalFrameDefault ()\n",
      "#12 0x00000000005f1b8b in _PyFunction_Vectorcall ()\n",
      "#13 0x00000000005677c7 in _PyEval_EvalFrameDefault ()\n",
      "#14 0x00000000005f1b8b in _PyFunction_Vectorcall ()\n",
      "#15 0x00000000005677c7 in _PyEval_EvalFrameDefault ()\n",
      "#16 0x00000000005f1b8b in _PyFunction_Vectorcall ()\n",
      "#17 0x000000000050722c in ?? ()\n",
      "#18 0x00000000005f1107 in PyObject_Call ()\n",
      "#19 0x0000000000568e1f in _PyEval_EvalFrameDefault ()\n",
      "#20 0x00000000005f1b8b in _PyFunction_Vectorcall ()\n",
      "#21 0x00000000005677c7 in _PyEval_EvalFrameDefault ()\n",
      "#22 0x00000000005f1b8b in _PyFunction_Vectorcall ()\n",
      "#23 0x00000000005677c7 in _PyEval_EvalFrameDefault ()\n",
      "#24 0x00000000005f1b8b in _PyFunction_Vectorcall ()\n",
      "#25 0x000000000050722c in ?? ()\n",
      "#26 0x00000000005f1107 in PyObject_Call ()\n",
      "#27 0x000000000064fb98 in ?? ()\n",
      "#28 0x000000000066ee14 in ?? ()\n",
      "#29 0x00007fe85467c609 in start_thread (arg=<optimized out>) at pthread_create.c:477\n",
      "#30 0x00007fe8547b8103 in clone () at ../sysdeps/unix/sysv/linux/x86_64/clone.S:95\n",
      "\n",
      "Thread 3 (Thread 0x7fe84f420700 (LWP 15040)):\n",
      "#0  0x00007fe8547b843e in epoll_wait (epfd=12, events=0x7fe84f41f1d0, maxevents=256, timeout=-1) at ../sysdeps/unix/sysv/linux/epoll_wait.c:30\n",
      "#1  0x00007fe8517fd9ef in ?? () from /usr/local/lib/python3.8/dist-packages/zmq/backend/cython/../../../pyzmq.libs/libzmq-1358af2c.so.5.2.2\n",
      "#2  0x00007fe85181b84f in ?? () from /usr/local/lib/python3.8/dist-packages/zmq/backend/cython/../../../pyzmq.libs/libzmq-1358af2c.so.5.2.2\n",
      "#3  0x00007fe8518486cc in ?? () from /usr/local/lib/python3.8/dist-packages/zmq/backend/cython/../../../pyzmq.libs/libzmq-1358af2c.so.5.2.2\n",
      "#4  0x00007fe85467c609 in start_thread (arg=<optimized out>) at pthread_create.c:477\n",
      "#5  0x00007fe8547b8103 in clone () at ../sysdeps/unix/sysv/linux/x86_64/clone.S:95\n",
      "\n",
      "Thread 2 (Thread 0x7fe84fc21700 (LWP 15039)):\n",
      "#0  0x00007fe8547b843e in epoll_wait (epfd=9, events=0x7fe84fc201d0, maxevents=256, timeout=-1) at ../sysdeps/unix/sysv/linux/epoll_wait.c:30\n",
      "#1  0x00007fe8517fd9ef in ?? () from /usr/local/lib/python3.8/dist-packages/zmq/backend/cython/../../../pyzmq.libs/libzmq-1358af2c.so.5.2.2\n",
      "#2  0x00007fe85181b84f in ?? () from /usr/local/lib/python3.8/dist-packages/zmq/backend/cython/../../../pyzmq.libs/libzmq-1358af2c.so.5.2.2\n",
      "#3  0x00007fe8518486cc in ?? () from /usr/local/lib/python3.8/dist-packages/zmq/backend/cython/../../../pyzmq.libs/libzmq-1358af2c.so.5.2.2\n",
      "#4  0x00007fe85467c609 in start_thread (arg=<optimized out>) at pthread_create.c:477\n",
      "#5  0x00007fe8547b8103 in clone () at ../sysdeps/unix/sysv/linux/x86_64/clone.S:95\n",
      "\n",
      "Thread 1 (Thread 0x7fe8544ca740 (LWP 15037)):\n",
      "#0  0x00007fe85477bc6f in __GI___wait4 (pid=15083, stat_loc=stat_loc\n",
      "entry=0x7ffec7425fc8, options=options\n",
      "entry=0, usage=usage\n",
      "entry=0x0) at ../sysdeps/unix/sysv/linux/wait4.c:27\n",
      "#1  0x00007fe85477bbeb in __GI___waitpid (pid=<optimized out>, stat_loc=stat_loc\n",
      "entry=0x7ffec7425fc8, options=options\n",
      "entry=0) at waitpid.c:38\n",
      "#2  0x00007fe8546eb0e7 in do_system (line=<optimized out>) at ../sysdeps/posix/system.c:172\n",
      "#3  0x00007fe837595e1e in TUnixSystem::StackTrace() () from /home/gianp/root/lib/libCore.so\n",
      "#4  0x00007fe84c2b7032 in (anonymous namespace)::TExceptionHandlerImp::HandleException(int) () from /home/gianp/root/lib/libcppyy_backend3_8.so\n",
      "#5  0x00007fe837592b19 in TUnixSystem::DispatchSignals(ESignals) () from /home/gianp/root/lib/libCore.so\n",
      "#6  <signal handler called>\n",
      "#7  0x00007fe81b251573 in asim_parse_argb_color () from /home/gianp/root/lib/libASImage.so\n",
      "#8  0x00007fe81b2a6877 in build_xpm_colormap () from /home/gianp/root/lib/libASImage.so\n",
      "#9  0x00007fe81b283db6 in xpm2ASImage () from /home/gianp/root/lib/libASImage.so\n",
      "#10 0x00007fe81b28504f in file2ASImage_extra () from /home/gianp/root/lib/libASImage.so\n",
      "#11 0x00007fe81b244a25 in TASImage::ReadImage(char const*, TImage::EImageFileTypes) () from /home/gianp/root/lib/libASImage.so\n",
      "#12 0x00007fe822abadeb in TImage::Open(char const*, TImage::EImageFileTypes) () from /home/gianp/root/lib/libGraf.so\n",
      "#13 0x00007fe81b71de52 in TGPicturePool::GetPicture(char const*) () from /home/gianp/root/lib/libGui.so\n",
      "#14 0x00007fe81b713c08 in TGNumberEntry::TGNumberEntry(TGWindow const*, double, int, int, TGNumberFormat::EStyle, TGNumberFormat::EAttribute, TGNumberFormat::ELimit, double, double) () from /home/gianp/root/lib/libGui.so\n",
      "#15 0x00007fe8200e38cd in TMVA::StatDialogMVAEffs::StatDialogMVAEffs(TString, TGWindow const*, float, float) () from /home/gianp/root/lib/libTMVAGui.so\n",
      "#16 0x00007fe8200e5f92 in TMVA::mvaeffs(TString, TString, bool, TString) () from /home/gianp/root/lib/libTMVAGui.so\n",
      "#17 0x00007fe8200001e7 in ?? ()\n",
      "#18 0x0000000000000007 in ?? ()\n",
      "#19 0xb032c009ee35b800 in ?? ()\n",
      "#20 0x00007ffec7420105 in ?? ()\n",
      "#21 0x000000000237d5d0 in ?? ()\n",
      "#22 0x00007fe820000000 in ?? ()\n",
      "#23 0x0000000002473c00 in ?? ()\n",
      "#24 0x00007ffec74290e0 in ?? ()\n",
      "#25 0x0000000000000007 in ?? ()\n",
      "#26 0x0033355f66635f5f in ?? ()\n",
      "#27 0x00007fe82d00c9b7 in cling::Interpreter::DeclareCFunction(llvm::StringRef, llvm::StringRef, bool, cling::Transaction*&) () from /home/gianp/root/lib/libCling.so\n",
      "#28 0x0000000007659f20 in ?? ()\n",
      "#29 0x00000000000002cd in ?? ()\n",
      "#30 0x00007fe82d00fb0c in cling::Interpreter::compileFunction(llvm::StringRef, llvm::StringRef, bool, bool) () from /home/gianp/root/lib/libCling.so\n",
      "#31 0x00007fe8377cb120 in gThreadTsd () from /home/gianp/root/lib/libCore.so\n",
      "#32 0x00007ffec7429250 in ?? ()\n",
      "#33 0x00007fe82cf557f4 in TClingCallFunc::make_wrapper() () from /home/gianp/root/lib/libCling.so\n",
      "===========================================================\n",
      "\n",
      "\n",
      "The lines below might hint at the cause of the crash.\n",
      "You may get help by asking at the ROOT forum http://root.cern.ch/forum\n",
      "Only if you are really convinced it is a bug in ROOT then please submit a\n",
      "report at http://root.cern.ch/bugs Please post the ENTIRE stack trace\n",
      "from above as an attachment in addition to anything else\n",
      "that might help us fixing this issue.\n",
      "===========================================================\n",
      "#7  0x00007fe81b251573 in asim_parse_argb_color () from /home/gianp/root/lib/libASImage.so\n",
      "#8  0x00007fe81b2a6877 in build_xpm_colormap () from /home/gianp/root/lib/libASImage.so\n",
      "#9  0x00007fe81b283db6 in xpm2ASImage () from /home/gianp/root/lib/libASImage.so\n",
      "#10 0x00007fe81b28504f in file2ASImage_extra () from /home/gianp/root/lib/libASImage.so\n",
      "#11 0x00007fe81b244a25 in TASImage::ReadImage(char const*, TImage::EImageFileTypes) () from /home/gianp/root/lib/libASImage.so\n",
      "#12 0x00007fe822abadeb in TImage::Open(char const*, TImage::EImageFileTypes) () from /home/gianp/root/lib/libGraf.so\n",
      "#13 0x00007fe81b71de52 in TGPicturePool::GetPicture(char const*) () from /home/gianp/root/lib/libGui.so\n",
      "#14 0x00007fe81b713c08 in TGNumberEntry::TGNumberEntry(TGWindow const*, double, int, int, TGNumberFormat::EStyle, TGNumberFormat::EAttribute, TGNumberFormat::ELimit, double, double) () from /home/gianp/root/lib/libGui.so\n",
      "#15 0x00007fe8200e38cd in TMVA::StatDialogMVAEffs::StatDialogMVAEffs(TString, TGWindow const*, float, float) () from /home/gianp/root/lib/libTMVAGui.so\n",
      "#16 0x00007fe8200e5f92 in TMVA::mvaeffs(TString, TString, bool, TString) () from /home/gianp/root/lib/libTMVAGui.so\n",
      "#17 0x00007fe8200001e7 in ?? ()\n",
      "#18 0x0000000000000007 in ?? ()\n",
      "#19 0xb032c009ee35b800 in ?? ()\n",
      "#20 0x00007ffec7420105 in ?? ()\n",
      "#21 0x000000000237d5d0 in ?? ()\n",
      "#22 0x00007fe820000000 in ?? ()\n",
      "#23 0x0000000002473c00 in ?? ()\n",
      "#24 0x00007ffec74290e0 in ?? ()\n",
      "#25 0x0000000000000007 in ?? ()\n",
      "#26 0x0033355f66635f5f in ?? ()\n",
      "#27 0x00007fe82d00c9b7 in cling::Interpreter::DeclareCFunction(llvm::StringRef, llvm::StringRef, bool, cling::Transaction*&) () from /home/gianp/root/lib/libCling.so\n",
      "#28 0x0000000007659f20 in ?? ()\n",
      "#29 0x00000000000002cd in ?? ()\n",
      "#30 0x00007fe82d00fb0c in cling::Interpreter::compileFunction(llvm::StringRef, llvm::StringRef, bool, bool) () from /home/gianp/root/lib/libCling.so\n",
      "#31 0x00007fe8377cb120 in gThreadTsd () from /home/gianp/root/lib/libCore.so\n",
      "#32 0x00007ffec7429250 in ?? ()\n",
      "#33 0x00007fe82cf557f4 in TClingCallFunc::make_wrapper() () from /home/gianp/root/lib/libCling.so\n",
      "===========================================================\n",
      "\n",
      "\n"
     ]
    }
   ],
   "source": [
    "ROOT.TMVA.mvaeffs(\"dataset\", \"TMVA_output_4_6.root\")"
   ]
  },
  {
   "cell_type": "code",
   "execution_count": null,
   "metadata": {},
   "outputs": [],
   "source": [
    "ROOT.TMVA.network(\"dataset\", \"TMVA_output_4_6.root\")"
   ]
  },
  {
   "cell_type": "markdown",
   "metadata": {},
   "source": [
    "<img src=\"dataset/plots/network.png\" width=\"70%\"/>"
   ]
  },
  {
   "cell_type": "code",
   "execution_count": null,
   "metadata": {},
   "outputs": [],
   "source": [
    "ROOT.TMVA.efficiencies(\"dataset\", \"TMVA_output_6_8.root\")"
   ]
  },
  {
   "cell_type": "markdown",
   "metadata": {},
   "source": [
    "<img src=\"dataset/plots/rejBvsS.png\"/>"
   ]
  },
  {
   "cell_type": "code",
   "execution_count": null,
   "metadata": {},
   "outputs": [],
   "source": []
  }
 ],
 "metadata": {
  "kernelspec": {
   "display_name": "Python 3",
   "language": "python",
   "name": "python3"
  },
  "language_info": {
   "codemirror_mode": {
    "name": "ipython",
    "version": 3
   },
   "file_extension": ".py",
   "mimetype": "text/x-python",
   "name": "python",
   "nbconvert_exporter": "python",
   "pygments_lexer": "ipython3",
   "version": "3.8.2"
  }
 },
 "nbformat": 4,
 "nbformat_minor": 4
}
