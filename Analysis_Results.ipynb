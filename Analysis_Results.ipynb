{
 "cells": [
  {
   "cell_type": "code",
   "execution_count": 1,
   "metadata": {},
   "outputs": [
    {
     "name": "stdout",
     "output_type": "stream",
     "text": [
      "Welcome to JupyROOT 6.22/03\n"
     ]
    }
   ],
   "source": [
    "import ROOT\n",
    "from IPython.display import Image\n",
    "# You may want this if you'd like your ROOT plots to be interactive in the notebook.\n",
    "%jsroot on\n",
    "#ROOT.TMVA.TMVAGui('TMVA_output_6_8.root')"
   ]
  },
  {
   "cell_type": "code",
   "execution_count": 3,
   "metadata": {},
   "outputs": [
    {
     "name": "stdout",
     "output_type": "stream",
     "text": [
      "--- Opening root file TMVA_output_8_12.root in read mode\n",
      "--- Found 3 classifier types\n",
      "--- Found 1 instance(s) of the method Method_Cuts\n",
      "--- Found 1 instance(s) of the method Method_BDT\n",
      "--- Found 1 instance(s) of the method Method_MLP\n",
      "--- Found 3 classifier types\n",
      "--- Found 1 instance(s) of the method Method_Cuts\n",
      "--- Found 1 instance(s) of the method Method_BDT\n",
      "--- Found 1 instance(s) of the method Method_MLP\n",
      "--- --------------------------------------------------------------------\n",
      "--- If you want to save the image as eps, gif or png, please comment out \n",
      "--- the corresponding lines (line no. 239-241) in tmvaglob.C\n",
      "--- --------------------------------------------------------------------\n"
     ]
    },
    {
     "name": "stderr",
     "output_type": "stream",
     "text": [
      "Warning in <TColor::TColor>: color 599 already defined\n",
      "Info in <TCanvas::Print>: eps file dataset/plots/rejBvsS.eps has been created\n",
      "Info in <TCanvas::Print>: png file dataset/plots/rejBvsS.png has been created\n"
     ]
    }
   ],
   "source": [
    "ROOT.TMVA.efficiencies(\"dataset\", \"TMVA_output_8_12.root\")"
   ]
  },
  {
   "cell_type": "markdown",
   "metadata": {},
   "source": [
    "<img src=\"dataset/plots/rejBvsS.png\" alt=\"Drawing\" style=\"width: 100%;\"/>\n"
   ]
  },
  {
   "cell_type": "code",
   "execution_count": null,
   "metadata": {},
   "outputs": [],
   "source": []
  },
  {
   "cell_type": "code",
   "execution_count": null,
   "metadata": {},
   "outputs": [],
   "source": []
  }
 ],
 "metadata": {
  "kernelspec": {
   "display_name": "Python 3",
   "language": "python",
   "name": "python3"
  },
  "language_info": {
   "codemirror_mode": {
    "name": "ipython",
    "version": 3
   },
   "file_extension": ".py",
   "mimetype": "text/x-python",
   "name": "python",
   "nbconvert_exporter": "python",
   "pygments_lexer": "ipython3",
   "version": "3.8.2"
  }
 },
 "nbformat": 4,
 "nbformat_minor": 4
}
