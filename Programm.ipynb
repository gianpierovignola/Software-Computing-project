{
 "cells": [
  {
   "cell_type": "markdown",
   "metadata": {},
   "source": [
    "importazione necessaria per visualizzare decision trees e DNN map"
   ]
  },
  {
   "cell_type": "code",
   "execution_count": 1,
   "metadata": {},
   "outputs": [
    {
     "name": "stdout",
     "output_type": "stream",
     "text": [
      "Enabling notebook extension jupyter-js-widgets/extension...\r\n",
      "      - Validating: \u001b[32mOK\u001b[0m\r\n"
     ]
    }
   ],
   "source": [
    "!jupyter nbextension enable --py widgetsnbextension"
   ]
  },
  {
   "cell_type": "code",
   "execution_count": 2,
   "metadata": {},
   "outputs": [
    {
     "name": "stdout",
     "output_type": "stream",
     "text": [
      "Welcome to JupyROOT 6.22/03\n"
     ]
    }
   ],
   "source": [
    "import ROOT\n",
    "from ROOT import TMVA, TCut, TFile\n",
    "from math import floor"
   ]
  },
  {
   "cell_type": "markdown",
   "metadata": {},
   "source": [
    "necessario per usare interactive features in notebook "
   ]
  },
  {
   "cell_type": "code",
   "execution_count": 3,
   "metadata": {},
   "outputs": [
    {
     "data": {
      "text/html": [
       "\n",
       "    <script type=\"text/javascript\">\n",
       "        require.config({\n",
       "            paths: {\n",
       "                'JsMVA':'https://root.cern.ch/js/jsmva/latest/js/JsMVA.min'\n",
       "            }\n",
       "        });\n",
       "    </script>\n",
       "    <link rel=\"stylesheet\" href=\"https://root.cern.ch/js/jsmva/latest/css/TMVAHTMLOutput.min.css\"></link>\n",
       "    "
      ],
      "text/plain": [
       "<IPython.core.display.HTML object>"
      ]
     },
     "metadata": {},
     "output_type": "display_data"
    }
   ],
   "source": [
    "%jsmva on"
   ]
  },
  {
   "cell_type": "markdown",
   "metadata": {},
   "source": [
    "dichiarazione dell Factory analoga alla versione utilizzata in TMVA in C++. abilitando JsMVA abbiamo la possibilità di utilizzare una versione Python del costruttore definito in (VEDI GUIDA) "
   ]
  },
  {
   "cell_type": "code",
   "execution_count": 4,
   "metadata": {},
   "outputs": [],
   "source": [
    "outputFile = TFile( \"TMVAoutput.root\", 'RECREATE' )\n",
    "factory = TMVA.Factory(\"TMVAClassification\", TargetFile=outputFile,\n",
    "                       V=False, Color=True, DrawProgressBar=True, Transformations=[\"I\", \"D\", \"P\", \"G\", \"D\"],\n",
    "                       AnalysisType=\"Classification\")"
   ]
  },
  {
   "cell_type": "markdown",
   "metadata": {},
   "source": [
    "Ora dichiariamo un DataLoader e aggiungiamo le variabili usando la AddVariable Function"
   ]
  },
  {
   "cell_type": "code",
   "execution_count": 5,
   "metadata": {},
   "outputs": [],
   "source": [
    "dataset = \"dataset\" #the dataset name\n",
    "dataloader  = TMVA.DataLoader(dataset)\n",
    "\n",
    "dataloader.AddVariable( \"massK0S\", 'F' )\n",
    "dataloader.AddVariable( \"tImpParBach\", 'F' )\n",
    "dataloader.AddVariable( \"tImpParV0\", 'F' )\n",
    "dataloader.AddVariable( \"CtK0S := DecayLengthK0S*0.497/v0P\", 'F')\n",
    "dataloader.AddVariable( \"cosPAK0S\", 'F' )\n",
    "dataloader.AddVariable( \"CosThetaStar\", 'F' )\n",
    "dataloader.AddVariable( \"nSigmaTOFpr\", 'F' )\n",
    "dataloader.AddVariable( \"nSigmaTOFpi\", 'F' )\n",
    "dataloader.AddVariable( \"nSigmaTOFka\", 'F' )\n",
    "dataloader.AddVariable( \"nSigmaTPCpr\", 'F' )\n",
    "dataloader.AddVariable( \"nSigmaTPCpi\", 'F' )\n",
    "dataloader.AddVariable( \"nSigmaTPCka\", 'F' )\n",
    "\n",
    "#spectator variables\n",
    "\n",
    "dataloader.AddSpectator( \"massLc2K0Sp\", \"mass Lc-->K0S+p\", 'F' )\n",
    "dataloader.AddSpectator( \"LcPt\",  \"Lc Pt\", 'F' )\n",
    "dataloader.AddSpectator( \"massLc2Lambdapi\",  \"mass Lc -->L(1520)+pi\", 'F' )\n",
    "dataloader.AddSpectator( \"massLambda\", \"mass V0 = Lambda\", 'F' )\n",
    "dataloader.AddSpectator( \"massLambdaBar\", \"mass V0 = LambdaBar\", 'F' )\n",
    "dataloader.AddSpectator( \"V0positivePt\", \"V0 positive Pt\", 'F' )\n",
    "dataloader.AddSpectator( \"V0negativePt\", \"V0 negative Pt\", 'F' )\n",
    "dataloader.AddSpectator( \"dcaV0pos\", \"dca V0 positive\", 'F' )\n",
    "dataloader.AddSpectator( \"dcaV0neg\", \"dca V0 negative\", 'F' )\n",
    "dataloader.AddSpectator( \"v0Pt\", \"K0S Pt\", 'F' )\n",
    "dataloader.AddSpectator( \"dcaV0\", \"dca V0\", 'F' )\n",
    "dataloader.AddSpectator( \"V0positiveEta\", \"V0pos Eta\", 'F' )\n",
    "dataloader.AddSpectator( \"bachelorEta\", \"eta bachelor\", 'F' )"
   ]
  },
  {
   "cell_type": "markdown",
   "metadata": {},
   "source": [
    "apriamo il dataset contenente signal and background trees"
   ]
  },
  {
   "cell_type": "code",
   "execution_count": 6,
   "metadata": {},
   "outputs": [
    {
     "data": {
      "text/html": [
       "<table class='tmva_output_table'></table>"
      ],
      "text/plain": [
       "<IPython.core.display.HTML object>"
      ]
     },
     "metadata": {},
     "output_type": "display_data"
    },
    {
     "data": {
      "text/html": [
       "Warning in <TClass::Init>: no dictionary for class AliRDHFCutsLctoV0 is available\n",
       "Warning in <TClass::Init>: no dictionary for class AliRDHFCuts is available\n",
       "Warning in <TClass::Init>: no dictionary for class AliAnalysisCuts is available\n",
       "Warning in <TClass::Init>: no dictionary for class AliVCuts is available\n",
       "Warning in <TClass::Init>: no dictionary for class AliESDtrackCuts is available\n",
       "Warning in <TClass::Init>: no dictionary for class AliAODPidHF is available\n",
       "Warning in <TClass::Init>: no dictionary for class AliAnalysisUtils is available\n",
       "Warning in <TClass::Init>: no dictionary for class AliEventCuts is available\n",
       "Warning in <TClass::Init>: no dictionary for class AliNormalizationCounter is available\n",
       "Warning in <TClass::Init>: no dictionary for class AliCounterCollection is available\n"
      ],
      "text/plain": [
       "<IPython.core.display.HTML object>"
      ]
     },
     "metadata": {},
     "output_type": "display_data"
    }
   ],
   "source": [
    "input = TFile.Open( \"AnalysisResults.root\")"
   ]
  },
  {
   "cell_type": "code",
   "execution_count": 7,
   "metadata": {},
   "outputs": [],
   "source": [
    "# signal and backg trees for training\n",
    "signal      = input.Get( \"treeList_2_25_2_25_Sgn\")\n",
    "background  = input.Get( \"treeList_2_25_2_25_Bkg\")"
   ]
  },
  {
   "cell_type": "markdown",
   "metadata": {},
   "source": [
    "global event weights per tree (see below for setting event-wise weights)\n",
    "Diamo al Training e al Test lo stesso tree, questo verrà quindi diviso in due sottounità che serviranno separatamente per il training e il test. "
   ]
  },
  {
   "cell_type": "code",
   "execution_count": 17,
   "metadata": {},
   "outputs": [
    {
     "data": {
      "text/html": [
       "<table class='tmva_output_table'><tr><td>Add Tree treeList_2_25_2_25_Sgn of type Signal with 1762028 events</td></tr><tr><td>Add Tree treeList_2_25_2_25_Bkg of type Background with 1473789 events</td></tr></table>"
      ],
      "text/plain": [
       "<IPython.core.display.HTML object>"
      ]
     },
     "metadata": {},
     "output_type": "display_data"
    },
    {
     "data": {
      "text/html": [],
      "text/plain": [
       "<IPython.core.display.HTML object>"
      ]
     },
     "metadata": {},
     "output_type": "display_data"
    }
   ],
   "source": [
    "signalWeight     = 1.0\n",
    "backgroundWeight = 1.0\n",
    "\n",
    "dataloader.AddSignalTree(signal, signalWeight)\n",
    "dataloader.AddBackgroundTree(background, backgroundWeight)\n",
    "\n",
    "#dataloader.fSignalWeight = signalWeight\n",
    "#dataloader.fBackgroundWeight = backgroundWeight\n",
    "#dataloader.fTreeS = signal\n",
    "#dataloader.fTreeB = background"
   ]
  },
  {
   "cell_type": "markdown",
   "metadata": {},
   "source": [
    "aggiungo dei Tagli sull'impulso trasverso per selezionare solo una parte degli eventi presenti nel tree"
   ]
  },
  {
   "cell_type": "code",
   "execution_count": 18,
   "metadata": {},
   "outputs": [],
   "source": [
    "ptmin=8\n",
    "ptmax=12\n",
    "mycuts = TCut(\"LcPt<ptmax && LcPt>ptmin\")\n",
    "mycutb = TCut(\"LcPt<ptmax && LcPt>ptmin\")"
   ]
  },
  {
   "cell_type": "markdown",
   "metadata": {},
   "source": [
    "Applicato il taglio sul momento trasverso il numero di eventi da utilizzare nel training e nel test viene deciso come segue:"
   ]
  },
  {
   "cell_type": "markdown",
   "metadata": {},
   "source": [
    "1) il training e il testing del segnale viene fatto con il valore minimo tra la metà degli eventi rimasti dopo il taglio e 100000"
   ]
  },
  {
   "cell_type": "markdown",
   "metadata": {},
   "source": [
    "2) il training e il testing del Bakground viene fatto con il valore minimo tra la metà degli eventi rimasti dopo il taglio e 200000\n",
    "\n",
    "Training e testing vengono ovviamente fatti con eventi diversi selezionati in maniera randomica all'interno del tree"
   ]
  },
  {
   "cell_type": "code",
   "execution_count": 19,
   "metadata": {},
   "outputs": [
    {
     "name": "stdout",
     "output_type": "stream",
     "text": [
      "71245\n"
     ]
    }
   ],
   "source": [
    "nTrainingEventsSgn = floor(min(signal.GetEntries(\"LcPt<12 && LcPt>8\")*0.5,100000))\n",
    "nTrainingEventsBkg = floor(min(background.GetEntries(\"LcPt<12 && LcPt>8\")*0.5,200000))\n",
    "nTestingEventsSgn = floor(min(signal.GetEntries(\"LcPt<12 && LcPt>8\")*0.5,100000))\n",
    "nTestingEventsBkg = floor(min(background.GetEntries(\"LcPt<12 && LcPt>8\")*0.5,200000))\n",
    "print(nTrainingEventsSgn)"
   ]
  },
  {
   "cell_type": "markdown",
   "metadata": {},
   "source": [
    "usiamo la funzione DataLoader.PrepareTrainingAndTestTree  per applicare i cut agli eventi di input"
   ]
  },
  {
   "cell_type": "code",
   "execution_count": 20,
   "metadata": {},
   "outputs": [],
   "source": [
    "dataloader.PrepareTrainingAndTestTree(SigCut=mycuts, BkgCut=mycutb,nTrain_Signal=nTrainingEventsSgn, \n",
    "                        nTest_Signal=nTestingEventsSgn, nTrain_Background=nTrainingEventsBkg , \n",
    "                        nTest_Background=nTestingEventsBkg, SplitMode=\"Random\", NormMode=\"NumEvents\", V=False)"
   ]
  },
  {
   "cell_type": "code",
   "execution_count": null,
   "metadata": {},
   "outputs": [],
   "source": []
  }
 ],
 "metadata": {
  "kernelspec": {
   "display_name": "Python 3",
   "language": "python",
   "name": "python3"
  },
  "language_info": {
   "codemirror_mode": {
    "name": "ipython",
    "version": 3
   },
   "file_extension": ".py",
   "mimetype": "text/x-python",
   "name": "python",
   "nbconvert_exporter": "python",
   "pygments_lexer": "ipython3",
   "version": "3.8.2"
  }
 },
 "nbformat": 4,
 "nbformat_minor": 4
}
