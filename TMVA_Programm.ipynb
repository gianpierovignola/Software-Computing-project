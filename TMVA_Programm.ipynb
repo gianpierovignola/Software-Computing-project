{
 "cells": [
  {
   "cell_type": "markdown",
   "metadata": {},
   "source": [
    "\n",
    "# Λ<sub>c</sub><sup>+</sup> Reconstruction using ROOT TMVA\n",
    "\n",
    "As described in [introduction](Introduction.md), it is possible to use the TMVA (Toolkit for Multivariate Data Analysis) with ROOT to perform multivariate analyzes with data from high energy physics experiments.\n",
    "Here is how to use 3 of the TMVA methods:\n",
    "\n",
    "* linear cuts\n",
    "* Neural Networks of type Multilayer Perceptron (MLP)\n",
    "* Boosted Decision Tree (BDT)\n",
    "\n",
    "In the latest versions of ROOT it is possible to use all functions in python code. This feature is called pyROOT, an example of its use is shown here.\n",
    "\n",
    "<p>&nbsp;</p>"
   ]
  },
  {
   "cell_type": "code",
   "execution_count": 13,
   "metadata": {},
   "outputs": [],
   "source": [
    "from ROOT import TMVA, TCut, TFile\n",
    "from math import floor"
   ]
  },
  {
   "cell_type": "code",
   "execution_count": 9,
   "metadata": {
    "scrolled": false
   },
   "outputs": [],
   "source": [
    "outputFile = TFile( \"TMVA_output_4_6.root\", 'RECREATE' )\n",
    "TMVA.Tools.Instance()\n",
    "\n",
    "factory = TMVA.Factory( \"TMVAClassification\", outputFile,\n",
    "                       \"!V:Color:DrawProgressBar:Transformations=I;D;P;G,D:AnalysisType=Classification\" )"
   ]
  },
  {
   "cell_type": "code",
   "execution_count": 3,
   "metadata": {
    "scrolled": false
   },
   "outputs": [],
   "source": [
    "factory.SetVerbose()"
   ]
  },
  {
   "cell_type": "markdown",
   "metadata": {},
   "source": [
    "Ora dichiariamo un DataLoader e aggiungiamo le variabili usando la AddVariable Function"
   ]
  },
  {
   "cell_type": "code",
   "execution_count": 4,
   "metadata": {
    "scrolled": false
   },
   "outputs": [],
   "source": [
    "dataloader = TMVA.DataLoader(\"dataset\")"
   ]
  },
  {
   "cell_type": "code",
   "execution_count": 5,
   "metadata": {
    "scrolled": false
   },
   "outputs": [],
   "source": [
    "dataloader.AddVariable( \"massK0S\", 'F' )\n",
    "dataloader.AddVariable( \"CosThetaStar\", 'F' )\n",
    "dataloader.AddVariable( \"combinedProtonProb\", 'F')\n",
    "dataloader.AddVariable( \"signd0\", 'F')\n",
    "dataloader.AddVariable( \"tImpParV0\", 'F')\n",
    "dataloader.AddVariable( \"tImpParBach\", 'F' )\n",
    "dataloader.AddVariable( \"CtK0S := DecayLengthK0S*0.497/v0P\", 'F')\n",
    "dataloader.AddVariable( \"cosPAK0S\", 'F' )\n",
    "\n",
    "#spectator variables\n",
    "\n",
    "dataloader.AddSpectator( \"nSigmaTOFpr\",\"nSigma TOFpr\", 'F' )\n",
    "dataloader.AddSpectator( \"nSigmaTPCpr\",\"nSigma TPCpr\", 'F' )\n",
    "dataloader.AddSpectator( \"nSigmaTPCpi\",\"nSigma TPCpi\", 'F' )\n",
    "dataloader.AddSpectator( \"nSigmaTPCka\",\"nSigma TPCka\", 'F' )\n",
    "dataloader.AddSpectator( \"bachelorEta\",\"bachelor Eta\", 'F' )\n",
    "dataloader.AddSpectator( \"LcPt\",\"Lc Pt\", 'F' )\n",
    "dataloader.AddSpectator( \"bachelorPt\", 'F')\n",
    "dataloader.AddSpectator( \"massLc2K0Sp\", \"mass Lc-->K0S+p\", 'F' )\n",
    "dataloader.AddSpectator( \"massLc2Lambdapi\",  \"mass Lc -->L(1520)+pi\", 'F' )\n",
    "dataloader.AddSpectator( \"massLambda\", \"mass V0 = Lambda\", 'F' )\n",
    "dataloader.AddSpectator( \"massLambdaBar\", \"mass V0 = LambdaBar\", 'F' )\n",
    "dataloader.AddSpectator( \"V0positivePt\", \"V0 positive Pt\", 'F' )\n",
    "dataloader.AddSpectator( \"V0negativePt\", \"V0 negative Pt\", 'F' )\n",
    "dataloader.AddSpectator( \"dcaV0pos\", \"dca V0 positive\", 'F' )\n",
    "dataloader.AddSpectator( \"dcaV0neg\", \"dca V0 negative\", 'F' )\n",
    "dataloader.AddSpectator( \"v0Pt\", \"K0S Pt\", 'F' )\n",
    "dataloader.AddSpectator( \"dcaV0\", \"dca V0\", 'F' )\n",
    "dataloader.AddSpectator( \"V0positiveEta\", \"V0pos Eta\", 'F' )\n"
   ]
  },
  {
   "cell_type": "markdown",
   "metadata": {},
   "source": [
    "apriamo il dataset contenente signal and background trees"
   ]
  },
  {
   "cell_type": "code",
   "execution_count": 6,
   "metadata": {},
   "outputs": [
    {
     "name": "stderr",
     "output_type": "stream",
     "text": [
      "Warning in <TClass::Init>: no dictionary for class AliRDHFCutsLctoV0 is available\n",
      "Warning in <TClass::Init>: no dictionary for class AliRDHFCuts is available\n",
      "Warning in <TClass::Init>: no dictionary for class AliAnalysisCuts is available\n",
      "Warning in <TClass::Init>: no dictionary for class AliVCuts is available\n",
      "Warning in <TClass::Init>: no dictionary for class AliESDtrackCuts is available\n",
      "Warning in <TClass::Init>: no dictionary for class AliAODPidHF is available\n",
      "Warning in <TClass::Init>: no dictionary for class AliAnalysisUtils is available\n",
      "Warning in <TClass::Init>: no dictionary for class AliEventCuts is available\n",
      "Warning in <TClass::Init>: no dictionary for class AliNormalizationCounter is available\n",
      "Warning in <TClass::Init>: no dictionary for class AliCounterCollection is available\n"
     ]
    }
   ],
   "source": [
    "input= TFile.Open( \"AnalysisResults.root\")"
   ]
  },
  {
   "cell_type": "code",
   "execution_count": 7,
   "metadata": {
    "scrolled": false
   },
   "outputs": [],
   "source": [
    "# signal and backg trees for training\n",
    "signal      = input.Get( \"treeList_2_25_2_25_Sgn\")\n",
    "background  = input.Get( \"treeList_2_25_2_25_Bkg\")"
   ]
  },
  {
   "cell_type": "markdown",
   "metadata": {},
   "source": [
    "global event weights per tree (see below for setting event-wise weights) Diamo al Training e al Test lo stesso tree, questo verrà quindi diviso in due sottounità che serviranno separatamente per il training e il test."
   ]
  },
  {
   "cell_type": "code",
   "execution_count": 8,
   "metadata": {},
   "outputs": [
    {
     "name": "stdout",
     "output_type": "stream",
     "text": [
      "DataSetInfo              : [dataset] : Added class \"Signal\"\n",
      "                         : Add Tree treeList_2_25_2_25_Sgn of type Signal with 1762028 events\n",
      "DataSetInfo              : [dataset] : Added class \"Background\"\n",
      "                         : Add Tree treeList_2_25_2_25_Bkg of type Background with 1473789 events\n"
     ]
    }
   ],
   "source": [
    "\n",
    "signalWeight     = 1.0\n",
    "backgroundWeight = 1.0\n",
    "\n",
    "dataloader.AddSignalTree(signal, signalWeight)\n",
    "dataloader.AddBackgroundTree(background, backgroundWeight)"
   ]
  },
  {
   "cell_type": "markdown",
   "metadata": {},
   "source": [
    "aggiungo dei Tagli sull'impulso trasverso per selezionare solo una parte degli eventi presenti nel tree"
   ]
  },
  {
   "cell_type": "code",
   "execution_count": 9,
   "metadata": {
    "scrolled": false
   },
   "outputs": [],
   "source": [
    "mycuts = TCut(\"LcPt<6 && LcPt>4\")\n",
    "mycutb = TCut(\"LcPt<6 && LcPt>4\")"
   ]
  },
  {
   "cell_type": "markdown",
   "metadata": {},
   "source": [
    "Applicato il taglio sul momento trasverso il numero di eventi da utilizzare nel training e nel test viene deciso come segue:\n",
    "\n",
    "1) il training e il testing del segnale viene fatto con il valore minimo tra la metà degli eventi rimasti dopo il taglio e 100000\n",
    "\n",
    "2) il training e il testing del Bakground viene fatto con il valore minimo tra la metà degli eventi rimasti dopo il taglio e 200000\n",
    "\n",
    "Training e testing vengono ovviamente fatti con eventi diversi selezionati in maniera randomica all'interno del tree\n"
   ]
  },
  {
   "cell_type": "code",
   "execution_count": 10,
   "metadata": {},
   "outputs": [],
   "source": [
    "nTrainingEventsSgn = floor(min(signal.GetEntries(\"LcPt<6 && LcPt>4\")*0.5,100000))\n",
    "nTrainingEventsBkg = floor(min(background.GetEntries(\"LcPt<6 && LcPt>4\")*0.5,200000))\n",
    "nTestingEventsSgn = floor(min(signal.GetEntries(\"LcPt<6 && LcPt>4\")*0.5,100000))\n",
    "nTestingEventsBkg = floor(min(background.GetEntries(\"LcPt<6 && LcPt>4\")*0.5,200000))"
   ]
  },
  {
   "cell_type": "markdown",
   "metadata": {},
   "source": [
    "Usiamo la funzione DataLoader.PrepareTrainingAndTestTree per applicare i cut agli eventi di input"
   ]
  },
  {
   "cell_type": "code",
   "execution_count": 11,
   "metadata": {
    "scrolled": false
   },
   "outputs": [],
   "source": [
    "dataloader.PrepareTrainingAndTestTree( mycuts, mycutb,\"nTrain_Signal=nTrainingEventsSgn:nTest_Signal=nTestingEventsSgn:nTrain_Background=nTrainingEventsBkg:nTest_Background=nTestingEventsBkg:SplitMode=Random:NormMode=NumEvents:!V\")\n"
   ]
  },
  {
   "cell_type": "code",
   "execution_count": 12,
   "metadata": {},
   "outputs": [
    {
     "name": "stdout",
     "output_type": "stream",
     "text": [
      "Factory                  : Booking method: \u001b[1mCuts\u001b[0m\n",
      "                         : \n",
      "                         : Use optimization method: \"Monte Carlo\"\n",
      "                         : Use efficiency computation method: \"Event Selection\"\n",
      "                         : Use \"FSmart\" cuts for variable: 'massK0S'\n",
      "                         : Use \"FSmart\" cuts for variable: 'CosThetaStar'\n",
      "                         : Use \"FSmart\" cuts for variable: 'combinedProtonProb'\n",
      "                         : Use \"FSmart\" cuts for variable: 'signd0'\n",
      "                         : Use \"FSmart\" cuts for variable: 'tImpParV0'\n",
      "                         : Use \"FSmart\" cuts for variable: 'tImpParBach'\n",
      "                         : Use \"FSmart\" cuts for variable: 'CtK0S'\n",
      "                         : Use \"FSmart\" cuts for variable: 'cosPAK0S'\n"
     ]
    }
   ],
   "source": [
    "%%capture cap --no-stderr \n",
    "factory.BookMethod( dataloader, TMVA.Types.kCuts, \"Cuts\",\"!H:!V:FitMethod=MC:EffSel:VarProp=FSmart\" )\n",
    "#factory.BookMethod( dataloader, TMVA.Types.kBDT, \"BDT\",\"!H:!V:NTrees=850:MinNodeSize=2.5%:MaxDepth=3:BoostType=AdaBoost:AdaBoostBeta=0.5:UseBaggedBoost:BaggedSampleFraction=0.5:SeparationType=GiniIndex:nCuts=20\" )\n",
    "#factory.BookMethod(dataloader, TMVA.Types.kMLP, \"MLP\",\"H:!V:NeuronType=tanh:VarTransform=N:NCycles=600:HiddenLayers=N+5:TestRate=5:!UseRegulator\" )\n",
    "\n",
    "# Train MVAs\n",
    "#factory.TrainAllMethods()\n",
    "# Test MVAs\n",
    "#factory.TestAllMethods()\n",
    "# Evaluate MVAs\n",
    "#factory.EvaluateAllMethods() \n",
    "# Save the output.\n",
    "outputFile.Close()"
   ]
  },
  {
   "cell_type": "code",
   "execution_count": 13,
   "metadata": {},
   "outputs": [],
   "source": [
    "with open('std_output.txt', 'w') as f:\n",
    "     f.write(cap.stdout)"
   ]
  }
 ],
 "metadata": {
  "kernelspec": {
   "display_name": "Python 3",
   "language": "python",
   "name": "python3"
  },
  "language_info": {
   "codemirror_mode": {
    "name": "ipython",
    "version": 3
   },
   "file_extension": ".py",
   "mimetype": "text/x-python",
   "name": "python",
   "nbconvert_exporter": "python",
   "pygments_lexer": "ipython3",
   "version": "3.8.2"
  }
 },
 "nbformat": 4,
 "nbformat_minor": 4
}
