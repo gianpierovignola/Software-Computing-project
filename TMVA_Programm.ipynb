{
 "cells": [
  {
   "cell_type": "markdown",
   "metadata": {},
   "source": [
    "\n",
    "# Λ<sub>c</sub><sup>+</sup> Reconstruction using ROOT TMVA\n",
    "\n",
    "As described in the [introduction](Introduction.md), it is possible to use the TMVA (Toolkit for Multivariate Data Analysis) with ROOT to perform multivariate analysis on high energy physics data.\n",
    "Here is shown how to use 3 of the TMVA methods:\n",
    "\n",
    "* Linear cuts \n",
    "* Neural Networks of type Multilayer Perceptron (MLP)\n",
    "* Boosted Decision Tree (BDT)\n",
    "\n",
    "The results of this analysis are presented in [result file](introduction.md).<br>\n",
    "With the latest versions of ROOT it is possible to use all functions in python codes. This feature is called pyROOT, an example of its use is shown here.\n",
    "\n",
    "<p>&nbsp;</p>"
   ]
  },
  {
   "cell_type": "code",
   "execution_count": 1,
   "metadata": {},
   "outputs": [
    {
     "name": "stdout",
     "output_type": "stream",
     "text": [
      "Welcome to JupyROOT 6.22/03\n"
     ]
    }
   ],
   "source": [
    "from ROOT import TMVA, TCut, TFile, gSystem  #import ROOT necessary functions\n",
    "from math import floor                       #used to evaluate the minimum between two values\n",
    "import sys                                   #used in case of errors "
   ]
  },
  {
   "cell_type": "markdown",
   "metadata": {},
   "source": [
    "## 1. Declaration of Factory\n",
    "\n",
    "All the details on using the following functions can be found in in the [TMVA Users Guide](References/TMVAUsersGuide.pdf).<br>\n",
    "Using the TFile class of ROOT, the [TMVA_output_4_6.root](TMVA_output_4_6.root) output file is opened. <br>\n",
    "Then the TMVA factory object is declared. The options used in the declaration are described in the table:\n",
    "\n",
    "Option          |Given Value     |Description\n",
    "----------------|----------|---------------------------\n",
    "V|False|Verbose flag\n",
    "Color|True|Flag for colored output\n",
    "DrawProgressBar|True|Draw progress bar to display training, testing and evaluation schedule \n",
    "Transformations||List of transformations to test. For example with \"I;D;P;U;G\" string identity, decorrelation, PCA, uniform and Gaussian transformations will be applied\n",
    "AnalysisType|Classification|Set the analysis type\n",
    "\n",
    "<br>\n"
   ]
  },
  {
   "cell_type": "code",
   "execution_count": 2,
   "metadata": {
    "scrolled": false
   },
   "outputs": [],
   "source": [
    "outputFile = TFile( \"TMVA_output_4_6.root\", 'RECREATE' )\n",
    "TMVA.Tools.Instance()\n",
    "factory = TMVA.Factory( \"TMVAClassification\", outputFile,\n",
    "                       \"!V:Color:DrawProgressBar:Transformations=I;D;P;G,D:AnalysisType=Classification\" )"
   ]
  },
  {
   "cell_type": "markdown",
   "metadata": {},
   "source": [
    "## 2. DataLoader Declaration, adding variables and setting the data set\n",
    "\n",
    "The <b>AnalysisResults.root</b> file is defined as input (more details on its content are given in the [analysis results](README.md)). Once the Dataloader has been declared, the variables contained in the root trees of the input file are added. the AddVariable function used requires the following arguments:\n",
    "\n",
    "* A string containing the name of the variable (the same as the root tree)\n",
    "* A label for variable (if not present the variable name is used)\n",
    "* data point type (second argument if the label for variable is missing)\n",
    "\n",
    "It is also possible to define a combination of variables or an operation with variable using the syntax \":=\" in the first argument. An example of this is represented by the <i>CtK0S</i> variable.<br><br>\n",
    "Spectator Variables have also been added. These are part of the data set but are not used for multivariate analysis in the Training or Test phases. They can for example be used for correlation tests.<br><br>\n",
    "More details on the variables used and their choice can be found in [analysis results](README.md)."
   ]
  },
  {
   "cell_type": "code",
   "execution_count": 3,
   "metadata": {},
   "outputs": [
    {
     "name": "stderr",
     "output_type": "stream",
     "text": [
      "Warning in <TClass::Init>: no dictionary for class AliRDHFCutsLctoV0 is available\n",
      "Warning in <TClass::Init>: no dictionary for class AliRDHFCuts is available\n",
      "Warning in <TClass::Init>: no dictionary for class AliAnalysisCuts is available\n",
      "Warning in <TClass::Init>: no dictionary for class AliVCuts is available\n",
      "Warning in <TClass::Init>: no dictionary for class AliESDtrackCuts is available\n",
      "Warning in <TClass::Init>: no dictionary for class AliAODPidHF is available\n",
      "Warning in <TClass::Init>: no dictionary for class AliAnalysisUtils is available\n",
      "Warning in <TClass::Init>: no dictionary for class AliEventCuts is available\n",
      "Warning in <TClass::Init>: no dictionary for class AliNormalizationCounter is available\n",
      "Warning in <TClass::Init>: no dictionary for class AliCounterCollection is available\n"
     ]
    }
   ],
   "source": [
    "#input file check \n",
    "if gSystem.AccessPathName( \"AnalysisResults.root\" ) != 0: \n",
    "    sys.exit(\"Input file not found\")\n",
    "\n",
    "#open input file\n",
    "input= TFile.Open(\"AnalysisResults.root\")\n",
    "\n",
    "#declaration\n",
    "dataloader = TMVA.DataLoader(\"dataset\")\n",
    "\n",
    "#Add Variable\n",
    "dataloader.AddVariable( \"massK0S\", 'F' )\n",
    "dataloader.AddVariable( \"CosThetaStar\", 'F' )\n",
    "dataloader.AddVariable( \"combinedProtonProb\", 'F')\n",
    "dataloader.AddVariable( \"signd0\", 'F')\n",
    "dataloader.AddVariable( \"tImpParV0\", 'F')\n",
    "dataloader.AddVariable( \"tImpParBach\", 'F' )\n",
    "dataloader.AddVariable( \"CtK0S := DecayLengthK0S*0.497/v0P\", 'F')\n",
    "dataloader.AddVariable( \"cosPAK0S\", 'F' )\n",
    "\n",
    "#Add spectator variables\n",
    "dataloader.AddSpectator( \"nSigmaTOFpr\", 'F' )\n",
    "dataloader.AddSpectator( \"nSigmaTPCpr\", 'F' )\n",
    "dataloader.AddSpectator( \"nSigmaTPCpi\", 'F' )\n",
    "dataloader.AddSpectator( \"nSigmaTPCka\", 'F' )\n",
    "dataloader.AddSpectator( \"bachelorEta\", 'F' )\n",
    "dataloader.AddSpectator( \"LcPt\", 'F' )\n",
    "dataloader.AddSpectator( \"bachelorPt\", 'F')\n",
    "dataloader.AddSpectator( \"massLc2K0Sp\", 'F' )\n",
    "dataloader.AddSpectator( \"massLc2Lambdapi\",  'F' )\n",
    "dataloader.AddSpectator( \"massLambda\", 'F' )\n",
    "dataloader.AddSpectator( \"massLambdaBar\", 'F' )\n",
    "dataloader.AddSpectator( \"V0positivePt\", 'F' )\n",
    "dataloader.AddSpectator( \"V0negativePt\", 'F' )\n",
    "dataloader.AddSpectator( \"dcaV0pos\", 'F' )\n",
    "dataloader.AddSpectator( \"dcaV0neg\", 'F' )\n",
    "dataloader.AddSpectator( \"v0Pt\", 'F' )\n",
    "dataloader.AddSpectator( \"dcaV0\", 'F' )\n",
    "dataloader.AddSpectator( \"V0positiveEta\",'F' )"
   ]
  },
  {
   "cell_type": "markdown",
   "metadata": {},
   "source": [
    "## 3. Import signal and background trees"
   ]
  },
  {
   "cell_type": "code",
   "execution_count": 4,
   "metadata": {
    "scrolled": false
   },
   "outputs": [],
   "source": [
    "# signal and backg trees for training and testing \n",
    "signal      = input.Get( \"treeList_2_25_2_25_Sgn\")\n",
    "background  = input.Get( \"treeList_2_25_2_25_Bkg\")"
   ]
  },
  {
   "cell_type": "markdown",
   "metadata": {},
   "source": [
    "<br>\n",
    "We pass to the Training and Test the same trees for signal and background, this will then be divided into two subunits that will be used separately for training and testing. The <b>AddSignalTree</b> and <b>AddBackgroundTree</b> functions need a weight (for this analysis it was decided to use unit weights).\n",
    "<br>\n",
    "<br>"
   ]
  },
  {
   "cell_type": "code",
   "execution_count": 5,
   "metadata": {},
   "outputs": [
    {
     "name": "stdout",
     "output_type": "stream",
     "text": [
      "DataSetInfo              : [dataset] : Added class \"Signal\"\n",
      "                         : Add Tree treeList_2_25_2_25_Sgn of type Signal with 1762028 events\n",
      "DataSetInfo              : [dataset] : Added class \"Background\"\n",
      "                         : Add Tree treeList_2_25_2_25_Bkg of type Background with 1473789 events\n"
     ]
    }
   ],
   "source": [
    "signalWeight     = 1.0\n",
    "backgroundWeight = 1.0\n",
    "\n",
    "dataloader.AddSignalTree(signal, signalWeight)\n",
    "dataloader.AddBackgroundTree(background, backgroundWeight)"
   ]
  },
  {
   "cell_type": "markdown",
   "metadata": {},
   "source": [
    "## 4. Cuts on input data and definition of training and testing dataset \n",
    "\n",
    "We define TCut objects in order to select only a fraction of the input data. It was decided to use the transverse momentum of Λ<sub>c</sub><sup>+</sup>(LcPt) as discriminating variable. In the example shown, the selected range is [4-6] (GeV/c). More details on the number and type of events in this range are illustrated in the file [analysis results](README.md).\n",
    "<br>\n",
    "<br>"
   ]
  },
  {
   "cell_type": "code",
   "execution_count": 6,
   "metadata": {
    "scrolled": false
   },
   "outputs": [],
   "source": [
    "mycuts = TCut(\"LcPt<6 && LcPt>4\")\n",
    "mycutb = TCut(\"LcPt<6 && LcPt>4\")"
   ]
  },
  {
   "cell_type": "markdown",
   "metadata": {},
   "source": [
    "<br>\n",
    "After the cut on the transverse momentum, the number of events to be used in the training and in the testing is decided as follows:\n",
    "\n",
    "* Training and testing of the Signal is done with the minimum value between half of the events remaining after the cut and 100000\n",
    "\n",
    "* Bakground training and testing is done with the minimum value between half of the events remaining after the cut and 200000\n",
    "\n",
    "Training and testing are obviously done with different events randomly selected within the trees.\n",
    "<br>\n",
    "<br>\n"
   ]
  },
  {
   "cell_type": "code",
   "execution_count": 7,
   "metadata": {},
   "outputs": [],
   "source": [
    "nTrainingEventsSgn = floor(min(signal.GetEntries(\"LcPt<6 && LcPt>4\")*0.5,100000))\n",
    "nTrainingEventsBkg = floor(min(background.GetEntries(\"LcPt<6 && LcPt>4\")*0.5,200000))\n",
    "nTestingEventsSgn = floor(min(signal.GetEntries(\"LcPt<6 && LcPt>4\")*0.5,100000))\n",
    "nTestingEventsBkg = floor(min(background.GetEntries(\"LcPt<6 && LcPt>4\")*0.5,200000))"
   ]
  },
  {
   "cell_type": "markdown",
   "metadata": {},
   "source": [
    "### 4.1 Preparation of Training and Test Treee\n",
    "We use the <b>dataLoader.PrepareTrainingAndTestTree</b> function to apply the cuts to the input events and to prepare the trees that will be used. Option passed are:<br>\n",
    "\n",
    "Option|Given Value|Description\n",
    "------|-----------|-----------\n",
    "nTrain_Signal|nTrainingEventsSgn|Number of training events of class Signal\n",
    "nTest_Signal|nTestingEventsSgn|Number of test events of class Signal\n",
    "nTrain_Background|nTrainingEventsBkg|Number of training events of class Background\n",
    "nTest_Background|nTestingEventsBkg|Number of test events of class Background\n",
    "SplitMode|Random|Method of picking training and testing events (can be Random, Alternate, Block)\n",
    "NormMode|NumEvents|Overall renormalisation of event-by-event weights used in the training (NumEvents: average weight of 1 per event, independently for signal and background; EqualNumEvents: average weight of 1 per event for signal, and sum of weights for background equal to sum of weights for signal)\n",
    "V|False|Verbosity (Connected to the detail on the  std_output produced) \n",
    "\n",
    "<br>\n",
    "<br>"
   ]
  },
  {
   "cell_type": "code",
   "execution_count": 8,
   "metadata": {
    "scrolled": false
   },
   "outputs": [],
   "source": [
    "dataloader.PrepareTrainingAndTestTree( mycuts, mycutb,\"nTrain_Signal=nTrainingEventsSgn:nTest_Signal=nTestingEventsSgn:nTrain_Background=nTrainingEventsBkg:nTest_Background=nTestingEventsBkg:SplitMode=Random:NormMode=NumEvents:!V\")"
   ]
  },
  {
   "cell_type": "markdown",
   "metadata": {},
   "source": [
    "## 5. Booking methods\n",
    "To Book methods we use the <b>factory.BookMethod</b> function which needs the following arguments:\n",
    "\n",
    "Option|Given Value|Description\n",
    "------|-----------|-----------\n",
    "DataLoader|dataloader|Pointer to DataLoader object\n",
    "Method|TMVA.Types.kCuts|Selected method number, method numbers defined in TMVA.Types (kVariable kCuts , kLikelihood , kFisher , kKNN , kCFMlpANN , kMLP , kBDT , kDT , kRuleFit , kSVM , kMLP , kDNN , ...)\n",
    "MethodTitle|Cuts|Label for method\n",
    "\"\"|\"\"|Other named arguments which are the options for selected method.\n",
    "\n",
    "### 5.1 Booking linear Cuts \n",
    "As described in the [introduction](Introduction.md) the first TMVA method we want to test is the simple linear cuts. In This case fourth argument of the <b>factory.BookMethod</b> function has been set as:\n",
    "\n",
    "Option|Given Value|Description\n",
    "------|-----------|-----------\n",
    "H|False|Print method-specific help message\n",
    "V|False|Verbose output\n",
    "FitMethod|MC|Minimization method used to make the fit\n",
    "EffMethod|EffSel|Selection method used to calculate the efficiency of a cut on a variable\n",
    "VarProp|FSmart|Categorization of cuts"
   ]
  },
  {
   "cell_type": "code",
   "execution_count": 9,
   "metadata": {},
   "outputs": [
    {
     "data": {
      "text/plain": [
       "<cppyy.gbl.TMVA.MethodCuts object at 0x72a44d0>"
      ]
     },
     "execution_count": 9,
     "metadata": {},
     "output_type": "execute_result"
    },
    {
     "name": "stdout",
     "output_type": "stream",
     "text": [
      "Factory                  : Booking method: \u001b[1mCuts\u001b[0m\n",
      "                         : \n",
      "                         : Use optimization method: \"Monte Carlo\"\n",
      "                         : Use efficiency computation method: \"Event Selection\"\n",
      "                         : Use \"FSmart\" cuts for variable: 'massK0S'\n",
      "                         : Use \"FSmart\" cuts for variable: 'CosThetaStar'\n",
      "                         : Use \"FSmart\" cuts for variable: 'combinedProtonProb'\n",
      "                         : Use \"FSmart\" cuts for variable: 'signd0'\n",
      "                         : Use \"FSmart\" cuts for variable: 'tImpParV0'\n",
      "                         : Use \"FSmart\" cuts for variable: 'tImpParBach'\n",
      "                         : Use \"FSmart\" cuts for variable: 'CtK0S'\n",
      "                         : Use \"FSmart\" cuts for variable: 'cosPAK0S'\n"
     ]
    }
   ],
   "source": [
    "factory.BookMethod( dataloader, TMVA.Types.kCuts, \"Cuts\",\"!H:!V:FitMethod=MC:EffMethod=EffSel:VarProp=FSmart\")"
   ]
  },
  {
   "cell_type": "markdown",
   "metadata": {},
   "source": [
    "### 5.2 Booking Boosted Decision Tree \n",
    "As described in the [introduction](Introduction.md) the second TMVA method we want to test is the Boosted Decision Tree. In This case fourth argument of the <b>factory.BookMethod</b> function has been set as:\n",
    "\n",
    "Option|Given Value|Description\n",
    "------|-----------|-----------\n",
    "H|False|Print method-specific help message\n",
    "V|False|Verbose output\n",
    "NTrees|850|Number of trees in the forest\n",
    "MinNodeSize|2.5%|Minimum percentage of training events required in a leaf node (default: Classification: 5%, Regression: 0.2%)\n",
    "MaxDepth|3|Max depth of the decision tree allowed\n",
    "BoostType|AdaBoost|Boosting type for the trees in the forest (AdaBoost, RealAdaBoost, Bagging, AdaBoostR2, Grad)\n",
    "AdaBoostBeta|0.5|Learning rate for AdaBoost algorithm\n",
    "UseBaggedBoost|True|Use only a random subsample of all events for growing the trees in each iteration\n",
    "BaggedSampleFraction|0.5|Relative size of bagged event sample to original size of the data sample (used whenever bagging is used (i.e. UseBaggedGrad, Bagging,)\n",
    "SeparationType|GiniIndex|Separation criterion for node splitting (CrossEntropy, GiniIndex, GiniIndexWithLaplace, MisClassificationError, SDivSqrtSPlusB, RegressionVariance)\n",
    "nCuts|20|Number of grid points in variable range used in finding optimal cut in node splitting"
   ]
  },
  {
   "cell_type": "code",
   "execution_count": 10,
   "metadata": {},
   "outputs": [],
   "source": [
    "factory.BookMethod( dataloader, TMVA.Types.kBDT, \"BDT\",\"!H:!V:NTrees=850:MinNodeSize=2.5%:MaxDepth=3:BoostType=AdaBoost:AdaBoostBeta=0.5:UseBaggedBoost:BaggedSampleFraction=0.5:SeparationType=GiniIndex:nCuts=20\" )"
   ]
  },
  {
   "cell_type": "markdown",
   "metadata": {},
   "source": [
    "### 5.2 Booking Neural Networks of type Multilayer Perceptron\n",
    "As described in the [introduction](Introduction.md) the second TMVA method we want to test is the Boosted Decision Tree. In This case fourth argument of the <b>factory.BookMethod</b> function has been set as:\n",
    "\n",
    "Option|Given Value|Description\n",
    "------|-----------|-----------\n",
    "H|False|Print method-specific help message\n",
    "V|False|Verbose output\n",
    "NeuronType|tanh|Neuron activation function type\n",
    "VarTransform|N|List of variable transformations performed before training, e.g., D_Background,P_Signal,G,N_AllClasses for: Decorrelation, PCA-transformation, Gaussianisation, Normalisation, each for the given class of events ('AllClasses' denotes all events of all classes, if no class indication is given, 'All' is assumed)\n",
    "NCycles|600|Number of training cycles\n",
    "HiddenLayers|N+5|Specification of hidden layer architecture\n",
    "TestRate|5|Test for overtraining performed at each #th epochs\n",
    "UseRegulator|False|Use regulator to avoid over-training"
   ]
  },
  {
   "cell_type": "code",
   "execution_count": 11,
   "metadata": {},
   "outputs": [],
   "source": [
    "factory.BookMethod(dataloader, TMVA.Types.kMLP, \"MLP\",\"H:!V:NeuronType=tanh:VarTransform=N:NCycles=600:HiddenLayers=N+5:TestRate=5:!UseRegulator\" )"
   ]
  },
  {
   "cell_type": "markdown",
   "metadata": {},
   "source": [
    "## 6. Train, Test and Evaluate all Methods\n",
    "\n",
    "After booking all the methods to be analyzed, we use the functions: <b>factory.TrainAllMethods()</b>, <b>factory.TestAllMethods()</b> and <b>factory.EvaluateAllMethods()</b> to perform Training Test and Evaluation of the results of the booking methods. All the output of the executed ROOT macros are then saved in the file [output](output.txt)."
   ]
  },
  {
   "cell_type": "code",
   "execution_count": 12,
   "metadata": {},
   "outputs": [],
   "source": [
    "%%capture cap --no-stderr\n",
    "#previouus line: capture std_output for future analysis \n",
    "\n",
    "# Train MVAs\n",
    "factory.TrainAllMethods()\n",
    "\n",
    "# Test MVAs\n",
    "factory.TestAllMethods()\n",
    "\n",
    "# Evaluate MVAs\n",
    "factory.EvaluateAllMethods() \n"
   ]
  },
  {
   "cell_type": "code",
   "execution_count": 13,
   "metadata": {},
   "outputs": [],
   "source": [
    "#write on file standard output \n",
    "with open('std_output.txt', 'w') as f:\n",
    "     f.write(cap.stdout)\n",
    "# Save the output.\n",
    "outputFile.Close()"
   ]
  }
 ],
 "metadata": {
  "kernelspec": {
   "display_name": "Python 3",
   "language": "python",
   "name": "python3"
  },
  "language_info": {
   "codemirror_mode": {
    "name": "ipython",
    "version": 3
   },
   "file_extension": ".py",
   "mimetype": "text/x-python",
   "name": "python",
   "nbconvert_exporter": "python",
   "pygments_lexer": "ipython3",
   "version": "3.8.2"
  }
 },
 "nbformat": 4,
 "nbformat_minor": 4
}
