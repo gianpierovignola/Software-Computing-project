{
 "cells": [
  {
   "cell_type": "code",
   "execution_count": 1,
   "metadata": {},
   "outputs": [
    {
     "name": "stdout",
     "output_type": "stream",
     "text": [
      "Welcome to JupyROOT 6.22/03\n"
     ]
    }
   ],
   "source": [
    "import ROOT\n",
    "from ROOT import TMVA, TCut, TFile\n",
    "from math import floor"
   ]
  },
  {
   "cell_type": "code",
   "execution_count": 2,
   "metadata": {
    "scrolled": false
   },
   "outputs": [],
   "source": [
    "outputFile = TFile( \"TMVA_output.root\", 'RECREATE' )\n",
    "TMVA.Tools.Instance()\n",
    "\n",
    "factory = TMVA.Factory( \"TMVAClassification\", outputFile,\n",
    "                       \"!V:Color:DrawProgressBar:Transformations=I;D;P;G,D:AnalysisType=Classification\" )"
   ]
  },
  {
   "cell_type": "code",
   "execution_count": 3,
   "metadata": {
    "scrolled": false
   },
   "outputs": [],
   "source": [
    "factory.SetVerbose()"
   ]
  },
  {
   "cell_type": "markdown",
   "metadata": {},
   "source": [
    "Ora dichiariamo un DataLoader e aggiungiamo le variabili usando la AddVariable Function"
   ]
  },
  {
   "cell_type": "code",
   "execution_count": 4,
   "metadata": {
    "scrolled": false
   },
   "outputs": [],
   "source": [
    "dataloader = TMVA.DataLoader(\"dataset\")"
   ]
  },
  {
   "cell_type": "code",
   "execution_count": 5,
   "metadata": {
    "scrolled": false
   },
   "outputs": [],
   "source": [
    "dataloader.AddVariable( \"massK0S\", 'F' )\n",
    "dataloader.AddVariable( \"CosThetaStar\", 'F' )\n",
    "dataloader.AddVariable( \"combinedProtonProb\", 'F')\n",
    "dataloader.AddVariable( \"signd0\", 'F')\n",
    "dataloader.AddVariable( \"tImpParV0\", 'F')\n",
    "dataloader.AddVariable( \"tImpParBach\", 'F' )\n",
    "dataloader.AddVariable( \"CtK0S := DecayLengthK0S*0.497/v0P\", 'F')\n",
    "dataloader.AddVariable( \"cosPAK0S\", 'F' )\n",
    "\n",
    "#spectator variables\n",
    "\n",
    "dataloader.AddSpectator( \"nSigmaTOFpr\",\"nSigma TOFpr\", 'F' )\n",
    "dataloader.AddSpectator( \"nSigmaTPCpr\",\"nSigma TPCpr\", 'F' )\n",
    "dataloader.AddSpectator( \"nSigmaTPCpi\",\"nSigma TPCpi\", 'F' )\n",
    "dataloader.AddSpectator( \"nSigmaTPCka\",\"nSigma TPCka\", 'F' )\n",
    "dataloader.AddSpectator( \"bachelorEta\",\"bachelor Eta\", 'F' )\n",
    "dataloader.AddSpectator( \"LcPt\",\"Lc Pt\", 'F' )\n",
    "dataloader.AddSpectator( \"bachelorPt\", 'F')\n",
    "dataloader.AddSpectator( \"massLc2K0Sp\", \"mass Lc-->K0S+p\", 'F' )\n",
    "dataloader.AddSpectator( \"massLc2Lambdapi\",  \"mass Lc -->L(1520)+pi\", 'F' )\n",
    "dataloader.AddSpectator( \"massLambda\", \"mass V0 = Lambda\", 'F' )\n",
    "dataloader.AddSpectator( \"massLambdaBar\", \"mass V0 = LambdaBar\", 'F' )\n",
    "dataloader.AddSpectator( \"V0positivePt\", \"V0 positive Pt\", 'F' )\n",
    "dataloader.AddSpectator( \"V0negativePt\", \"V0 negative Pt\", 'F' )\n",
    "dataloader.AddSpectator( \"dcaV0pos\", \"dca V0 positive\", 'F' )\n",
    "dataloader.AddSpectator( \"dcaV0neg\", \"dca V0 negative\", 'F' )\n",
    "dataloader.AddSpectator( \"v0Pt\", \"K0S Pt\", 'F' )\n",
    "dataloader.AddSpectator( \"dcaV0\", \"dca V0\", 'F' )\n",
    "dataloader.AddSpectator( \"V0positiveEta\", \"V0pos Eta\", 'F' )\n"
   ]
  },
  {
   "cell_type": "markdown",
   "metadata": {},
   "source": [
    "apriamo il dataset contenente signal and background trees"
   ]
  },
  {
   "cell_type": "code",
   "execution_count": 6,
   "metadata": {},
   "outputs": [
    {
     "name": "stderr",
     "output_type": "stream",
     "text": [
      "Warning in <TClass::Init>: no dictionary for class AliRDHFCutsLctoV0 is available\n",
      "Warning in <TClass::Init>: no dictionary for class AliRDHFCuts is available\n",
      "Warning in <TClass::Init>: no dictionary for class AliAnalysisCuts is available\n",
      "Warning in <TClass::Init>: no dictionary for class AliVCuts is available\n",
      "Warning in <TClass::Init>: no dictionary for class AliESDtrackCuts is available\n",
      "Warning in <TClass::Init>: no dictionary for class AliAODPidHF is available\n",
      "Warning in <TClass::Init>: no dictionary for class AliAnalysisUtils is available\n",
      "Warning in <TClass::Init>: no dictionary for class AliEventCuts is available\n",
      "Warning in <TClass::Init>: no dictionary for class AliNormalizationCounter is available\n",
      "Warning in <TClass::Init>: no dictionary for class AliCounterCollection is available\n"
     ]
    }
   ],
   "source": [
    "input= TFile.Open( \"AnalysisResults.root\")"
   ]
  },
  {
   "cell_type": "code",
   "execution_count": 7,
   "metadata": {
    "scrolled": false
   },
   "outputs": [],
   "source": [
    "# signal and backg trees for training\n",
    "signal      = input.Get( \"treeList_2_25_2_25_Sgn\")\n",
    "background  = input.Get( \"treeList_2_25_2_25_Bkg\")"
   ]
  },
  {
   "cell_type": "markdown",
   "metadata": {},
   "source": [
    "global event weights per tree (see below for setting event-wise weights) Diamo al Training e al Test lo stesso tree, questo verrà quindi diviso in due sottounità che serviranno separatamente per il training e il test."
   ]
  },
  {
   "cell_type": "code",
   "execution_count": 8,
   "metadata": {},
   "outputs": [
    {
     "name": "stdout",
     "output_type": "stream",
     "text": [
      "DataSetInfo              : [dataset] : Added class \"Signal\"\n",
      "                         : Add Tree treeList_2_25_2_25_Sgn of type Signal with 1762028 events\n",
      "DataSetInfo              : [dataset] : Added class \"Background\"\n",
      "                         : Add Tree treeList_2_25_2_25_Bkg of type Background with 1473789 events\n"
     ]
    }
   ],
   "source": [
    "signalWeight     = 1.0\n",
    "backgroundWeight = 1.0\n",
    "\n",
    "dataloader.AddSignalTree(signal, signalWeight)\n",
    "dataloader.AddBackgroundTree(background, backgroundWeight)"
   ]
  },
  {
   "cell_type": "markdown",
   "metadata": {},
   "source": [
    "aggiungo dei Tagli sull'impulso trasverso per selezionare solo una parte degli eventi presenti nel tree"
   ]
  },
  {
   "cell_type": "code",
   "execution_count": 9,
   "metadata": {
    "scrolled": false
   },
   "outputs": [],
   "source": [
    "mycuts = TCut(\"LcPt<6 && LcPt>4\")\n",
    "mycutb = TCut(\"LcPt<6 && LcPt>4\")"
   ]
  },
  {
   "cell_type": "markdown",
   "metadata": {},
   "source": [
    "Applicato il taglio sul momento trasverso il numero di eventi da utilizzare nel training e nel test viene deciso come segue:\n",
    "\n",
    "1) il training e il testing del segnale viene fatto con il valore minimo tra la metà degli eventi rimasti dopo il taglio e 100000\n",
    "\n",
    "2) il training e il testing del Bakground viene fatto con il valore minimo tra la metà degli eventi rimasti dopo il taglio e 200000\n",
    "\n",
    "Training e testing vengono ovviamente fatti con eventi diversi selezionati in maniera randomica all'interno del tree\n"
   ]
  },
  {
   "cell_type": "code",
   "execution_count": 10,
   "metadata": {},
   "outputs": [],
   "source": [
    "nTrainingEventsSgn = floor(min(signal.GetEntries(\"LcPt<6 && LcPt>4\")*0.5,100000))\n",
    "nTrainingEventsBkg = floor(min(background.GetEntries(\"LcPt<6 && LcPt>4\")*0.5,200000))\n",
    "nTestingEventsSgn = floor(min(signal.GetEntries(\"LcPt<6 && LcPt>4\")*0.5,100000))\n",
    "nTestingEventsBkg = floor(min(background.GetEntries(\"LcPt<6 && LcPt>4\")*0.5,200000))"
   ]
  },
  {
   "cell_type": "markdown",
   "metadata": {},
   "source": [
    "Usiamo la funzione DataLoader.PrepareTrainingAndTestTree per applicare i cut agli eventi di input"
   ]
  },
  {
   "cell_type": "code",
   "execution_count": 11,
   "metadata": {
    "scrolled": false
   },
   "outputs": [],
   "source": [
    "dataloader.PrepareTrainingAndTestTree( mycuts, mycutb,\"nTrain_Signal=nTrainingEventsSgn:nTest_Signal=nTestingEventsSgn:nTrain_Background=nTrainingEventsBkg:nTest_Background=nTestingEventsBkg:SplitMode=Random:NormMode=NumEvents:!V\")\n"
   ]
  },
  {
   "cell_type": "code",
   "execution_count": 12,
   "metadata": {},
   "outputs": [
    {
     "name": "stdout",
     "output_type": "stream",
     "text": [
      "Factory                  : Booking method: \u001b[1mCuts\u001b[0m\n",
      "                         : \n",
      "                         : Use optimization method: \"Monte Carlo\"\n",
      "                         : Use efficiency computation method: \"Event Selection\"\n",
      "                         : Use \"FSmart\" cuts for variable: 'massK0S'\n",
      "                         : Use \"FSmart\" cuts for variable: 'CosThetaStar'\n",
      "                         : Use \"FSmart\" cuts for variable: 'combinedProtonProb'\n",
      "                         : Use \"FSmart\" cuts for variable: 'signd0'\n",
      "                         : Use \"FSmart\" cuts for variable: 'tImpParV0'\n",
      "                         : Use \"FSmart\" cuts for variable: 'tImpParBach'\n",
      "                         : Use \"FSmart\" cuts for variable: 'CtK0S'\n",
      "                         : Use \"FSmart\" cuts for variable: 'cosPAK0S'\n"
     ]
    }
   ],
   "source": [
    "factory.BookMethod( dataloader, TMVA.Types.kCuts, \"Cuts\",\"!H:!V:FitMethod=MC:EffSel:VarProp=FSmart\" )"
   ]
  },
  {
   "cell_type": "code",
   "execution_count": 13,
   "metadata": {},
   "outputs": [],
   "source": [
    "factory.BookMethod( dataloader, TMVA.Types.kBDT, \"BDT\",\"!H:!V:NTrees=850:MinNodeSize=2.5%:MaxDepth=3:BoostType=AdaBoost:AdaBoostBeta=0.5:UseBaggedBoost:BaggedSampleFraction=0.5:SeparationType=GiniIndex:nCuts=20\" )"
   ]
  },
  {
   "cell_type": "code",
   "execution_count": 14,
   "metadata": {},
   "outputs": [],
   "source": [
    "factory.BookMethod(dataloader, TMVA.Types.kMLP, \"MLP\",\"H:!V:NeuronType=tanh:VarTransform=N:NCycles=600:HiddenLayers=N+5:TestRate=5:!UseRegulator\" )"
   ]
  },
  {
   "cell_type": "code",
   "execution_count": 15,
   "metadata": {},
   "outputs": [
    {
     "name": "stdout",
     "output_type": "stream",
     "text": [
      "Factory                  : \u001b[1mTrain all methods\u001b[0m\n",
      "                         : Building event vectors for type 2 Signal\n",
      "                         : Dataset[dataset] :  create input formulas for tree treeList_2_25_2_25_Sgn\n",
      "                         : Building event vectors for type 2 Background\n",
      "                         : Dataset[dataset] :  create input formulas for tree treeList_2_25_2_25_Bkg\n",
      "DataSetFactory           : [dataset] : Number of events in input trees\n",
      "                         : Dataset[dataset] :     Signal     requirement: \"LcPt<6 && LcPt>4\"\n",
      "                         : Dataset[dataset] :     Signal          -- number of events passed: 499411  / sum of weights: 499411\n",
      "                         : Dataset[dataset] :     Signal          -- efficiency             : 0.28343\n",
      "                         : Dataset[dataset] :     Background requirement: \"LcPt<6 && LcPt>4\"\n",
      "                         : Dataset[dataset] :     Background      -- number of events passed: 252957  / sum of weights: 252957\n",
      "                         : Dataset[dataset] :     Background      -- efficiency             : 0.171637\n",
      "                         : Dataset[dataset] :  you have opted for interpreting the requested number of training/testing events\n",
      "                         :  to be the number of events AFTER your preselection cuts\n",
      "                         : \n",
      "                         : Dataset[dataset] :  you have opted for interpreting the requested number of training/testing events\n",
      "                         :  to be the number of events AFTER your preselection cuts\n",
      "                         : \n",
      "                         : Number of training and testing events\n",
      "                         : ---------------------------------------------------------------------------\n",
      "                         : Signal     -- training events            : 249705\n",
      "                         : Signal     -- testing events             : 249705\n",
      "                         : Signal     -- training and testing events: 499410\n",
      "                         : Dataset[dataset] : Signal     -- due to the preselection a scaling factor has been applied to the numbers of requested events: 0.28343\n",
      "                         : Background -- training events            : 126478\n",
      "                         : Background -- testing events             : 126478\n",
      "                         : Background -- training and testing events: 252956\n",
      "                         : Dataset[dataset] : Background -- due to the preselection a scaling factor has been applied to the numbers of requested events: 0.171637\n",
      "                         : \n",
      "DataSetInfo              : Correlation matrix (Signal):\n",
      "                         : ----------------------------------------------------------------------------------------------------------\n",
      "                         :                     massK0S CosThetaStar combinedProtonProb  signd0 tImpParV0 tImpParBach   CtK0S cosPAK0S\n",
      "                         :            massK0S:  +1.000       -0.024             +0.003  +0.005    +0.001      -0.002  +0.065   +0.030\n",
      "                         :       CosThetaStar:  -0.024       +1.000             -0.119  -0.171    -0.003      +0.001  +0.019   -0.260\n",
      "                         : combinedProtonProb:  +0.003       -0.119             +1.000  +0.022    +0.002      +0.001  -0.003   +0.026\n",
      "                         :             signd0:  +0.005       -0.171             +0.022  +1.000    +0.001      -0.022  +0.001   -0.010\n",
      "                         :          tImpParV0:  +0.001       -0.003             +0.002  +0.001    +1.000      -0.076  -0.001   +0.001\n",
      "                         :        tImpParBach:  -0.002       +0.001             +0.001  -0.022    -0.076      +1.000  -0.004   -0.001\n",
      "                         :              CtK0S:  +0.065       +0.019             -0.003  +0.001    -0.001      -0.004  +1.000   +0.082\n",
      "                         :           cosPAK0S:  +0.030       -0.260             +0.026  -0.010    +0.001      -0.001  +0.082   +1.000\n",
      "                         : ----------------------------------------------------------------------------------------------------------\n",
      "DataSetInfo              : Correlation matrix (Background):\n",
      "                         : ----------------------------------------------------------------------------------------------------------\n",
      "                         :                     massK0S CosThetaStar combinedProtonProb  signd0 tImpParV0 tImpParBach   CtK0S cosPAK0S\n",
      "                         :            massK0S:  +1.000       -0.043             -0.001  +0.003    +0.000      +0.001  +0.062   +0.031\n",
      "                         :       CosThetaStar:  -0.043       +1.000             -0.043  -0.131    +0.002      -0.000  +0.030   -0.266\n",
      "                         : combinedProtonProb:  -0.001       -0.043             +1.000  +0.044    -0.002      -0.003  -0.002   -0.010\n",
      "                         :             signd0:  +0.003       -0.131             +0.044  +1.000    -0.006      -0.032  -0.006   +0.011\n",
      "                         :          tImpParV0:  +0.000       +0.002             -0.002  -0.006    +1.000      -0.010  +0.019   -0.011\n",
      "                         :        tImpParBach:  +0.001       -0.000             -0.003  -0.032    -0.010      +1.000  +0.001   +0.000\n",
      "                         :              CtK0S:  +0.062       +0.030             -0.002  -0.006    +0.019      +0.001  +1.000   +0.012\n",
      "                         :           cosPAK0S:  +0.031       -0.266             -0.010  +0.011    -0.011      +0.000  +0.012   +1.000\n",
      "                         : ----------------------------------------------------------------------------------------------------------\n",
      "DataSetFactory           : [dataset] :  \n",
      "                         : \n",
      "Factory                  : [dataset] : Create Transformation \"I\" with events from all classes.\n",
      "                         : \n",
      "                         : Transformation, Variable selection : \n",
      "                         : Input : variable 'massK0S' <---> Output : variable 'massK0S'\n",
      "                         : Input : variable 'CosThetaStar' <---> Output : variable 'CosThetaStar'\n",
      "                         : Input : variable 'combinedProtonProb' <---> Output : variable 'combinedProtonProb'\n",
      "                         : Input : variable 'signd0' <---> Output : variable 'signd0'\n",
      "                         : Input : variable 'tImpParV0' <---> Output : variable 'tImpParV0'\n",
      "                         : Input : variable 'tImpParBach' <---> Output : variable 'tImpParBach'\n",
      "                         : Input : variable 'CtK0S' <---> Output : variable 'CtK0S'\n",
      "                         : Input : variable 'cosPAK0S' <---> Output : variable 'cosPAK0S'\n",
      "Factory                  : [dataset] : Create Transformation \"D\" with events from all classes.\n",
      "                         : \n",
      "                         : Transformation, Variable selection : \n",
      "                         : Input : variable 'massK0S' <---> Output : variable 'massK0S'\n",
      "                         : Input : variable 'CosThetaStar' <---> Output : variable 'CosThetaStar'\n",
      "                         : Input : variable 'combinedProtonProb' <---> Output : variable 'combinedProtonProb'\n",
      "                         : Input : variable 'signd0' <---> Output : variable 'signd0'\n",
      "                         : Input : variable 'tImpParV0' <---> Output : variable 'tImpParV0'\n",
      "                         : Input : variable 'tImpParBach' <---> Output : variable 'tImpParBach'\n",
      "                         : Input : variable 'CtK0S' <---> Output : variable 'CtK0S'\n",
      "                         : Input : variable 'cosPAK0S' <---> Output : variable 'cosPAK0S'\n",
      "Factory                  : [dataset] : Create Transformation \"P\" with events from all classes.\n",
      "                         : \n",
      "                         : Transformation, Variable selection : \n",
      "                         : Input : variable 'massK0S' <---> Output : variable 'massK0S'\n",
      "                         : Input : variable 'CosThetaStar' <---> Output : variable 'CosThetaStar'\n",
      "                         : Input : variable 'combinedProtonProb' <---> Output : variable 'combinedProtonProb'\n",
      "                         : Input : variable 'signd0' <---> Output : variable 'signd0'\n",
      "                         : Input : variable 'tImpParV0' <---> Output : variable 'tImpParV0'\n",
      "                         : Input : variable 'tImpParBach' <---> Output : variable 'tImpParBach'\n",
      "                         : Input : variable 'CtK0S' <---> Output : variable 'CtK0S'\n",
      "                         : Input : variable 'cosPAK0S' <---> Output : variable 'cosPAK0S'\n",
      "Factory                  : [dataset] : Create Transformation \"G\" with events from all classes.\n",
      "                         : \n",
      "                         : Transformation, Variable selection : \n",
      "                         : Input : variable 'massK0S' <---> Output : variable 'massK0S'\n",
      "                         : Input : variable 'CosThetaStar' <---> Output : variable 'CosThetaStar'\n",
      "                         : Input : variable 'combinedProtonProb' <---> Output : variable 'combinedProtonProb'\n",
      "                         : Input : variable 'signd0' <---> Output : variable 'signd0'\n",
      "                         : Input : variable 'tImpParV0' <---> Output : variable 'tImpParV0'\n",
      "                         : Input : variable 'tImpParBach' <---> Output : variable 'tImpParBach'\n",
      "                         : Input : variable 'CtK0S' <---> Output : variable 'CtK0S'\n",
      "                         : Input : variable 'cosPAK0S' <---> Output : variable 'cosPAK0S'\n",
      "Factory                  : [dataset] : Create Transformation \"D\" with events from all classes.\n",
      "                         : \n",
      "                         : Transformation, Variable selection : \n",
      "                         : Input : variable 'massK0S' <---> Output : variable 'massK0S'\n",
      "                         : Input : variable 'CosThetaStar' <---> Output : variable 'CosThetaStar'\n",
      "                         : Input : variable 'combinedProtonProb' <---> Output : variable 'combinedProtonProb'\n",
      "                         : Input : variable 'signd0' <---> Output : variable 'signd0'\n",
      "                         : Input : variable 'tImpParV0' <---> Output : variable 'tImpParV0'\n",
      "                         : Input : variable 'tImpParBach' <---> Output : variable 'tImpParBach'\n",
      "                         : Input : variable 'CtK0S' <---> Output : variable 'CtK0S'\n",
      "                         : Input : variable 'cosPAK0S' <---> Output : variable 'cosPAK0S'\n",
      "TFHandler_Factory        :           Variable                  Mean                  RMS          [        Min                  Max ]\n",
      "                         : -------------------------------------------------------------------------------------------------------------\n",
      "                         :            massK0S:             0.49800           0.0037719   [             0.48761             0.50761 ]\n",
      "                         :       CosThetaStar:            -0.19739             0.53944   [             -1.0000             0.99979 ]\n",
      "                         : combinedProtonProb:             0.68626             0.35112   [          9.4016e-05              1.0000 ]\n",
      "                         :             signd0:            0.015052            0.029574   [            -0.33961             0.60853 ]\n",
      "                         :          tImpParV0:          0.00065756             0.10587   [             -1.4998              1.4809 ]\n",
      "                         :        tImpParBach:         -0.00030935            0.042464   [            -0.49978             0.49998 ]\n",
      "                         :              CtK0S:              2.8976              2.6917   [            0.040745              112.34 ]\n",
      "                         :           cosPAK0S:             0.99984          0.00070720   [             0.99000              1.0000 ]\n",
      "                         : -------------------------------------------------------------------------------------------------------------\n",
      "                         : Preparing the Decorrelation transformation...\n",
      "TFHandler_Factory        :           Variable                  Mean                  RMS          [        Min                  Max ]\n",
      "                         : -------------------------------------------------------------------------------------------------------------\n",
      "                         :            massK0S:              127.88              1.0000   [              123.89              130.58 ]\n",
      "                         :       CosThetaStar:             0.19637              1.0000   [             -1.3873              2.4319 ]\n",
      "                         : combinedProtonProb:              1.9002              1.0000   [            -0.13181              2.8650 ]\n",
      "                         :             signd0:              1.6997              1.0000   [             -10.497              21.913 ]\n",
      "                         :          tImpParV0:            0.057654              1.0000   [             -14.123              14.025 ]\n",
      "                         :        tImpParBach:            0.037132              1.0000   [             -11.751              12.039 ]\n",
      "                         :              CtK0S:              1.0452              1.0000   [           -0.019655              41.697 ]\n",
      "                         :           cosPAK0S:              1464.5              1.0000   [              1450.0              1465.7 ]\n",
      "                         : -------------------------------------------------------------------------------------------------------------\n",
      "                         : Preparing the Principle Component (PCA) transformation...\n",
      "TFHandler_Factory        :           Variable                  Mean                  RMS          [        Min                  Max ]\n",
      "                         : -------------------------------------------------------------------------------------------------------------\n",
      "                         :            massK0S:          1.7572e-12              2.6918   [             -2.8546              109.44 ]\n",
      "                         :       CosThetaStar:         -3.7938e-12             0.54007   [             -1.2409             0.87218 ]\n",
      "                         : combinedProtonProb:         -1.1112e-11             0.34994   [            -0.38802             0.73955 ]\n",
      "                         :             signd0:          3.1003e-12             0.10588   [             -1.5013              1.4781 ]\n",
      "                         :          tImpParV0:         -6.7551e-13            0.042446   [            -0.51881             0.49988 ]\n",
      "                         :        tImpParBach:          3.7641e-13            0.029199   [            -0.60227             0.34533 ]\n",
      "                         :              CtK0S:          7.0251e-14           0.0037622   [           -0.015179            0.010073 ]\n",
      "                         :           cosPAK0S:          3.0484e-14          0.00068163   [          -0.0098738          0.00086940 ]\n",
      "                         : -------------------------------------------------------------------------------------------------------------\n",
      "                         : Preparing the Gaussian transformation...\n",
      "                         : Preparing the Decorrelation transformation...\n",
      "TFHandler_Factory        :           Variable                  Mean                  RMS          [        Min                  Max ]\n",
      "                         : -------------------------------------------------------------------------------------------------------------\n",
      "                         :            massK0S:           0.0030357              1.0000   [             -3.2401              5.9119 ]\n",
      "                         :       CosThetaStar:           -0.011886              1.0000   [             -4.4524              6.6624 ]\n",
      "                         : combinedProtonProb:           -0.021206              1.0000   [             -3.7953              1.7472 ]\n",
      "                         :             signd0:           -0.036002              1.0000   [             -5.4697              5.7416 ]\n",
      "                         :          tImpParV0:           0.0026099              1.0000   [             -3.4091              5.9078 ]\n",
      "                         :        tImpParBach:           0.0025599              1.0000   [             -3.4482              5.9118 ]\n",
      "                         :              CtK0S:           0.0060471              1.0000   [             -3.2875              6.3756 ]\n",
      "                         :           cosPAK0S:           -0.025845              1.0000   [             -4.0319              3.1498 ]\n",
      "                         : -------------------------------------------------------------------------------------------------------------\n",
      "                         : Ranking input variables (method unspecific)...\n",
      "IdTransformation         : Ranking result (top variable is best ranked)\n",
      "                         : -------------------------------------------\n",
      "                         : Rank : Variable           : Separation\n",
      "                         : -------------------------------------------\n",
      "                         :    1 : combinedProtonProb : 1.647e-01\n",
      "                         :    2 : CosThetaStar       : 4.566e-02\n",
      "                         :    3 : tImpParBach        : 2.876e-02\n",
      "                         :    4 : signd0             : 2.219e-02\n",
      "                         :    5 : cosPAK0S           : 3.655e-03\n",
      "                         :    6 : tImpParV0          : 2.719e-03\n",
      "                         :    7 : massK0S            : 5.168e-04\n",
      "                         :    8 : CtK0S              : 1.587e-04\n",
      "                         : -------------------------------------------\n",
      "Factory                  : Train method: Cuts for Classification\n",
      "                         : \n",
      "FitterBase               : <MCFitter> Sampling, please be patient ...\n",
      "                         : Elapsed time: 95.1 sec                           \n",
      "                         : ------------------------------------------------------\n",
      "Cuts                     : Cut values for requested signal efficiency: 0.1\n",
      "                         : Corresponding background efficiency       : 0.0415092\n",
      "                         : Transformation applied to input variables : None\n",
      "                         : ------------------------------------------------------\n",
      "                         : Cut[ 0]:   0.488787 <            massK0S <=      1e+30\n",
      "                         : Cut[ 1]:  -0.811362 <       CosThetaStar <=      1e+30\n",
      "                         : Cut[ 2]:   0.858025 < combinedProtonProb <=      1e+30\n",
      "                         : Cut[ 3]:  -0.154298 <             signd0 <=      1e+30\n",
      "                         : Cut[ 4]:     -1e+30 <          tImpParV0 <=   0.940781\n",
      "                         : Cut[ 5]:  -0.204869 <        tImpParBach <=      1e+30\n",
      "                         : Cut[ 6]:    4.51652 <              CtK0S <=      1e+30\n",
      "                         : Cut[ 7]:   0.991789 <           cosPAK0S <=      1e+30\n",
      "                         : ------------------------------------------------------\n",
      "                         : ------------------------------------------------------\n",
      "Cuts                     : Cut values for requested signal efficiency: 0.2\n",
      "                         : Corresponding background efficiency       : 0.0717595\n",
      "                         : Transformation applied to input variables : None\n",
      "                         : ------------------------------------------------------\n",
      "                         : Cut[ 0]:   0.491423 <            massK0S <=      1e+30\n",
      "                         : Cut[ 1]:  -0.380663 <       CosThetaStar <=      1e+30\n",
      "                         : Cut[ 2]:   0.970477 < combinedProtonProb <=      1e+30\n",
      "                         : Cut[ 3]:  -0.203946 <             signd0 <=      1e+30\n",
      "                         : Cut[ 4]:     -1e+30 <          tImpParV0 <=     1.5092\n",
      "                         : Cut[ 5]: -0.0577787 <        tImpParBach <=      1e+30\n",
      "                         : Cut[ 6]: -0.0652479 <              CtK0S <=      1e+30\n",
      "                         : Cut[ 7]:   0.995706 <           cosPAK0S <=      1e+30\n",
      "                         : ------------------------------------------------------\n",
      "                         : ------------------------------------------------------\n",
      "Cuts                     : Cut values for requested signal efficiency: 0.3\n",
      "                         : Corresponding background efficiency       : 0.1275\n",
      "                         : Transformation applied to input variables : None\n",
      "                         : ------------------------------------------------------\n",
      "                         : Cut[ 0]:   0.489018 <            massK0S <=      1e+30\n",
      "                         : Cut[ 1]:  -0.762401 <       CosThetaStar <=      1e+30\n",
      "                         : Cut[ 2]:   0.719411 < combinedProtonProb <=      1e+30\n",
      "                         : Cut[ 3]:  -0.101929 <             signd0 <=      1e+30\n",
      "                         : Cut[ 4]:     -1e+30 <          tImpParV0 <=    1.38173\n",
      "                         : Cut[ 5]: -0.0189095 <        tImpParBach <=      1e+30\n",
      "                         : Cut[ 6]:    1.34543 <              CtK0S <=      1e+30\n",
      "                         : Cut[ 7]:   0.999412 <           cosPAK0S <=      1e+30\n",
      "                         : ------------------------------------------------------\n",
      "                         : ------------------------------------------------------\n",
      "Cuts                     : Cut values for requested signal efficiency: 0.4\n",
      "                         : Corresponding background efficiency       : -0.1\n",
      "                         : Transformation applied to input variables : None\n",
      "                         : ------------------------------------------------------\n",
      "                         : Cut[ 0]:          0 <            massK0S <=      1e+30\n",
      "                         : Cut[ 1]:          0 <       CosThetaStar <=      1e+30\n",
      "                         : Cut[ 2]:          0 < combinedProtonProb <=      1e+30\n",
      "                         : Cut[ 3]:          0 <             signd0 <=      1e+30\n",
      "                         : Cut[ 4]:     -1e+30 <          tImpParV0 <=          0\n",
      "                         : Cut[ 5]:          0 <        tImpParBach <=      1e+30\n",
      "                         : Cut[ 6]:          0 <              CtK0S <=      1e+30\n",
      "                         : Cut[ 7]:          0 <           cosPAK0S <=      1e+30\n",
      "                         : ------------------------------------------------------\n",
      "                         : ------------------------------------------------------\n",
      "Cuts                     : Cut values for requested signal efficiency: 0.5\n",
      "                         : Corresponding background efficiency       : -0.1\n",
      "                         : Transformation applied to input variables : None\n",
      "                         : ------------------------------------------------------\n",
      "                         : Cut[ 0]:          0 <            massK0S <=      1e+30\n",
      "                         : Cut[ 1]:          0 <       CosThetaStar <=      1e+30\n",
      "                         : Cut[ 2]:          0 < combinedProtonProb <=      1e+30\n",
      "                         : Cut[ 3]:          0 <             signd0 <=      1e+30\n",
      "                         : Cut[ 4]:     -1e+30 <          tImpParV0 <=          0\n",
      "                         : Cut[ 5]:          0 <        tImpParBach <=      1e+30\n",
      "                         : Cut[ 6]:          0 <              CtK0S <=      1e+30\n",
      "                         : Cut[ 7]:          0 <           cosPAK0S <=      1e+30\n",
      "                         : ------------------------------------------------------\n",
      "                         : ------------------------------------------------------\n",
      "Cuts                     : Cut values for requested signal efficiency: 0.6\n",
      "                         : Corresponding background efficiency       : -0.1\n",
      "                         : Transformation applied to input variables : None\n",
      "                         : ------------------------------------------------------\n",
      "                         : Cut[ 0]:          0 <            massK0S <=      1e+30\n",
      "                         : Cut[ 1]:          0 <       CosThetaStar <=      1e+30\n",
      "                         : Cut[ 2]:          0 < combinedProtonProb <=      1e+30\n",
      "                         : Cut[ 3]:          0 <             signd0 <=      1e+30\n",
      "                         : Cut[ 4]:     -1e+30 <          tImpParV0 <=          0\n",
      "                         : Cut[ 5]:          0 <        tImpParBach <=      1e+30\n",
      "                         : Cut[ 6]:          0 <              CtK0S <=      1e+30\n",
      "                         : Cut[ 7]:          0 <           cosPAK0S <=      1e+30\n",
      "                         : ------------------------------------------------------\n",
      "                         : ------------------------------------------------------\n",
      "Cuts                     : Cut values for requested signal efficiency: 0.7\n",
      "                         : Corresponding background efficiency       : -0.1\n",
      "                         : Transformation applied to input variables : None\n",
      "                         : ------------------------------------------------------\n",
      "                         : Cut[ 0]:          0 <            massK0S <=      1e+30\n",
      "                         : Cut[ 1]:          0 <       CosThetaStar <=      1e+30\n",
      "                         : Cut[ 2]:          0 < combinedProtonProb <=      1e+30\n",
      "                         : Cut[ 3]:          0 <             signd0 <=      1e+30\n",
      "                         : Cut[ 4]:     -1e+30 <          tImpParV0 <=          0\n",
      "                         : Cut[ 5]:          0 <        tImpParBach <=      1e+30\n",
      "                         : Cut[ 6]:          0 <              CtK0S <=      1e+30\n",
      "                         : Cut[ 7]:          0 <           cosPAK0S <=      1e+30\n",
      "                         : ------------------------------------------------------\n",
      "                         : ------------------------------------------------------\n",
      "Cuts                     : Cut values for requested signal efficiency: 0.8\n",
      "                         : Corresponding background efficiency       : -0.1\n",
      "                         : Transformation applied to input variables : None\n",
      "                         : ------------------------------------------------------\n",
      "                         : Cut[ 0]:          0 <            massK0S <=      1e+30\n",
      "                         : Cut[ 1]:          0 <       CosThetaStar <=      1e+30\n",
      "                         : Cut[ 2]:          0 < combinedProtonProb <=      1e+30\n",
      "                         : Cut[ 3]:          0 <             signd0 <=      1e+30\n",
      "                         : Cut[ 4]:     -1e+30 <          tImpParV0 <=          0\n",
      "                         : Cut[ 5]:          0 <        tImpParBach <=      1e+30\n",
      "                         : Cut[ 6]:          0 <              CtK0S <=      1e+30\n",
      "                         : Cut[ 7]:          0 <           cosPAK0S <=      1e+30\n",
      "                         : ------------------------------------------------------\n",
      "                         : ------------------------------------------------------\n",
      "Cuts                     : Cut values for requested signal efficiency: 0.9\n",
      "                         : Corresponding background efficiency       : -0.1\n",
      "                         : Transformation applied to input variables : None\n",
      "                         : ------------------------------------------------------\n",
      "                         : Cut[ 0]:          0 <            massK0S <=      1e+30\n",
      "                         : Cut[ 1]:          0 <       CosThetaStar <=      1e+30\n",
      "                         : Cut[ 2]:          0 < combinedProtonProb <=      1e+30\n",
      "                         : Cut[ 3]:          0 <             signd0 <=      1e+30\n",
      "                         : Cut[ 4]:     -1e+30 <          tImpParV0 <=          0\n",
      "                         : Cut[ 5]:          0 <        tImpParBach <=      1e+30\n",
      "                         : Cut[ 6]:          0 <              CtK0S <=      1e+30\n",
      "                         : Cut[ 7]:          0 <           cosPAK0S <=      1e+30\n",
      "                         : ------------------------------------------------------\n",
      "                         : Elapsed time for training with 376183 events: 96.1 sec         \n",
      "Cuts                     : [dataset] : Evaluation of Cuts on training sample (376183 events)\n",
      "                         : Elapsed time for evaluation of 376183 events: 0.0156 sec       \n",
      "                         : Creating xml weight file: \u001b[0;36mdataset/weights/TMVAClassification_Cuts.weights.xml\u001b[0m\n",
      "                         : Creating standalone class: \u001b[0;36mdataset/weights/TMVAClassification_Cuts.class.C\u001b[0m\n",
      "                         : TMVA_output.root:/dataset/Method_Cuts/Cuts\n",
      "Factory                  : Training finished\n",
      "                         : \n",
      "                         : Ranking input variables (method specific)...\n",
      "                         : No variable ranking supplied by classifier: Cuts\n",
      "Factory                  : === Destroy and recreate all methods via weight files for testing ===\n",
      "                         : \n",
      "                         : Reading weight file: \u001b[0;36mdataset/weights/TMVAClassification_Cuts.weights.xml\u001b[0m\n",
      "                         : Read cuts optimised using sample of MC events\n",
      "                         : Reading 100 signal efficiency bins for 8 variables\n"
     ]
    },
    {
     "name": "stderr",
     "output_type": "stream",
     "text": [
      "0%, time left: unknown\n",
      "7%, time left: 91 sec\n",
      "13%, time left: 87 sec\n",
      "19%, time left: 78 sec\n",
      "25%, time left: 72 sec\n",
      "32%, time left: 65 sec\n",
      "38%, time left: 59 sec\n",
      "44%, time left: 53 sec\n",
      "50%, time left: 48 sec\n",
      "57%, time left: 41 sec\n",
      "63%, time left: 35 sec\n",
      "69%, time left: 29 sec\n",
      "75%, time left: 24 sec\n",
      "82%, time left: 17 sec\n",
      "88%, time left: 11 sec\n",
      "94%, time left: 5 sec\n",
      "0%, time left: unknown\n",
      "6%, time left: 0 sec\n",
      "12%, time left: 0 sec\n",
      "18%, time left: 0 sec\n",
      "25%, time left: 0 sec\n",
      "31%, time left: 0 sec\n",
      "37%, time left: 0 sec\n",
      "43%, time left: 0 sec\n",
      "50%, time left: 0 sec\n",
      "56%, time left: 0 sec\n",
      "62%, time left: 0 sec\n",
      "68%, time left: 0 sec\n",
      "75%, time left: 0 sec\n",
      "81%, time left: 0 sec\n",
      "87%, time left: 0 sec\n",
      "93%, time left: 0 sec\n"
     ]
    }
   ],
   "source": [
    "# Train MVAs\n",
    "factory.TrainAllMethods()"
   ]
  },
  {
   "cell_type": "code",
   "execution_count": 16,
   "metadata": {},
   "outputs": [
    {
     "name": "stdout",
     "output_type": "stream",
     "text": [
      "Factory                  : \u001b[1mTest all methods\u001b[0m\n",
      "Factory                  : Test method: Cuts for Classification performance\n",
      "                         : \n",
      "Cuts                     : [dataset] : Evaluation of Cuts on testing sample (376183 events)\n",
      "                         : Elapsed time for evaluation of 376183 events: 0.0272 sec       \n"
     ]
    },
    {
     "name": "stderr",
     "output_type": "stream",
     "text": [
      "0%, time left: unknown\n",
      "6%, time left: 0 sec\n",
      "12%, time left: 0 sec\n",
      "18%, time left: 0 sec\n",
      "25%, time left: 0 sec\n",
      "31%, time left: 0 sec\n",
      "37%, time left: 0 sec\n",
      "43%, time left: 0 sec\n",
      "50%, time left: 0 sec\n",
      "56%, time left: 0 sec\n",
      "62%, time left: 0 sec\n",
      "68%, time left: 0 sec\n",
      "75%, time left: 0 sec\n",
      "81%, time left: 0 sec\n",
      "87%, time left: 0 sec\n",
      "93%, time left: 0 sec\n"
     ]
    }
   ],
   "source": [
    "# Test MVAs\n",
    "factory.TestAllMethods()"
   ]
  },
  {
   "cell_type": "code",
   "execution_count": 17,
   "metadata": {},
   "outputs": [
    {
     "name": "stdout",
     "output_type": "stream",
     "text": [
      "Factory                  : \u001b[1mEvaluate all methods\u001b[0m\n",
      "Factory                  : Evaluate classifier: Cuts\n",
      "                         : \n",
      "<WARNING>                : You have asked for histogram MVA_EFF_BvsS which does not seem to exist in *Results* .. better don't use it \n",
      "<WARNING>                : You have asked for histogram EFF_BVSS_TR which does not seem to exist in *Results* .. better don't use it \n",
      "<WARNING>                :  unable to fill 50 efficiency bins \n",
      "TFHandler_Cuts           :           Variable                  Mean                  RMS          [        Min                  Max ]\n",
      "                         : -------------------------------------------------------------------------------------------------------------\n",
      "                         :            massK0S:             0.49800           0.0037743   [             0.48762             0.50761 ]\n",
      "                         :       CosThetaStar:            -0.19831             0.53988   [            -0.99999             0.99770 ]\n",
      "                         : combinedProtonProb:             0.68777             0.35063   [          4.6705e-05              1.0000 ]\n",
      "                         :             signd0:            0.015172            0.030026   [           -0.021339             0.61503 ]\n",
      "                         :          tImpParV0:          0.00083191             0.10534   [             -1.4996              1.4935 ]\n",
      "                         :        tImpParBach:         -0.00038100            0.042627   [            -0.49963             0.49954 ]\n",
      "                         :              CtK0S:              2.8951              2.6924   [            0.033225              125.20 ]\n",
      "                         :           cosPAK0S:             0.99985          0.00070242   [             0.99000              1.0000 ]\n",
      "                         : -------------------------------------------------------------------------------------------------------------\n",
      "                         : \n",
      "                         : Evaluation results ranked by best signal efficiency and purity (area)\n",
      "                         : -------------------------------------------------------------------------------------------------------------------\n",
      "                         : DataSet       MVA                       \n",
      "                         : Name:         Method:          ROC-integ\n",
      "                         : dataset       Cuts           : 0.616\n",
      "                         : -------------------------------------------------------------------------------------------------------------------\n",
      "                         : \n",
      "                         : Testing efficiency compared to training efficiency (overtraining check)\n",
      "                         : -------------------------------------------------------------------------------------------------------------------\n",
      "                         : DataSet              MVA              Signal efficiency: from test sample (from training sample) \n",
      "                         : Name:                Method:          @B=0.01             @B=0.10            @B=0.30   \n",
      "                         : -------------------------------------------------------------------------------------------------------------------\n",
      "                         : dataset              Cuts           : 0.039 (0.036)       0.144 (0.222)      0.422 (0.414)\n",
      "                         : -------------------------------------------------------------------------------------------------------------------\n",
      "                         : \n",
      "Dataset:dataset          : Created tree 'TestTree' with 376183 events\n",
      "                         : \n",
      "Dataset:dataset          : Created tree 'TrainTree' with 376183 events\n",
      "                         : \n",
      "Factory                  : \u001b[1mThank you for using TMVA!\u001b[0m\n",
      "                         : \u001b[1mFor citation information, please visit: http://tmva.sf.net/citeTMVA.html\u001b[0m\n"
     ]
    }
   ],
   "source": [
    "# Evaluate MVAs\n",
    "factory.EvaluateAllMethods() "
   ]
  },
  {
   "cell_type": "code",
   "execution_count": 18,
   "metadata": {
    "scrolled": false
   },
   "outputs": [],
   "source": [
    "# Save the output.\n",
    "outputFile.Close()"
   ]
  },
  {
   "cell_type": "code",
   "execution_count": null,
   "metadata": {
    "scrolled": false
   },
   "outputs": [],
   "source": []
  }
 ],
 "metadata": {
  "kernelspec": {
   "display_name": "Python 3",
   "language": "python",
   "name": "python3"
  },
  "language_info": {
   "codemirror_mode": {
    "name": "ipython",
    "version": 3
   },
   "file_extension": ".py",
   "mimetype": "text/x-python",
   "name": "python",
   "nbconvert_exporter": "python",
   "pygments_lexer": "ipython3",
   "version": "3.8.2"
  }
 },
 "nbformat": 4,
 "nbformat_minor": 4
}
