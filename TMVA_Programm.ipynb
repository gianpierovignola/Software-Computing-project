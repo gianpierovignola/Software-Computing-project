{
 "cells": [
  {
   "cell_type": "markdown",
   "metadata": {},
   "source": [
    "\n",
    "# Λ<sub>c</sub><sup>+</sup> Reconstruction using ROOT TMVA\n",
    "\n",
    "As described in the [introduction](Introduction.md), it is possible to use the TMVA (Toolkit for Multivariate Data Analysis) with ROOT to perform multivariate analysis on high energy physics data.\n",
    "Here is shown how to use 3 of the TMVA methods:\n",
    "\n",
    "* Linear cuts \n",
    "* Neural Networks of type Multilayer Perceptron (MLP)\n",
    "* Boosted Decision Tree (BDT)\n",
    "\n",
    "The results of this analysis are presented in [result file](introduction.md).<br>\n",
    "With the latest versions of ROOT it is possible to use all functions in python codes. This feature is called pyROOT, an example of its use is shown here.\n",
    "\n",
    "<p>&nbsp;</p>"
   ]
  },
  {
   "cell_type": "code",
   "execution_count": 15,
   "metadata": {},
   "outputs": [],
   "source": [
    "from ROOT import TMVA, TCut, TFile  #import ROOT necessary functions\n",
    "from math import floor              #used to evaluate the minimum between two values"
   ]
  },
  {
   "cell_type": "markdown",
   "metadata": {},
   "source": [
    "## Declaration of Factory\n",
    "\n",
    "With the TFile class of ROOT the [TMVA_output_4_6.root](TMVA_output_4_6.root) output file is opened. <br>\n",
    "Then the TMVA factory object is declared. The details can be found in chapter 3 of the [TMVA Users Guide](References/TMVAUsersGuide.pdf).\n",
    "the options used in the declaration are described in the table:\n",
    "\n",
    "Option          |Given Value     |Description\n",
    "----------------|----------|---------------------------\n",
    "V|False|Verbose flag\n",
    "Color|True|Flag for colored output\n",
    "DrawProgressBar|True|Draw progress bar to display training, testing and evaluation schedule \n",
    "Transformations||List of transformations to test. For example with \"I;D;P;U;G\" string identity, decorrelation, PCA, uniform and Gaussian transformations will be applied\n",
    "AnalysisType|Classification|Set the analysis type\n",
    "\n",
    "<br>\n"
   ]
  },
  {
   "cell_type": "code",
   "execution_count": 14,
   "metadata": {
    "scrolled": false
   },
   "outputs": [],
   "source": [
    "outputFile = TFile( \"TMVA_output_4_6.root\", 'RECREATE' )\n",
    "TMVA.Tools.Instance()\n",
    "factory = TMVA.Factory( \"TMVAClassification\", outputFile,\n",
    "                       \"!V:Color:DrawProgressBar:Transformations=I;D;P;G,D:AnalysisType=Classification\" )"
   ]
  },
  {
   "cell_type": "markdown",
   "metadata": {},
   "source": [
    "## DataLoader Declaration, adding variables and setting the data set\n",
    "\n",
    "The <b>AnalysisResults.root</b> file is defined as input (more details on its content are given in the [analysis results](README.md)). Once the Dataloader has been declared, the variables contained in the root trees of the input file are added. the AddVariable function used requires the following arguments:\n",
    "\n",
    "* A string containing the name of the variable (the same as the root tree)\n",
    "* A label for variable (if not present the variable name is used)\n",
    "* data point type (second argument if the label for variable is missing)\n",
    "\n",
    "It is also possible to define a combination of variables or an operation with variable using the syntax \":=\" in the first argument. An example of this is represented by the <i>CtK0S</i> variable.<br><br>\n",
    "Spectator Variables have also been added. These are part of the data set but are not used for multivariate analysis in the Training or Test phases. They can for example be used for correlation tests.<br><br>\n",
    "More details on the variables used and their choice can be found in [analysis results](README.md)."
   ]
  },
  {
   "cell_type": "code",
   "execution_count": 5,
   "metadata": {
    "scrolled": false
   },
   "outputs": [],
   "source": [
    "#open input file\n",
    "input= TFile.Open(\"AnalysisResults.root\")\n",
    "\n",
    "#declaration\n",
    "dataloader = TMVA.DataLoader(\"dataset\")\n",
    "\n",
    "#Add Variable\n",
    "dataloader.AddVariable( \"massK0S\", 'F' )\n",
    "dataloader.AddVariable( \"CosThetaStar\", 'F' )\n",
    "dataloader.AddVariable( \"combinedProtonProb\", 'F')\n",
    "dataloader.AddVariable( \"signd0\", 'F')\n",
    "dataloader.AddVariable( \"tImpParV0\", 'F')\n",
    "dataloader.AddVariable( \"tImpParBach\", 'F' )\n",
    "dataloader.AddVariable( \"CtK0S := DecayLengthK0S*0.497/v0P\", 'F')\n",
    "dataloader.AddVariable( \"cosPAK0S\", 'F' )\n",
    "\n",
    "#Add spectator variables\n",
    "dataloader.AddSpectator( \"nSigmaTOFpr\", 'F' )\n",
    "dataloader.AddSpectator( \"nSigmaTPCpr\", 'F' )\n",
    "dataloader.AddSpectator( \"nSigmaTPCpi\", 'F' )\n",
    "dataloader.AddSpectator( \"nSigmaTPCka\", 'F' )\n",
    "dataloader.AddSpectator( \"bachelorEta\", 'F' )\n",
    "dataloader.AddSpectator( \"LcPt\", 'F' )\n",
    "dataloader.AddSpectator( \"bachelorPt\", 'F')\n",
    "dataloader.AddSpectator( \"massLc2K0Sp\", 'F' )\n",
    "dataloader.AddSpectator( \"massLc2Lambdapi\",  'F' )\n",
    "dataloader.AddSpectator( \"massLambda\", 'F' )\n",
    "dataloader.AddSpectator( \"massLambdaBar\", 'F' )\n",
    "dataloader.AddSpectator( \"V0positivePt\", 'F' )\n",
    "dataloader.AddSpectator( \"V0negativePt\", 'F' )\n",
    "dataloader.AddSpectator( \"dcaV0pos\", 'F' )\n",
    "dataloader.AddSpectator( \"dcaV0neg\", 'F' )\n",
    "dataloader.AddSpectator( \"v0Pt\", 'F' )\n",
    "dataloader.AddSpectator( \"dcaV0\", 'F' )\n",
    "dataloader.AddSpectator( \"V0positiveEta\",'F' )"
   ]
  },
  {
   "cell_type": "markdown",
   "metadata": {},
   "source": [
    "apriamo il dataset contenente signal and background trees"
   ]
  },
  {
   "cell_type": "code",
   "execution_count": 7,
   "metadata": {
    "scrolled": false
   },
   "outputs": [],
   "source": [
    "# signal and backg trees for training and testing \n",
    "signal      = input.Get( \"treeList_2_25_2_25_Sgn\")\n",
    "background  = input.Get( \"treeList_2_25_2_25_Bkg\")"
   ]
  },
  {
   "cell_type": "markdown",
   "metadata": {},
   "source": [
    "global event weights per tree (see below for setting event-wise weights) Diamo al Training e al Test lo stesso tree, questo verrà quindi diviso in due sottounità che serviranno separatamente per il training e il test."
   ]
  },
  {
   "cell_type": "code",
   "execution_count": 8,
   "metadata": {},
   "outputs": [
    {
     "name": "stdout",
     "output_type": "stream",
     "text": [
      "DataSetInfo              : [dataset] : Added class \"Signal\"\n",
      "                         : Add Tree treeList_2_25_2_25_Sgn of type Signal with 1762028 events\n",
      "DataSetInfo              : [dataset] : Added class \"Background\"\n",
      "                         : Add Tree treeList_2_25_2_25_Bkg of type Background with 1473789 events\n"
     ]
    }
   ],
   "source": [
    "signalWeight     = 1.0\n",
    "backgroundWeight = 1.0\n",
    "\n",
    "dataloader.AddSignalTree(signal, signalWeight)\n",
    "dataloader.AddBackgroundTree(background, backgroundWeight)"
   ]
  },
  {
   "cell_type": "markdown",
   "metadata": {},
   "source": [
    "aggiungo dei Tagli sull'impulso trasverso per selezionare solo una parte degli eventi presenti nel tree"
   ]
  },
  {
   "cell_type": "code",
   "execution_count": 9,
   "metadata": {
    "scrolled": false
   },
   "outputs": [],
   "source": [
    "mycuts = TCut(\"LcPt<6 && LcPt>4\")\n",
    "mycutb = TCut(\"LcPt<6 && LcPt>4\")"
   ]
  },
  {
   "cell_type": "markdown",
   "metadata": {},
   "source": [
    "Applicato il taglio sul momento trasverso il numero di eventi da utilizzare nel training e nel test viene deciso come segue:\n",
    "\n",
    "1) il training e il testing del segnale viene fatto con il valore minimo tra la metà degli eventi rimasti dopo il taglio e 100000\n",
    "\n",
    "2) il training e il testing del Bakground viene fatto con il valore minimo tra la metà degli eventi rimasti dopo il taglio e 200000\n",
    "\n",
    "Training e testing vengono ovviamente fatti con eventi diversi selezionati in maniera randomica all'interno del tree\n"
   ]
  },
  {
   "cell_type": "code",
   "execution_count": 10,
   "metadata": {},
   "outputs": [],
   "source": [
    "nTrainingEventsSgn = floor(min(signal.GetEntries(\"LcPt<6 && LcPt>4\")*0.5,100000))\n",
    "nTrainingEventsBkg = floor(min(background.GetEntries(\"LcPt<6 && LcPt>4\")*0.5,200000))\n",
    "nTestingEventsSgn = floor(min(signal.GetEntries(\"LcPt<6 && LcPt>4\")*0.5,100000))\n",
    "nTestingEventsBkg = floor(min(background.GetEntries(\"LcPt<6 && LcPt>4\")*0.5,200000))"
   ]
  },
  {
   "cell_type": "markdown",
   "metadata": {},
   "source": [
    "Usiamo la funzione DataLoader.PrepareTrainingAndTestTree per applicare i cut agli eventi di input"
   ]
  },
  {
   "cell_type": "code",
   "execution_count": 11,
   "metadata": {
    "scrolled": false
   },
   "outputs": [],
   "source": [
    "dataloader.PrepareTrainingAndTestTree( mycuts, mycutb,\"nTrain_Signal=nTrainingEventsSgn:nTest_Signal=nTestingEventsSgn:nTrain_Background=nTrainingEventsBkg:nTest_Background=nTestingEventsBkg:SplitMode=Random:NormMode=NumEvents:!V\")\n"
   ]
  },
  {
   "cell_type": "code",
   "execution_count": 12,
   "metadata": {},
   "outputs": [
    {
     "name": "stdout",
     "output_type": "stream",
     "text": [
      "Factory                  : Booking method: \u001b[1mCuts\u001b[0m\n",
      "                         : \n",
      "                         : Use optimization method: \"Monte Carlo\"\n",
      "                         : Use efficiency computation method: \"Event Selection\"\n",
      "                         : Use \"FSmart\" cuts for variable: 'massK0S'\n",
      "                         : Use \"FSmart\" cuts for variable: 'CosThetaStar'\n",
      "                         : Use \"FSmart\" cuts for variable: 'combinedProtonProb'\n",
      "                         : Use \"FSmart\" cuts for variable: 'signd0'\n",
      "                         : Use \"FSmart\" cuts for variable: 'tImpParV0'\n",
      "                         : Use \"FSmart\" cuts for variable: 'tImpParBach'\n",
      "                         : Use \"FSmart\" cuts for variable: 'CtK0S'\n",
      "                         : Use \"FSmart\" cuts for variable: 'cosPAK0S'\n"
     ]
    }
   ],
   "source": [
    "%%capture cap --no-stderr \n",
    "factory.BookMethod( dataloader, TMVA.Types.kCuts, \"Cuts\",\"!H:!V:FitMethod=MC:EffSel:VarProp=FSmart\" )\n",
    "#factory.BookMethod( dataloader, TMVA.Types.kBDT, \"BDT\",\"!H:!V:NTrees=850:MinNodeSize=2.5%:MaxDepth=3:BoostType=AdaBoost:AdaBoostBeta=0.5:UseBaggedBoost:BaggedSampleFraction=0.5:SeparationType=GiniIndex:nCuts=20\" )\n",
    "#factory.BookMethod(dataloader, TMVA.Types.kMLP, \"MLP\",\"H:!V:NeuronType=tanh:VarTransform=N:NCycles=600:HiddenLayers=N+5:TestRate=5:!UseRegulator\" )\n",
    "\n",
    "# Train MVAs\n",
    "#factory.TrainAllMethods()\n",
    "# Test MVAs\n",
    "#factory.TestAllMethods()\n",
    "# Evaluate MVAs\n",
    "#factory.EvaluateAllMethods() \n",
    "# Save the output.\n",
    "outputFile.Close()"
   ]
  },
  {
   "cell_type": "code",
   "execution_count": 13,
   "metadata": {},
   "outputs": [],
   "source": [
    "with open('std_output.txt', 'w') as f:\n",
    "     f.write(cap.stdout)"
   ]
  }
 ],
 "metadata": {
  "kernelspec": {
   "display_name": "Python 3",
   "language": "python",
   "name": "python3"
  },
  "language_info": {
   "codemirror_mode": {
    "name": "ipython",
    "version": 3
   },
   "file_extension": ".py",
   "mimetype": "text/x-python",
   "name": "python",
   "nbconvert_exporter": "python",
   "pygments_lexer": "ipython3",
   "version": "3.8.2"
  }
 },
 "nbformat": 4,
 "nbformat_minor": 4
}
