{
 "cells": [
  {
   "cell_type": "code",
   "execution_count": 1,
   "metadata": {
    "collapsed": true
   },
   "outputs": [
    {
     "name": "stdout",
     "output_type": "stream",
     "text": [
      "Welcome to JupyROOT 6.22/03\n"
     ]
    }
   ],
   "source": [
    "import ROOT\n",
    "from ROOT import TMVA, TCut, TFile\n",
    "from math import floor"
   ]
  },
  {
   "cell_type": "code",
   "execution_count": 2,
   "metadata": {
    "scrolled": false
   },
   "outputs": [],
   "source": [
    "outputFile = TFile( \"TMVA.root\", 'RECREATE' )\n",
    "TMVA.Tools.Instance()\n",
    "\n",
    "factory = TMVA.Factory( \"TMVAClassification\", outputFile,\n",
    "                       \"!V:Color:DrawProgressBar:Transformations=I;D;P;G,D:AnalysisType=Classification\" )"
   ]
  },
  {
   "cell_type": "code",
   "execution_count": 3,
   "metadata": {
    "scrolled": false
   },
   "outputs": [],
   "source": [
    "factory.SetVerbose()"
   ]
  },
  {
   "cell_type": "markdown",
   "metadata": {},
   "source": [
    "Ora dichiariamo un DataLoader e aggiungiamo le variabili usando la AddVariable Function"
   ]
  },
  {
   "cell_type": "code",
   "execution_count": 4,
   "metadata": {
    "scrolled": false
   },
   "outputs": [],
   "source": [
    "dataloader = TMVA.DataLoader(\"dataset\")"
   ]
  },
  {
   "cell_type": "code",
   "execution_count": 5,
   "metadata": {
    "scrolled": false
   },
   "outputs": [],
   "source": [
    "dataloader.AddVariable( \"massK0S\", 'F' )\n",
    "dataloader.AddVariable( \"tImpParBach\", 'F' )\n",
    "dataloader.AddVariable( \"tImpParV0\", 'F' )\n",
    "dataloader.AddVariable( \"CtK0S := DecayLengthK0S*0.497/v0P\", 'F')\n",
    "dataloader.AddVariable( \"cosPAK0S\", 'F' )\n",
    "dataloader.AddVariable( \"CosThetaStar\", 'F' )\n",
    "dataloader.AddVariable( \"nSigmaTOFpr\", 'F' )\n",
    "dataloader.AddVariable( \"nSigmaTOFpi\", 'F' )\n",
    "dataloader.AddVariable( \"nSigmaTOFka\", 'F' )\n",
    "dataloader.AddVariable( \"nSigmaTPCpr\", 'F' )\n",
    "dataloader.AddVariable( \"nSigmaTPCpi\", 'F' )\n",
    "dataloader.AddVariable( \"nSigmaTPCka\", 'F' )\n",
    "\n",
    "#spectator variables\n",
    "\n",
    "dataloader.AddSpectator( \"massLc2K0Sp\", \"mass Lc-->K0S+p\", 'F' )\n",
    "dataloader.AddSpectator( \"LcPt\",  \"Lc Pt\", 'F' )\n",
    "dataloader.AddSpectator( \"massLc2Lambdapi\",  \"mass Lc -->L(1520)+pi\", 'F' )\n",
    "dataloader.AddSpectator( \"massLambda\", \"mass V0 = Lambda\", 'F' )\n",
    "dataloader.AddSpectator( \"massLambdaBar\", \"mass V0 = LambdaBar\", 'F' )\n",
    "dataloader.AddSpectator( \"V0positivePt\", \"V0 positive Pt\", 'F' )\n",
    "dataloader.AddSpectator( \"V0negativePt\", \"V0 negative Pt\", 'F' )\n",
    "dataloader.AddSpectator( \"dcaV0pos\", \"dca V0 positive\", 'F' )\n",
    "dataloader.AddSpectator( \"dcaV0neg\", \"dca V0 negative\", 'F' )\n",
    "dataloader.AddSpectator( \"v0Pt\", \"K0S Pt\", 'F' )\n",
    "dataloader.AddSpectator( \"dcaV0\", \"dca V0\", 'F' )\n",
    "dataloader.AddSpectator( \"V0positiveEta\", \"V0pos Eta\", 'F' )\n",
    "dataloader.AddSpectator( \"bachelorEta\", \"eta bachelor\", 'F' )"
   ]
  },
  {
   "cell_type": "markdown",
   "metadata": {},
   "source": [
    "apriamo il dataset contenente signal and background trees"
   ]
  },
  {
   "cell_type": "code",
   "execution_count": 6,
   "metadata": {
    "collapsed": true
   },
   "outputs": [
    {
     "name": "stderr",
     "output_type": "stream",
     "text": [
      "Warning in <TClass::Init>: no dictionary for class AliRDHFCutsLctoV0 is available\n",
      "Warning in <TClass::Init>: no dictionary for class AliRDHFCuts is available\n",
      "Warning in <TClass::Init>: no dictionary for class AliAnalysisCuts is available\n",
      "Warning in <TClass::Init>: no dictionary for class AliVCuts is available\n",
      "Warning in <TClass::Init>: no dictionary for class AliESDtrackCuts is available\n",
      "Warning in <TClass::Init>: no dictionary for class AliAODPidHF is available\n",
      "Warning in <TClass::Init>: no dictionary for class AliAnalysisUtils is available\n",
      "Warning in <TClass::Init>: no dictionary for class AliEventCuts is available\n",
      "Warning in <TClass::Init>: no dictionary for class AliNormalizationCounter is available\n",
      "Warning in <TClass::Init>: no dictionary for class AliCounterCollection is available\n"
     ]
    }
   ],
   "source": [
    "input= TFile.Open( \"AnalysisResults.root\")"
   ]
  },
  {
   "cell_type": "code",
   "execution_count": 7,
   "metadata": {
    "scrolled": false
   },
   "outputs": [],
   "source": [
    "# signal and backg trees for training\n",
    "signal      = input.Get( \"treeList_2_25_2_25_Sgn\")\n",
    "background  = input.Get( \"treeList_2_25_2_25_Bkg\")"
   ]
  },
  {
   "cell_type": "markdown",
   "metadata": {},
   "source": [
    "global event weights per tree (see below for setting event-wise weights) Diamo al Training e al Test lo stesso tree, questo verrà quindi diviso in due sottounità che serviranno separatamente per il training e il test."
   ]
  },
  {
   "cell_type": "code",
   "execution_count": 8,
   "metadata": {
    "collapsed": true
   },
   "outputs": [
    {
     "name": "stdout",
     "output_type": "stream",
     "text": [
      "DataSetInfo              : [dataset] : Added class \"Signal\"\n",
      "                         : Add Tree treeList_2_25_2_25_Sgn of type Signal with 1762028 events\n",
      "DataSetInfo              : [dataset] : Added class \"Background\"\n",
      "                         : Add Tree treeList_2_25_2_25_Bkg of type Background with 1473789 events\n"
     ]
    }
   ],
   "source": [
    "signalWeight     = 1.0\n",
    "backgroundWeight = 1.0\n",
    "\n",
    "dataloader.AddSignalTree(signal, signalWeight)\n",
    "dataloader.AddBackgroundTree(background, backgroundWeight)"
   ]
  },
  {
   "cell_type": "markdown",
   "metadata": {},
   "source": [
    "aggiungo dei Tagli sull'impulso trasverso per selezionare solo una parte degli eventi presenti nel tree"
   ]
  },
  {
   "cell_type": "code",
   "execution_count": 9,
   "metadata": {
    "scrolled": false
   },
   "outputs": [],
   "source": [
    "mycuts = TCut(\"LcPt<8 && LcPt>6\")\n",
    "mycutb = TCut(\"LcPt<8 && LcPt>6\")"
   ]
  },
  {
   "cell_type": "markdown",
   "metadata": {},
   "source": [
    "Applicato il taglio sul momento trasverso il numero di eventi da utilizzare nel training e nel test viene deciso come segue:\n",
    "\n",
    "1) il training e il testing del segnale viene fatto con il valore minimo tra la metà degli eventi rimasti dopo il taglio e 100000\n",
    "\n",
    "2) il training e il testing del Bakground viene fatto con il valore minimo tra la metà degli eventi rimasti dopo il taglio e 200000\n",
    "\n",
    "Training e testing vengono ovviamente fatti con eventi diversi selezionati in maniera randomica all'interno del tree\n"
   ]
  },
  {
   "cell_type": "code",
   "execution_count": 10,
   "metadata": {
    "collapsed": true
   },
   "outputs": [
    {
     "name": "stdout",
     "output_type": "stream",
     "text": [
      "100000\n",
      "126478\n",
      "100000\n",
      "126478\n"
     ]
    }
   ],
   "source": [
    "nTrainingEventsSgn = floor(min(signal.GetEntries(\"LcPt<6 && LcPt>4\")*0.5,100000))\n",
    "nTrainingEventsBkg = floor(min(background.GetEntries(\"LcPt<6 && LcPt>4\")*0.5,200000))\n",
    "nTestingEventsSgn = floor(min(signal.GetEntries(\"LcPt<6 && LcPt>4\")*0.5,100000))\n",
    "nTestingEventsBkg = floor(min(background.GetEntries(\"LcPt<6 && LcPt>4\")*0.5,200000))\n",
    "print(nTrainingEventsSgn)\n",
    "print(nTrainingEventsBkg)\n",
    "print(nTestingEventsSgn)\n",
    "print(nTestingEventsBkg)"
   ]
  },
  {
   "cell_type": "markdown",
   "metadata": {},
   "source": [
    "Usiamo la funzione DataLoader.PrepareTrainingAndTestTree per applicare i cut agli eventi di input"
   ]
  },
  {
   "cell_type": "code",
   "execution_count": 11,
   "metadata": {
    "scrolled": false
   },
   "outputs": [],
   "source": [
    "dataloader.PrepareTrainingAndTestTree( mycuts, mycutb,\n",
    "\"nTrain_Signal=nTrainingEventsSgn:nTest_Signal=nTestingEventsSgn:nTrain_Background=nTrainingEventsBkg:nTest_Background=nTestingEventsBkg:SplitMode=Random:NormMode=NumEvents:!V\")\n"
   ]
  },
  {
   "cell_type": "code",
   "execution_count": 12,
   "metadata": {
    "collapsed": true
   },
   "outputs": [
    {
     "name": "stdout",
     "output_type": "stream",
     "text": [
      "Factory                  : Booking method: \u001b[1mBDTG\u001b[0m\n",
      "                         : \n",
      "                         : the option NegWeightTreatment=InverseBoostNegWeights does not exist for BoostType=Grad\n",
      "                         : --> change to new default NegWeightTreatment=Pray\n",
      "                         : Building event vectors for type 2 Signal\n",
      "                         : Dataset[dataset] :  create input formulas for tree treeList_2_25_2_25_Sgn\n",
      "                         : Building event vectors for type 2 Background\n",
      "                         : Dataset[dataset] :  create input formulas for tree treeList_2_25_2_25_Bkg\n",
      "DataSetFactory           : [dataset] : Number of events in input trees\n",
      "                         : Dataset[dataset] :     Signal     requirement: \"LcPt<8 && LcPt>6\"\n",
      "                         : Dataset[dataset] :     Signal          -- number of events passed: 218418  / sum of weights: 218418\n",
      "                         : Dataset[dataset] :     Signal          -- efficiency             : 0.123958\n",
      "                         : Dataset[dataset] :     Background requirement: \"LcPt<8 && LcPt>6\"\n",
      "                         : Dataset[dataset] :     Background      -- number of events passed: 68026  / sum of weights: 68026\n",
      "                         : Dataset[dataset] :     Background      -- efficiency             : 0.0461572\n",
      "                         : Dataset[dataset] :  you have opted for interpreting the requested number of training/testing events\n",
      "                         :  to be the number of events AFTER your preselection cuts\n",
      "                         : \n",
      "                         : Dataset[dataset] :  you have opted for interpreting the requested number of training/testing events\n",
      "                         :  to be the number of events AFTER your preselection cuts\n",
      "                         : \n",
      "                         : Number of training and testing events\n",
      "                         : ---------------------------------------------------------------------------\n",
      "                         : Signal     -- training events            : 109209\n",
      "                         : Signal     -- testing events             : 109209\n",
      "                         : Signal     -- training and testing events: 218418\n",
      "                         : Dataset[dataset] : Signal     -- due to the preselection a scaling factor has been applied to the numbers of requested events: 0.123958\n",
      "                         : Background -- training events            : 34013\n",
      "                         : Background -- testing events             : 34013\n",
      "                         : Background -- training and testing events: 68026\n",
      "                         : Dataset[dataset] : Background -- due to the preselection a scaling factor has been applied to the numbers of requested events: 0.0461572\n",
      "                         : \n",
      "DataSetInfo              : Correlation matrix (Signal):\n",
      "                         : -------------------------------------------------------------------------------------------------------------------------------------------------\n",
      "                         :               massK0S tImpParBach tImpParV0   CtK0S cosPAK0S CosThetaStar nSigmaTOFpr nSigmaTOFpi nSigmaTOFka nSigmaTPCpr nSigmaTPCpi nSigmaTPCka\n",
      "                         :      massK0S:  +1.000      +0.001    -0.007  +0.051   +0.022       -0.020      +0.003      +0.003      +0.003      +0.000      +0.014      +0.014\n",
      "                         :  tImpParBach:  +0.001      +1.000    -0.086  -0.000   -0.003       -0.000      +0.002      +0.002      +0.002      -0.001      -0.002      -0.001\n",
      "                         :    tImpParV0:  -0.007      -0.086    +1.000  +0.015   -0.012       +0.003      +0.003      +0.003      +0.003      +0.000      -0.002      -0.000\n",
      "                         :        CtK0S:  +0.051      -0.000    +0.015  +1.000   +0.078       +0.045      +0.000      +0.000      +0.000      +0.004      -0.026      -0.026\n",
      "                         :     cosPAK0S:  +0.022      -0.003    -0.012  +0.078   +1.000       -0.241      -0.017      -0.016      -0.016      -0.006      +0.088      +0.092\n",
      "                         : CosThetaStar:  -0.020      -0.000    +0.003  +0.045   -0.241       +1.000      +0.082      +0.073      +0.076      -0.001      -0.653      -0.643\n",
      "                         :  nSigmaTOFpr:  +0.003      +0.002    +0.003  +0.000   -0.017       +0.082      +1.000      +1.000      +1.000      +0.003      -0.068      -0.067\n",
      "                         :  nSigmaTOFpi:  +0.003      +0.002    +0.003  +0.000   -0.016       +0.073      +1.000      +1.000      +1.000      +0.003      -0.058      -0.058\n",
      "                         :  nSigmaTOFka:  +0.003      +0.002    +0.003  +0.000   -0.016       +0.076      +1.000      +1.000      +1.000      +0.003      -0.061      -0.061\n",
      "                         :  nSigmaTPCpr:  +0.000      -0.001    +0.000  +0.004   -0.006       -0.001      +0.003      +0.003      +0.003      +1.000      +0.408      +0.542\n",
      "                         :  nSigmaTPCpi:  +0.014      -0.002    -0.002  -0.026   +0.088       -0.653      -0.068      -0.058      -0.061      +0.408      +1.000      +0.976\n",
      "                         :  nSigmaTPCka:  +0.014      -0.001    -0.000  -0.026   +0.092       -0.643      -0.067      -0.058      -0.061      +0.542      +0.976      +1.000\n",
      "                         : -------------------------------------------------------------------------------------------------------------------------------------------------\n",
      "DataSetInfo              : Correlation matrix (Background):\n",
      "                         : -------------------------------------------------------------------------------------------------------------------------------------------------\n",
      "                         :               massK0S tImpParBach tImpParV0   CtK0S cosPAK0S CosThetaStar nSigmaTOFpr nSigmaTOFpi nSigmaTOFka nSigmaTPCpr nSigmaTPCpi nSigmaTPCka\n",
      "                         :      massK0S:  +1.000      -0.002    -0.004  +0.044   +0.031       -0.039      -0.013      -0.013      -0.013      -0.012      +0.028      +0.025\n",
      "                         :  tImpParBach:  -0.002      +1.000    -0.018  -0.004   -0.006       +0.002      +0.001      +0.001      +0.001      -0.006      -0.011      -0.011\n",
      "                         :    tImpParV0:  -0.004      -0.018    +1.000  +0.027   -0.018       -0.002      +0.002      +0.002      +0.002      +0.004      +0.010      +0.009\n",
      "                         :        CtK0S:  +0.044      -0.004    +0.027  +1.000   -0.001       +0.069      +0.027      +0.027      +0.027      +0.030      -0.048      -0.043\n",
      "                         :     cosPAK0S:  +0.031      -0.006    -0.018  -0.001   +1.000       -0.268      -0.107      -0.105      -0.106      -0.050      +0.143      +0.142\n",
      "                         : CosThetaStar:  -0.039      +0.002    -0.002  +0.069   -0.268       +1.000      +0.413      +0.405      +0.408      +0.356      -0.635      -0.587\n",
      "                         :  nSigmaTOFpr:  -0.013      +0.001    +0.002  +0.027   -0.107       +0.413      +1.000      +1.000      +1.000      +0.157      -0.232      -0.215\n",
      "                         :  nSigmaTOFpi:  -0.013      +0.001    +0.002  +0.027   -0.105       +0.405      +1.000      +1.000      +1.000      +0.156      -0.223      -0.207\n",
      "                         :  nSigmaTOFka:  -0.013      +0.001    +0.002  +0.027   -0.106       +0.408      +1.000      +1.000      +1.000      +0.156      -0.226      -0.210\n",
      "                         :  nSigmaTPCpr:  -0.012      -0.006    +0.004  +0.030   -0.050       +0.356      +0.157      +0.156      +0.156      +1.000      +0.077      +0.283\n",
      "                         :  nSigmaTPCpi:  +0.028      -0.011    +0.010  -0.048   +0.143       -0.635      -0.232      -0.223      -0.226      +0.077      +1.000      +0.965\n",
      "                         :  nSigmaTPCka:  +0.025      -0.011    +0.009  -0.043   +0.142       -0.587      -0.215      -0.207      -0.210      +0.283      +0.965      +1.000\n",
      "                         : -------------------------------------------------------------------------------------------------------------------------------------------------\n",
      "DataSetFactory           : [dataset] :  \n",
      "                         : \n"
     ]
    }
   ],
   "source": [
    "factory.BookMethod( dataloader, TMVA.Types.kBDT, \"BDTG\",\"!H:!V:NTrees=1000:MinNodeSize=2.5%:BoostType=Grad:Shrinkage=0.10:UseBaggedBoost:BaggedSampleFraction=0.5:nCuts=20:MaxDepth=2\" );"
   ]
  },
  {
   "cell_type": "code",
   "execution_count": 13,
   "metadata": {
    "scrolled": false
   },
   "outputs": [],
   "source": [
    "#factory.BookMethod(dataloader, TMVA.Types.kMLP, \"MLP\", \"H:!V:NeuronType=tanh:VarTransform=N:NCycles=600:HiddenLayers=N+5:TestRate=5:!UseRegulator\" )"
   ]
  },
  {
   "cell_type": "code",
   "execution_count": 14,
   "metadata": {
    "collapsed": true
   },
   "outputs": [
    {
     "name": "stdout",
     "output_type": "stream",
     "text": [
      "Factory                  : \u001b[1mTrain all methods\u001b[0m\n",
      "Factory                  : [dataset] : Create Transformation \"I\" with events from all classes.\n",
      "                         : \n",
      "                         : Transformation, Variable selection : \n",
      "                         : Input : variable 'massK0S' <---> Output : variable 'massK0S'\n",
      "                         : Input : variable 'tImpParBach' <---> Output : variable 'tImpParBach'\n",
      "                         : Input : variable 'tImpParV0' <---> Output : variable 'tImpParV0'\n",
      "                         : Input : variable 'CtK0S' <---> Output : variable 'CtK0S'\n",
      "                         : Input : variable 'cosPAK0S' <---> Output : variable 'cosPAK0S'\n",
      "                         : Input : variable 'CosThetaStar' <---> Output : variable 'CosThetaStar'\n",
      "                         : Input : variable 'nSigmaTOFpr' <---> Output : variable 'nSigmaTOFpr'\n",
      "                         : Input : variable 'nSigmaTOFpi' <---> Output : variable 'nSigmaTOFpi'\n",
      "                         : Input : variable 'nSigmaTOFka' <---> Output : variable 'nSigmaTOFka'\n",
      "                         : Input : variable 'nSigmaTPCpr' <---> Output : variable 'nSigmaTPCpr'\n",
      "                         : Input : variable 'nSigmaTPCpi' <---> Output : variable 'nSigmaTPCpi'\n",
      "                         : Input : variable 'nSigmaTPCka' <---> Output : variable 'nSigmaTPCka'\n",
      "Factory                  : [dataset] : Create Transformation \"D\" with events from all classes.\n",
      "                         : \n",
      "                         : Transformation, Variable selection : \n",
      "                         : Input : variable 'massK0S' <---> Output : variable 'massK0S'\n",
      "                         : Input : variable 'tImpParBach' <---> Output : variable 'tImpParBach'\n",
      "                         : Input : variable 'tImpParV0' <---> Output : variable 'tImpParV0'\n",
      "                         : Input : variable 'CtK0S' <---> Output : variable 'CtK0S'\n",
      "                         : Input : variable 'cosPAK0S' <---> Output : variable 'cosPAK0S'\n",
      "                         : Input : variable 'CosThetaStar' <---> Output : variable 'CosThetaStar'\n",
      "                         : Input : variable 'nSigmaTOFpr' <---> Output : variable 'nSigmaTOFpr'\n",
      "                         : Input : variable 'nSigmaTOFpi' <---> Output : variable 'nSigmaTOFpi'\n",
      "                         : Input : variable 'nSigmaTOFka' <---> Output : variable 'nSigmaTOFka'\n",
      "                         : Input : variable 'nSigmaTPCpr' <---> Output : variable 'nSigmaTPCpr'\n",
      "                         : Input : variable 'nSigmaTPCpi' <---> Output : variable 'nSigmaTPCpi'\n",
      "                         : Input : variable 'nSigmaTPCka' <---> Output : variable 'nSigmaTPCka'\n",
      "Factory                  : [dataset] : Create Transformation \"P\" with events from all classes.\n",
      "                         : \n",
      "                         : Transformation, Variable selection : \n",
      "                         : Input : variable 'massK0S' <---> Output : variable 'massK0S'\n",
      "                         : Input : variable 'tImpParBach' <---> Output : variable 'tImpParBach'\n",
      "                         : Input : variable 'tImpParV0' <---> Output : variable 'tImpParV0'\n",
      "                         : Input : variable 'CtK0S' <---> Output : variable 'CtK0S'\n",
      "                         : Input : variable 'cosPAK0S' <---> Output : variable 'cosPAK0S'\n",
      "                         : Input : variable 'CosThetaStar' <---> Output : variable 'CosThetaStar'\n",
      "                         : Input : variable 'nSigmaTOFpr' <---> Output : variable 'nSigmaTOFpr'\n",
      "                         : Input : variable 'nSigmaTOFpi' <---> Output : variable 'nSigmaTOFpi'\n",
      "                         : Input : variable 'nSigmaTOFka' <---> Output : variable 'nSigmaTOFka'\n",
      "                         : Input : variable 'nSigmaTPCpr' <---> Output : variable 'nSigmaTPCpr'\n",
      "                         : Input : variable 'nSigmaTPCpi' <---> Output : variable 'nSigmaTPCpi'\n",
      "                         : Input : variable 'nSigmaTPCka' <---> Output : variable 'nSigmaTPCka'\n",
      "Factory                  : [dataset] : Create Transformation \"G\" with events from all classes.\n",
      "                         : \n",
      "                         : Transformation, Variable selection : \n",
      "                         : Input : variable 'massK0S' <---> Output : variable 'massK0S'\n",
      "                         : Input : variable 'tImpParBach' <---> Output : variable 'tImpParBach'\n",
      "                         : Input : variable 'tImpParV0' <---> Output : variable 'tImpParV0'\n",
      "                         : Input : variable 'CtK0S' <---> Output : variable 'CtK0S'\n",
      "                         : Input : variable 'cosPAK0S' <---> Output : variable 'cosPAK0S'\n",
      "                         : Input : variable 'CosThetaStar' <---> Output : variable 'CosThetaStar'\n",
      "                         : Input : variable 'nSigmaTOFpr' <---> Output : variable 'nSigmaTOFpr'\n",
      "                         : Input : variable 'nSigmaTOFpi' <---> Output : variable 'nSigmaTOFpi'\n",
      "                         : Input : variable 'nSigmaTOFka' <---> Output : variable 'nSigmaTOFka'\n",
      "                         : Input : variable 'nSigmaTPCpr' <---> Output : variable 'nSigmaTPCpr'\n",
      "                         : Input : variable 'nSigmaTPCpi' <---> Output : variable 'nSigmaTPCpi'\n",
      "                         : Input : variable 'nSigmaTPCka' <---> Output : variable 'nSigmaTPCka'\n",
      "Factory                  : [dataset] : Create Transformation \"D\" with events from all classes.\n",
      "                         : \n",
      "                         : Transformation, Variable selection : \n",
      "                         : Input : variable 'massK0S' <---> Output : variable 'massK0S'\n",
      "                         : Input : variable 'tImpParBach' <---> Output : variable 'tImpParBach'\n",
      "                         : Input : variable 'tImpParV0' <---> Output : variable 'tImpParV0'\n",
      "                         : Input : variable 'CtK0S' <---> Output : variable 'CtK0S'\n",
      "                         : Input : variable 'cosPAK0S' <---> Output : variable 'cosPAK0S'\n",
      "                         : Input : variable 'CosThetaStar' <---> Output : variable 'CosThetaStar'\n",
      "                         : Input : variable 'nSigmaTOFpr' <---> Output : variable 'nSigmaTOFpr'\n",
      "                         : Input : variable 'nSigmaTOFpi' <---> Output : variable 'nSigmaTOFpi'\n",
      "                         : Input : variable 'nSigmaTOFka' <---> Output : variable 'nSigmaTOFka'\n",
      "                         : Input : variable 'nSigmaTPCpr' <---> Output : variable 'nSigmaTPCpr'\n",
      "                         : Input : variable 'nSigmaTPCpi' <---> Output : variable 'nSigmaTPCpi'\n",
      "                         : Input : variable 'nSigmaTPCka' <---> Output : variable 'nSigmaTPCka'\n",
      "TFHandler_Factory        :     Variable            Mean            RMS    [        Min            Max ]\n",
      "                         : -------------------------------------------------------------------------------\n",
      "                         :      massK0S:       0.49803     0.0038583   [       0.48761       0.50761 ]\n",
      "                         :  tImpParBach:   -0.00030868      0.034426   [      -0.49940       0.49824 ]\n",
      "                         :    tImpParV0:     0.0010728      0.097093   [       -1.4589        1.4725 ]\n",
      "                         :        CtK0S:        2.8080        2.5379   [      0.023800        130.14 ]\n",
      "                         :     cosPAK0S:       0.99988    0.00063165   [       0.99001        1.0000 ]\n",
      "                         : CosThetaStar:      -0.16474       0.56863   [      -0.99998       0.99996 ]\n",
      "                         :  nSigmaTOFpr:       -428.08        494.41   [       -999.00        2.9997 ]\n",
      "                         :  nSigmaTOFpi:       -423.41        498.50   [       -999.00        86.223 ]\n",
      "                         :  nSigmaTOFka:       -424.70        497.37   [       -999.00        55.078 ]\n",
      "                         :  nSigmaTPCpr:      0.045487        1.1078   [       -2.9987        2.9999 ]\n",
      "                         :  nSigmaTPCpi:       -2.1644        2.2457   [       -6.9650        25.167 ]\n",
      "                         :  nSigmaTPCka:      0.066178        1.8930   [       -4.3019        19.124 ]\n",
      "                         : -------------------------------------------------------------------------------\n",
      "                         : Preparing the Decorrelation transformation...\n",
      "TFHandler_Factory        :     Variable            Mean            RMS    [        Min            Max ]\n",
      "                         : -------------------------------------------------------------------------------\n",
      "                         :      massK0S:        125.54        1.0000   [        121.66        128.14 ]\n",
      "                         :  tImpParBach:       0.11349        1.0000   [       -14.336        14.617 ]\n",
      "                         :    tImpParV0:       0.16848        1.0000   [       -14.995        15.313 ]\n",
      "                         :        CtK0S:        1.0874        1.0000   [     -0.031801        51.255 ]\n",
      "                         :     cosPAK0S:        1645.1        1.0000   [        1629.0        1646.6 ]\n",
      "                         : CosThetaStar:        1.3412        1.0000   [      -0.80203        7.0418 ]\n",
      "                         :  nSigmaTOFpr:       -2.0064        1.0000   [       -5.8256        5.0775 ]\n",
      "                         :  nSigmaTOFpi:      -0.13224        1.0000   [       -5.5202        41.650 ]\n",
      "                         :  nSigmaTOFka:       0.64421        1.0000   [       -46.632        3.9198 ]\n",
      "                         :  nSigmaTPCpr:      -0.66876        1.0000   [       -6.0651        2.4425 ]\n",
      "                         :  nSigmaTPCpi:       -5.0785        1.0000   [       -7.6372        12.571 ]\n",
      "                         :  nSigmaTPCka:        4.0913        1.0000   [      -0.76043        8.9362 ]\n",
      "                         : -------------------------------------------------------------------------------\n",
      "                         : Preparing the Principle Component (PCA) transformation...\n",
      "TFHandler_Factory        :     Variable            Mean            RMS    [        Min            Max ]\n",
      "                         : -------------------------------------------------------------------------------\n",
      "                         :      massK0S:   -7.7987e-08        860.41   [       -818.22        993.53 ]\n",
      "                         :  tImpParBach:   -4.4566e-10        5.4725   [       -7.5682        58.976 ]\n",
      "                         :    tImpParV0:    1.8078e-10        2.5365   [       -127.04        3.0518 ]\n",
      "                         :        CtK0S:   -4.4850e-11        2.2173   [       -29.220        9.5524 ]\n",
      "                         :     cosPAK0S:    1.2808e-10       0.96306   [       -2.9628        7.2150 ]\n",
      "                         : CosThetaStar:    5.1856e-11       0.38612   [       -4.3841       0.83595 ]\n",
      "                         :  nSigmaTOFpr:    1.7564e-12       0.18322   [      -0.48771        1.8185 ]\n",
      "                         :  nSigmaTOFpi:    6.4555e-12      0.097091   [       -1.4718        1.4691 ]\n",
      "                         :  nSigmaTOFka:   -5.6039e-12      0.089541   [       -5.5474       0.53065 ]\n",
      "                         :  nSigmaTPCpr:    2.4196e-12      0.034370   [      -0.49650       0.49861 ]\n",
      "                         :  nSigmaTPCpi:    3.2339e-13     0.0038520   [     -0.015076     0.0099421 ]\n",
      "                         :  nSigmaTPCka:   -2.7339e-14    0.00060708   [    -0.0097873    0.00088511 ]\n",
      "                         : -------------------------------------------------------------------------------\n",
      "                         : Preparing the Gaussian transformation...\n",
      "                         : Preparing the Decorrelation transformation...\n",
      "TFHandler_Factory        :     Variable            Mean            RMS    [        Min            Max ]\n",
      "                         : -------------------------------------------------------------------------------\n",
      "                         :      massK0S:     0.0069102        1.0000   [       -3.2199        5.8058 ]\n",
      "                         :  tImpParBach:     0.0022291        1.0000   [       -3.4743        5.8952 ]\n",
      "                         :    tImpParV0:     0.0041651        1.0000   [       -3.4143        5.8566 ]\n",
      "                         :        CtK0S:     0.0070467        1.0000   [       -3.3451        6.4078 ]\n",
      "                         :     cosPAK0S:     -0.037386        1.0000   [       -4.5054        3.1507 ]\n",
      "                         : CosThetaStar:     -0.029711        1.0000   [       -5.4703        10.072 ]\n",
      "                         :  nSigmaTOFpr:      -0.51850        1.0000   [       -5.5033        7.0452 ]\n",
      "                         :  nSigmaTOFpi:      -0.56262        1.0000   [       -31.522        6.1585 ]\n",
      "                         :  nSigmaTOFka:      -0.30163        1.0000   [       -5.5879        37.689 ]\n",
      "                         :  nSigmaTPCpr:      0.021305        1.0000   [       -5.5384        8.2201 ]\n",
      "                         :  nSigmaTPCpi:     -0.022204        1.0000   [       -3.6821        4.9296 ]\n",
      "                         :  nSigmaTPCka:     -0.024580        1.0000   [       -6.4923        5.2355 ]\n",
      "                         : -------------------------------------------------------------------------------\n",
      "                         : Ranking input variables (method unspecific)...\n",
      "IdTransformation         : Ranking result (top variable is best ranked)\n",
      "                         : -------------------------------------\n",
      "                         : Rank : Variable     : Separation\n",
      "                         : -------------------------------------\n",
      "                         :    1 : CosThetaStar : 1.253e-01\n",
      "                         :    2 : nSigmaTPCpi  : 1.127e-01\n",
      "                         :    3 : nSigmaTPCka  : 1.022e-01\n",
      "                         :    4 : nSigmaTOFka  : 9.920e-02\n",
      "                         :    5 : nSigmaTOFpi  : 9.874e-02\n",
      "                         :    6 : nSigmaTPCpr  : 7.503e-02\n",
      "                         :    7 : nSigmaTOFpr  : 5.257e-02\n",
      "                         :    8 : tImpParBach  : 1.976e-02\n",
      "                         :    9 : cosPAK0S     : 7.107e-03\n",
      "                         :   10 : tImpParV0    : 3.619e-03\n",
      "                         :   11 : massK0S      : 1.117e-03\n",
      "                         :   12 : CtK0S        : 9.905e-04\n",
      "                         : -------------------------------------\n",
      "Factory                  : Train method: BDTG for Classification\n",
      "                         : \n",
      "BDTG                     : #events: (reweighted) sig: 71611 bkg: 71611\n",
      "                         : #events: (unweighted) sig: 109209 bkg: 34013\n",
      "                         : Training 1000 Decision Trees ... patience please\n",
      "                         : Elapsed time for training with 143222 events: 114 sec         \n",
      "BDTG                     : [dataset] : Evaluation of BDTG on training sample (143222 events)\n",
      "                         : Elapsed time for evaluation of 143222 events: 11.4 sec       \n",
      "                         : Creating xml weight file: \u001b[0;36mdataset/weights/TMVAClassification_BDTG.weights.xml\u001b[0m\n",
      "                         : Creating standalone class: \u001b[0;36mdataset/weights/TMVAClassification_BDTG.class.C\u001b[0m\n",
      "                         : TMVA.root:/dataset/Method_BDT/BDTG\n",
      "Factory                  : Training finished\n",
      "                         : \n",
      "                         : Ranking input variables (method specific)...\n",
      "BDTG                     : Ranking result (top variable is best ranked)\n",
      "                         : ----------------------------------------------\n",
      "                         : Rank : Variable     : Variable Importance\n",
      "                         : ----------------------------------------------\n",
      "                         :    1 : CosThetaStar : 1.162e-01\n",
      "                         :    2 : massK0S      : 1.066e-01\n",
      "                         :    3 : tImpParBach  : 9.827e-02\n",
      "                         :    4 : nSigmaTPCpi  : 9.812e-02\n",
      "                         :    5 : nSigmaTPCpr  : 9.756e-02\n",
      "                         :    6 : nSigmaTPCka  : 9.749e-02\n",
      "                         :    7 : tImpParV0    : 7.844e-02\n",
      "                         :    8 : nSigmaTOFpr  : 7.215e-02\n",
      "                         :    9 : nSigmaTOFka  : 6.318e-02\n",
      "                         :   10 : CtK0S        : 6.293e-02\n",
      "                         :   11 : cosPAK0S     : 5.623e-02\n",
      "                         :   12 : nSigmaTOFpi  : 5.284e-02\n",
      "                         : ----------------------------------------------\n",
      "Factory                  : === Destroy and recreate all methods via weight files for testing ===\n",
      "                         : \n",
      "                         : Reading weight file: \u001b[0;36mdataset/weights/TMVAClassification_BDTG.weights.xml\u001b[0m\n"
     ]
    },
    {
     "name": "stderr",
     "output_type": "stream",
     "text": [
      "0%, time left: unknown\n",
      "6%, time left: 108 sec\n",
      "12%, time left: 96 sec\n",
      "18%, time left: 88 sec\n",
      "25%, time left: 82 sec\n",
      "31%, time left: 74 sec\n",
      "37%, time left: 67 sec\n",
      "43%, time left: 60 sec\n",
      "50%, time left: 53 sec\n",
      "56%, time left: 46 sec\n",
      "62%, time left: 40 sec\n",
      "68%, time left: 33 sec\n",
      "75%, time left: 27 sec\n",
      "81%, time left: 20 sec\n",
      "87%, time left: 13 sec\n",
      "93%, time left: 6 sec\n",
      "0%, time left: unknown\n",
      "6%, time left: 17 sec\n",
      "12%, time left: 13 sec\n",
      "18%, time left: 11 sec\n",
      "25%, time left: 9 sec\n",
      "31%, time left: 8 sec\n",
      "37%, time left: 7 sec\n",
      "43%, time left: 6 sec\n",
      "50%, time left: 5 sec\n",
      "56%, time left: 5 sec\n",
      "62%, time left: 4 sec\n",
      "68%, time left: 3 sec\n",
      "75%, time left: 2 sec\n",
      "81%, time left: 2 sec\n",
      "87%, time left: 1 sec\n",
      "93%, time left: 0 sec\n"
     ]
    }
   ],
   "source": [
    "# Train MVAs\n",
    "factory.TrainAllMethods()"
   ]
  },
  {
   "cell_type": "code",
   "execution_count": 15,
   "metadata": {
    "collapsed": true
   },
   "outputs": [
    {
     "name": "stdout",
     "output_type": "stream",
     "text": [
      "Factory                  : \u001b[1mTest all methods\u001b[0m\n",
      "Factory                  : Test method: BDTG for Classification performance\n",
      "                         : \n",
      "BDTG                     : [dataset] : Evaluation of BDTG on testing sample (143222 events)\n",
      "                         : Elapsed time for evaluation of 143222 events: 10.9 sec       \n"
     ]
    },
    {
     "name": "stderr",
     "output_type": "stream",
     "text": [
      "0%, time left: unknown\n",
      "6%, time left: 6 sec\n",
      "12%, time left: 5 sec\n",
      "18%, time left: 5 sec\n",
      "25%, time left: 5 sec\n",
      "31%, time left: 5 sec\n",
      "37%, time left: 4 sec\n",
      "43%, time left: 4 sec\n",
      "50%, time left: 3 sec\n",
      "56%, time left: 4 sec\n",
      "62%, time left: 4 sec\n",
      "68%, time left: 3 sec\n",
      "75%, time left: 2 sec\n",
      "81%, time left: 1 sec\n",
      "87%, time left: 1 sec\n",
      "93%, time left: 0 sec\n"
     ]
    }
   ],
   "source": [
    "# Test MVAs\n",
    "factory.TestAllMethods()"
   ]
  },
  {
   "cell_type": "code",
   "execution_count": 16,
   "metadata": {
    "collapsed": true
   },
   "outputs": [
    {
     "name": "stdout",
     "output_type": "stream",
     "text": [
      "Factory                  : \u001b[1mEvaluate all methods\u001b[0m\n",
      "Factory                  : Evaluate classifier: BDTG\n",
      "                         : \n",
      "BDTG                     : [dataset] : Loop over test events and fill histograms with classifier response...\n",
      "                         : \n",
      "TFHandler_BDTG           :     Variable            Mean            RMS    [        Min            Max ]\n",
      "                         : -------------------------------------------------------------------------------\n",
      "                         :      massK0S:       0.49804     0.0038542   [       0.48762       0.50761 ]\n",
      "                         :  tImpParBach:   -0.00017059      0.034713   [      -0.49536       0.49891 ]\n",
      "                         :    tImpParV0:    0.00050277      0.097152   [       -1.4894        1.4882 ]\n",
      "                         :        CtK0S:        2.8075        2.5434   [      0.046159        132.48 ]\n",
      "                         :     cosPAK0S:       0.99988    0.00061402   [       0.99001        1.0000 ]\n",
      "                         : CosThetaStar:      -0.16146       0.56883   [      -0.99999       0.99999 ]\n",
      "                         :  nSigmaTOFpr:       -432.06        494.98   [       -999.00        3.0000 ]\n",
      "                         :  nSigmaTOFpi:       -427.48        499.03   [       -999.00        110.71 ]\n",
      "                         :  nSigmaTOFka:       -428.74        497.90   [       -999.00        68.305 ]\n",
      "                         :  nSigmaTPCpr:      0.043749        1.1128   [       -2.9998        2.9994 ]\n",
      "                         :  nSigmaTPCpi:       -2.1711        2.2432   [       -7.0619        20.974 ]\n",
      "                         :  nSigmaTPCka:      0.058350        1.8918   [       -4.4222        14.974 ]\n",
      "                         : -------------------------------------------------------------------------------\n",
      "                         : \n",
      "                         : Evaluation results ranked by best signal efficiency and purity (area)\n",
      "                         : -------------------------------------------------------------------------------------------------------------------\n",
      "                         : DataSet       MVA                       \n",
      "                         : Name:         Method:          ROC-integ\n",
      "                         : dataset       BDTG           : 0.810\n",
      "                         : -------------------------------------------------------------------------------------------------------------------\n",
      "                         : \n",
      "                         : Testing efficiency compared to training efficiency (overtraining check)\n",
      "                         : -------------------------------------------------------------------------------------------------------------------\n",
      "                         : DataSet              MVA              Signal efficiency: from test sample (from training sample) \n",
      "                         : Name:                Method:          @B=0.01             @B=0.10            @B=0.30   \n",
      "                         : -------------------------------------------------------------------------------------------------------------------\n",
      "                         : dataset              BDTG           : 0.073 (0.084)       0.425 (0.439)      0.773 (0.777)\n",
      "                         : -------------------------------------------------------------------------------------------------------------------\n",
      "                         : \n",
      "Dataset:dataset          : Created tree 'TestTree' with 143222 events\n",
      "                         : \n",
      "Dataset:dataset          : Created tree 'TrainTree' with 143222 events\n",
      "                         : \n",
      "Factory                  : \u001b[1mThank you for using TMVA!\u001b[0m\n",
      "                         : \u001b[1mFor citation information, please visit: http://tmva.sf.net/citeTMVA.html\u001b[0m\n"
     ]
    }
   ],
   "source": [
    "# Evaluate MVAs\n",
    "factory.EvaluateAllMethods() "
   ]
  },
  {
   "cell_type": "code",
   "execution_count": 17,
   "metadata": {
    "scrolled": false
   },
   "outputs": [],
   "source": [
    "# Save the output.\n",
    "outputFile.Close()"
   ]
  },
  {
   "cell_type": "code",
   "execution_count": null,
   "metadata": {
    "scrolled": false
   },
   "outputs": [],
   "source": []
  }
 ],
 "metadata": {
  "kernelspec": {
   "display_name": "Python 3",
   "language": "python",
   "name": "python3"
  },
  "language_info": {
   "codemirror_mode": {
    "name": "ipython",
    "version": 3
   },
   "file_extension": ".py",
   "mimetype": "text/x-python",
   "name": "python",
   "nbconvert_exporter": "python",
   "pygments_lexer": "ipython3",
   "version": "3.8.2"
  }
 },
 "nbformat": 4,
 "nbformat_minor": 4
}
