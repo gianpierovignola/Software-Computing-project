{
 "cells": [
  {
   "cell_type": "code",
   "execution_count": 1,
   "metadata": {},
   "outputs": [
    {
     "name": "stdout",
     "output_type": "stream",
     "text": [
      "Welcome to JupyROOT 6.22/03\n"
     ]
    }
   ],
   "source": [
    "import ROOT\n",
    "from ROOT import TMVA, TCut, TFile\n",
    "from math import floor"
   ]
  },
  {
   "cell_type": "code",
   "execution_count": 2,
   "metadata": {
    "scrolled": false
   },
   "outputs": [],
   "source": [
    "outputFile = TFile( \"TMVA_output.root\", 'RECREATE' )\n",
    "TMVA.Tools.Instance()\n",
    "\n",
    "factory = TMVA.Factory( \"TMVAClassification\", outputFile,\n",
    "                       \"!V:Color:DrawProgressBar:Transformations=I;D;P;G,D:AnalysisType=Classification\" )"
   ]
  },
  {
   "cell_type": "code",
   "execution_count": 3,
   "metadata": {
    "scrolled": false
   },
   "outputs": [],
   "source": [
    "factory.SetVerbose()"
   ]
  },
  {
   "cell_type": "markdown",
   "metadata": {},
   "source": [
    "Ora dichiariamo un DataLoader e aggiungiamo le variabili usando la AddVariable Function"
   ]
  },
  {
   "cell_type": "code",
   "execution_count": 4,
   "metadata": {
    "scrolled": false
   },
   "outputs": [],
   "source": [
    "dataloader = TMVA.DataLoader(\"dataset\")"
   ]
  },
  {
   "cell_type": "code",
   "execution_count": 5,
   "metadata": {
    "scrolled": false
   },
   "outputs": [],
   "source": [
    "#dataloader.AddVariable( \"massK0S\", 'F' )\n",
    "dataloader.AddVariable( \"bachelorPt\", 'F')\n",
    "dataloader.AddVariable( \"combinedProtonProb\", 'F')\n",
    "dataloader.AddVariable( \"signd0\", 'F')\n",
    "#dataloader.AddVariable( \"tImpParV0\", 'F')\n",
    "dataloader.AddVariable( \"tImpParBach\", 'F' )\n",
    "#dataloader.AddVariable( \"CtK0S := DecayLengthK0S*0.497/v0P\", 'F')\n",
    "dataloader.AddVariable( \"cosPAK0S\", 'F' )\n",
    "dataloader.AddVariable( \"CosThetaStar\", 'F' )\n",
    "dataloader.AddVariable( \"nSigmaTOFpr\", 'F' )\n",
    "dataloader.AddVariable( \"nSigmaTPCpr\", 'F' )\n",
    "dataloader.AddVariable( \"nSigmaTPCpi\", 'F' )\n",
    "#dataloader.AddVariable( \"nSigmaTPCka\", 'F' )\n",
    "#dataloader.AddVariable( \"bachelorEta\", 'F' )\n",
    "#dataloader.AddVariable( \"LcPt\", 'F' )\n",
    "#spectator variables\n",
    "\n",
    "dataloader.AddSpectator( \"massLc2K0Sp\", \"mass Lc-->K0S+p\", 'F' )\n",
    "dataloader.AddSpectator( \"massLc2Lambdapi\",  \"mass Lc -->L(1520)+pi\", 'F' )\n",
    "dataloader.AddSpectator( \"massLambda\", \"mass V0 = Lambda\", 'F' )\n",
    "dataloader.AddSpectator( \"massLambdaBar\", \"mass V0 = LambdaBar\", 'F' )\n",
    "dataloader.AddSpectator( \"V0positivePt\", \"V0 positive Pt\", 'F' )\n",
    "dataloader.AddSpectator( \"V0negativePt\", \"V0 negative Pt\", 'F' )\n",
    "dataloader.AddSpectator( \"dcaV0pos\", \"dca V0 positive\", 'F' )\n",
    "dataloader.AddSpectator( \"dcaV0neg\", \"dca V0 negative\", 'F' )\n",
    "dataloader.AddSpectator( \"v0Pt\", \"K0S Pt\", 'F' )\n",
    "dataloader.AddSpectator( \"dcaV0\", \"dca V0\", 'F' )\n",
    "dataloader.AddSpectator( \"V0positiveEta\", \"V0pos Eta\", 'F' )\n"
   ]
  },
  {
   "cell_type": "markdown",
   "metadata": {},
   "source": [
    "apriamo il dataset contenente signal and background trees"
   ]
  },
  {
   "cell_type": "code",
   "execution_count": 6,
   "metadata": {},
   "outputs": [
    {
     "name": "stderr",
     "output_type": "stream",
     "text": [
      "Warning in <TClass::Init>: no dictionary for class AliRDHFCutsLctoV0 is available\n",
      "Warning in <TClass::Init>: no dictionary for class AliRDHFCuts is available\n",
      "Warning in <TClass::Init>: no dictionary for class AliAnalysisCuts is available\n",
      "Warning in <TClass::Init>: no dictionary for class AliVCuts is available\n",
      "Warning in <TClass::Init>: no dictionary for class AliESDtrackCuts is available\n",
      "Warning in <TClass::Init>: no dictionary for class AliAODPidHF is available\n",
      "Warning in <TClass::Init>: no dictionary for class AliAnalysisUtils is available\n",
      "Warning in <TClass::Init>: no dictionary for class AliEventCuts is available\n",
      "Warning in <TClass::Init>: no dictionary for class AliNormalizationCounter is available\n",
      "Warning in <TClass::Init>: no dictionary for class AliCounterCollection is available\n"
     ]
    }
   ],
   "source": [
    "input= TFile.Open( \"AnalysisResults.root\")"
   ]
  },
  {
   "cell_type": "code",
   "execution_count": 7,
   "metadata": {
    "scrolled": false
   },
   "outputs": [],
   "source": [
    "# signal and backg trees for training\n",
    "signal      = input.Get( \"treeList_2_25_2_25_Sgn\")\n",
    "background  = input.Get( \"treeList_2_25_2_25_Bkg\")"
   ]
  },
  {
   "cell_type": "markdown",
   "metadata": {},
   "source": [
    "global event weights per tree (see below for setting event-wise weights) Diamo al Training e al Test lo stesso tree, questo verrà quindi diviso in due sottounità che serviranno separatamente per il training e il test."
   ]
  },
  {
   "cell_type": "code",
   "execution_count": 8,
   "metadata": {},
   "outputs": [
    {
     "name": "stdout",
     "output_type": "stream",
     "text": [
      "DataSetInfo              : [dataset] : Added class \"Signal\"\n",
      "                         : Add Tree treeList_2_25_2_25_Sgn of type Signal with 1762028 events\n",
      "DataSetInfo              : [dataset] : Added class \"Background\"\n",
      "                         : Add Tree treeList_2_25_2_25_Bkg of type Background with 1473789 events\n"
     ]
    }
   ],
   "source": [
    "signalWeight     = 1.0\n",
    "backgroundWeight = 1.0\n",
    "\n",
    "dataloader.AddSignalTree(signal, signalWeight)\n",
    "dataloader.AddBackgroundTree(background, backgroundWeight)"
   ]
  },
  {
   "cell_type": "markdown",
   "metadata": {},
   "source": [
    "aggiungo dei Tagli sull'impulso trasverso per selezionare solo una parte degli eventi presenti nel tree"
   ]
  },
  {
   "cell_type": "code",
   "execution_count": 9,
   "metadata": {
    "scrolled": false
   },
   "outputs": [],
   "source": [
    "mycuts = TCut(\"LcPt<6 && LcPt>4\")\n",
    "mycutb = TCut(\"LcPt<6 && LcPt>4\")"
   ]
  },
  {
   "cell_type": "markdown",
   "metadata": {},
   "source": [
    "Applicato il taglio sul momento trasverso il numero di eventi da utilizzare nel training e nel test viene deciso come segue:\n",
    "\n",
    "1) il training e il testing del segnale viene fatto con il valore minimo tra la metà degli eventi rimasti dopo il taglio e 100000\n",
    "\n",
    "2) il training e il testing del Bakground viene fatto con il valore minimo tra la metà degli eventi rimasti dopo il taglio e 200000\n",
    "\n",
    "Training e testing vengono ovviamente fatti con eventi diversi selezionati in maniera randomica all'interno del tree\n"
   ]
  },
  {
   "cell_type": "code",
   "execution_count": 10,
   "metadata": {},
   "outputs": [],
   "source": [
    "nTrainingEventsSgn = floor(min(signal.GetEntries(\"LcPt<6 && LcPt>4\")*0.5,100000))\n",
    "nTrainingEventsBkg = floor(min(background.GetEntries(\"LcPt<6 && LcPt>4\")*0.5,200000))\n",
    "nTestingEventsSgn = floor(min(signal.GetEntries(\"LcPt<6 && LcPt>4\")*0.5,100000))\n",
    "nTestingEventsBkg = floor(min(background.GetEntries(\"LcPt<6 && LcPt>4\")*0.5,200000))"
   ]
  },
  {
   "cell_type": "markdown",
   "metadata": {},
   "source": [
    "Usiamo la funzione DataLoader.PrepareTrainingAndTestTree per applicare i cut agli eventi di input"
   ]
  },
  {
   "cell_type": "code",
   "execution_count": 11,
   "metadata": {
    "scrolled": false
   },
   "outputs": [],
   "source": [
    "dataloader.PrepareTrainingAndTestTree( mycuts, mycutb,\n",
    "\"nTrain_Signal=nTrainingEventsSgn:nTest_Signal=nTestingEventsSgn:nTrain_Background=nTrainingEventsBkg:nTest_Background=nTestingEventsBkg:SplitMode=Random:NormMode=NumEvents:!V\")\n"
   ]
  },
  {
   "cell_type": "code",
   "execution_count": 12,
   "metadata": {},
   "outputs": [
    {
     "name": "stdout",
     "output_type": "stream",
     "text": [
      "Factory                  : Booking method: \u001b[1mCuts\u001b[0m\n",
      "                         : \n",
      "                         : Use optimization method: \"Monte Carlo\"\n",
      "                         : Use efficiency computation method: \"Event Selection\"\n",
      "                         : Use \"FSmart\" cuts for variable: 'bachelorPt'\n",
      "                         : Use \"FSmart\" cuts for variable: 'combinedProtonProb'\n",
      "                         : Use \"FSmart\" cuts for variable: 'signd0'\n",
      "                         : Use \"FSmart\" cuts for variable: 'tImpParBach'\n",
      "                         : Use \"FSmart\" cuts for variable: 'cosPAK0S'\n",
      "                         : Use \"FSmart\" cuts for variable: 'CosThetaStar'\n",
      "                         : Use \"FSmart\" cuts for variable: 'nSigmaTOFpr'\n",
      "                         : Use \"FSmart\" cuts for variable: 'nSigmaTPCpr'\n",
      "                         : Use \"FSmart\" cuts for variable: 'nSigmaTPCpi'\n"
     ]
    }
   ],
   "source": [
    "factory.BookMethod( dataloader, TMVA.Types.kCuts, \"Cuts\",\n",
    "                           \"!H:!V:FitMethod=MC:EffSel:VarProp=FSmart\" );"
   ]
  },
  {
   "cell_type": "code",
   "execution_count": 13,
   "metadata": {},
   "outputs": [],
   "source": [
    "#factory.BookMethod( dataloader, TMVA.Types.kBDT, \"BDT\",\n",
    "#\"!H:!V:NTrees=850:MinNodeSize=2.5%:MaxDepth=3:BoostType=AdaBoost:AdaBoostBeta=0.5:UseBaggedBoost:BaggedSampleFraction=0.5:SeparationType=GiniIndex:nCuts=20\" )"
   ]
  },
  {
   "cell_type": "code",
   "execution_count": 14,
   "metadata": {},
   "outputs": [],
   "source": [
    "#factory.BookMethod(dataloader, TMVA.Types.kMLP, \"MLP\", \n",
    "#                   \"H:!V:NeuronType=tanh:VarTransform=N:NCycles=600:HiddenLayers=N+5:TestRate=5:!UseRegulator\" )"
   ]
  },
  {
   "cell_type": "code",
   "execution_count": 15,
   "metadata": {},
   "outputs": [
    {
     "name": "stdout",
     "output_type": "stream",
     "text": [
      "Factory                  : \u001b[1mTrain all methods\u001b[0m\n",
      "                         : Building event vectors for type 2 Signal\n",
      "                         : Dataset[dataset] :  create input formulas for tree treeList_2_25_2_25_Sgn\n",
      "                         : Building event vectors for type 2 Background\n",
      "                         : Dataset[dataset] :  create input formulas for tree treeList_2_25_2_25_Bkg\n",
      "DataSetFactory           : [dataset] : Number of events in input trees\n",
      "                         : Dataset[dataset] :     Signal     requirement: \"LcPt<6 && LcPt>4\"\n",
      "                         : Dataset[dataset] :     Signal          -- number of events passed: 499411  / sum of weights: 499411\n",
      "                         : Dataset[dataset] :     Signal          -- efficiency             : 0.28343\n",
      "                         : Dataset[dataset] :     Background requirement: \"LcPt<6 && LcPt>4\"\n",
      "                         : Dataset[dataset] :     Background      -- number of events passed: 252957  / sum of weights: 252957\n",
      "                         : Dataset[dataset] :     Background      -- efficiency             : 0.171637\n",
      "                         : Dataset[dataset] :  you have opted for interpreting the requested number of training/testing events\n",
      "                         :  to be the number of events AFTER your preselection cuts\n",
      "                         : \n",
      "                         : Dataset[dataset] :  you have opted for interpreting the requested number of training/testing events\n",
      "                         :  to be the number of events AFTER your preselection cuts\n",
      "                         : \n",
      "                         : Number of training and testing events\n",
      "                         : ---------------------------------------------------------------------------\n",
      "                         : Signal     -- training events            : 249705\n",
      "                         : Signal     -- testing events             : 249705\n",
      "                         : Signal     -- training and testing events: 499410\n",
      "                         : Dataset[dataset] : Signal     -- due to the preselection a scaling factor has been applied to the numbers of requested events: 0.28343\n",
      "                         : Background -- training events            : 126478\n",
      "                         : Background -- testing events             : 126478\n",
      "                         : Background -- training and testing events: 252956\n",
      "                         : Dataset[dataset] : Background -- due to the preselection a scaling factor has been applied to the numbers of requested events: 0.171637\n",
      "                         : \n",
      "DataSetInfo              : Correlation matrix (Signal):\n",
      "                         : -------------------------------------------------------------------------------------------------------------------------------\n",
      "                         :                     bachelorPt combinedProtonProb  signd0 tImpParBach cosPAK0S CosThetaStar nSigmaTOFpr nSigmaTPCpr nSigmaTPCpi\n",
      "                         :         bachelorPt:     +1.000             -0.135  -0.167      -0.000   -0.236       +0.952      +0.085      -0.000      -0.667\n",
      "                         : combinedProtonProb:     -0.135             +1.000  +0.022      +0.001   +0.026       -0.119      +0.708      -0.128      +0.182\n",
      "                         :             signd0:     -0.167             +0.022  +1.000      -0.022   -0.010       -0.171      -0.019      -0.002      +0.134\n",
      "                         :        tImpParBach:     -0.000             +0.001  -0.022      +1.000   -0.001       +0.001      +0.001      -0.000      +0.001\n",
      "                         :           cosPAK0S:     -0.236             +0.026  -0.010      -0.001   +1.000       -0.260      -0.019      -0.002      +0.101\n",
      "                         :       CosThetaStar:     +0.952             -0.119  -0.171      +0.001   -0.260       +1.000      +0.088      +0.001      -0.652\n",
      "                         :        nSigmaTOFpr:     +0.085             +0.708  -0.019      +0.001   -0.019       +0.088      +1.000      +0.001      -0.108\n",
      "                         :        nSigmaTPCpr:     -0.000             -0.128  -0.002      -0.000   -0.002       +0.001      +0.001      +1.000      +0.180\n",
      "                         :        nSigmaTPCpi:     -0.667             +0.182  +0.134      +0.001   +0.101       -0.652      -0.108      +0.180      +1.000\n",
      "                         : -------------------------------------------------------------------------------------------------------------------------------\n",
      "DataSetInfo              : Correlation matrix (Background):\n",
      "                         : -------------------------------------------------------------------------------------------------------------------------------\n",
      "                         :                     bachelorPt combinedProtonProb  signd0 tImpParBach cosPAK0S CosThetaStar nSigmaTOFpr nSigmaTPCpr nSigmaTPCpi\n",
      "                         :         bachelorPt:     +1.000             -0.070  -0.134      +0.000   -0.258       +0.963      +0.247      +0.338      -0.523\n",
      "                         : combinedProtonProb:     -0.070             +1.000  +0.044      -0.003   -0.010       -0.043      +0.583      -0.042      +0.287\n",
      "                         :             signd0:     -0.134             +0.044  +1.000      -0.032   +0.011       -0.131      -0.023      -0.038      +0.174\n",
      "                         :        tImpParBach:     +0.000             -0.003  -0.032      +1.000   +0.000       -0.000      -0.004      -0.002      -0.002\n",
      "                         :           cosPAK0S:     -0.258             -0.010  +0.011      +0.000   +1.000       -0.266      -0.086      -0.060      +0.096\n",
      "                         :       CosThetaStar:     +0.963             -0.043  -0.131      -0.000   -0.266       +1.000      +0.249      +0.343      -0.500\n",
      "                         :        nSigmaTOFpr:     +0.247             +0.583  -0.023      -0.004   -0.086       +0.249      +1.000      +0.088      -0.050\n",
      "                         :        nSigmaTPCpr:     +0.338             -0.042  -0.038      -0.002   -0.060       +0.343      +0.088      +1.000      +0.035\n",
      "                         :        nSigmaTPCpi:     -0.523             +0.287  +0.174      -0.002   +0.096       -0.500      -0.050      +0.035      +1.000\n",
      "                         : -------------------------------------------------------------------------------------------------------------------------------\n",
      "DataSetFactory           : [dataset] :  \n",
      "                         : \n",
      "Factory                  : [dataset] : Create Transformation \"I\" with events from all classes.\n",
      "                         : \n",
      "                         : Transformation, Variable selection : \n",
      "                         : Input : variable 'bachelorPt' <---> Output : variable 'bachelorPt'\n",
      "                         : Input : variable 'combinedProtonProb' <---> Output : variable 'combinedProtonProb'\n",
      "                         : Input : variable 'signd0' <---> Output : variable 'signd0'\n",
      "                         : Input : variable 'tImpParBach' <---> Output : variable 'tImpParBach'\n",
      "                         : Input : variable 'cosPAK0S' <---> Output : variable 'cosPAK0S'\n",
      "                         : Input : variable 'CosThetaStar' <---> Output : variable 'CosThetaStar'\n",
      "                         : Input : variable 'nSigmaTOFpr' <---> Output : variable 'nSigmaTOFpr'\n",
      "                         : Input : variable 'nSigmaTPCpr' <---> Output : variable 'nSigmaTPCpr'\n",
      "                         : Input : variable 'nSigmaTPCpi' <---> Output : variable 'nSigmaTPCpi'\n",
      "Factory                  : [dataset] : Create Transformation \"D\" with events from all classes.\n",
      "                         : \n",
      "                         : Transformation, Variable selection : \n",
      "                         : Input : variable 'bachelorPt' <---> Output : variable 'bachelorPt'\n",
      "                         : Input : variable 'combinedProtonProb' <---> Output : variable 'combinedProtonProb'\n",
      "                         : Input : variable 'signd0' <---> Output : variable 'signd0'\n",
      "                         : Input : variable 'tImpParBach' <---> Output : variable 'tImpParBach'\n",
      "                         : Input : variable 'cosPAK0S' <---> Output : variable 'cosPAK0S'\n",
      "                         : Input : variable 'CosThetaStar' <---> Output : variable 'CosThetaStar'\n",
      "                         : Input : variable 'nSigmaTOFpr' <---> Output : variable 'nSigmaTOFpr'\n",
      "                         : Input : variable 'nSigmaTPCpr' <---> Output : variable 'nSigmaTPCpr'\n",
      "                         : Input : variable 'nSigmaTPCpi' <---> Output : variable 'nSigmaTPCpi'\n",
      "Factory                  : [dataset] : Create Transformation \"P\" with events from all classes.\n",
      "                         : \n",
      "                         : Transformation, Variable selection : \n",
      "                         : Input : variable 'bachelorPt' <---> Output : variable 'bachelorPt'\n",
      "                         : Input : variable 'combinedProtonProb' <---> Output : variable 'combinedProtonProb'\n",
      "                         : Input : variable 'signd0' <---> Output : variable 'signd0'\n",
      "                         : Input : variable 'tImpParBach' <---> Output : variable 'tImpParBach'\n",
      "                         : Input : variable 'cosPAK0S' <---> Output : variable 'cosPAK0S'\n",
      "                         : Input : variable 'CosThetaStar' <---> Output : variable 'CosThetaStar'\n",
      "                         : Input : variable 'nSigmaTOFpr' <---> Output : variable 'nSigmaTOFpr'\n",
      "                         : Input : variable 'nSigmaTPCpr' <---> Output : variable 'nSigmaTPCpr'\n",
      "                         : Input : variable 'nSigmaTPCpi' <---> Output : variable 'nSigmaTPCpi'\n",
      "Factory                  : [dataset] : Create Transformation \"G\" with events from all classes.\n",
      "                         : \n",
      "                         : Transformation, Variable selection : \n",
      "                         : Input : variable 'bachelorPt' <---> Output : variable 'bachelorPt'\n",
      "                         : Input : variable 'combinedProtonProb' <---> Output : variable 'combinedProtonProb'\n",
      "                         : Input : variable 'signd0' <---> Output : variable 'signd0'\n",
      "                         : Input : variable 'tImpParBach' <---> Output : variable 'tImpParBach'\n",
      "                         : Input : variable 'cosPAK0S' <---> Output : variable 'cosPAK0S'\n",
      "                         : Input : variable 'CosThetaStar' <---> Output : variable 'CosThetaStar'\n",
      "                         : Input : variable 'nSigmaTOFpr' <---> Output : variable 'nSigmaTOFpr'\n",
      "                         : Input : variable 'nSigmaTPCpr' <---> Output : variable 'nSigmaTPCpr'\n",
      "                         : Input : variable 'nSigmaTPCpi' <---> Output : variable 'nSigmaTPCpi'\n",
      "Factory                  : [dataset] : Create Transformation \"D\" with events from all classes.\n",
      "                         : \n",
      "                         : Transformation, Variable selection : \n",
      "                         : Input : variable 'bachelorPt' <---> Output : variable 'bachelorPt'\n",
      "                         : Input : variable 'combinedProtonProb' <---> Output : variable 'combinedProtonProb'\n",
      "                         : Input : variable 'signd0' <---> Output : variable 'signd0'\n",
      "                         : Input : variable 'tImpParBach' <---> Output : variable 'tImpParBach'\n",
      "                         : Input : variable 'cosPAK0S' <---> Output : variable 'cosPAK0S'\n",
      "                         : Input : variable 'CosThetaStar' <---> Output : variable 'CosThetaStar'\n",
      "                         : Input : variable 'nSigmaTOFpr' <---> Output : variable 'nSigmaTOFpr'\n",
      "                         : Input : variable 'nSigmaTPCpr' <---> Output : variable 'nSigmaTPCpr'\n",
      "                         : Input : variable 'nSigmaTPCpi' <---> Output : variable 'nSigmaTPCpi'\n",
      "TFHandler_Factory        :           Variable                  Mean                  RMS          [        Min                  Max ]\n",
      "                         : -------------------------------------------------------------------------------------------------------------\n",
      "                         :         bachelorPt:              2.3646              1.0993   [             0.32931              5.7665 ]\n",
      "                         : combinedProtonProb:             0.68626             0.35112   [          9.4016e-05              1.0000 ]\n",
      "                         :             signd0:            0.015052            0.029574   [            -0.33961             0.60853 ]\n",
      "                         :        tImpParBach:         -0.00030935            0.042464   [            -0.49978             0.49998 ]\n",
      "                         :           cosPAK0S:             0.99984          0.00070720   [             0.99000              1.0000 ]\n",
      "                         :       CosThetaStar:            -0.19739             0.53944   [             -1.0000             0.99979 ]\n",
      "                         :        nSigmaTOFpr:             -492.81              499.49   [             -999.00              3.0000 ]\n",
      "                         :        nSigmaTPCpr:            0.020941              1.1348   [             -2.9998              2.9999 ]\n",
      "                         :        nSigmaTPCpi:             0.11259              6.0766   [             -6.7703              239.98 ]\n",
      "                         : -------------------------------------------------------------------------------------------------------------\n",
      "                         : Preparing the Decorrelation transformation...\n",
      "TFHandler_Factory        :           Variable                  Mean                  RMS          [        Min                  Max ]\n",
      "                         : -------------------------------------------------------------------------------------------------------------\n",
      "                         :         bachelorPt:              5.7173              1.0000   [              3.8062              27.934 ]\n",
      "                         : combinedProtonProb:              3.8471              1.0000   [             -8.9480              6.4290 ]\n",
      "                         :             signd0:              1.5840              1.0000   [             -11.263              21.870 ]\n",
      "                         :        tImpParBach:            0.022327              1.0000   [             -11.751              12.024 ]\n",
      "                         :           cosPAK0S:              1469.0              1.0000   [              1454.3              1473.4 ]\n",
      "                         :       CosThetaStar:             -5.9898              1.0000   [             -8.5657              5.6864 ]\n",
      "                         :        nSigmaTOFpr:            -0.98916              1.0000   [             -2.0057            0.012852 ]\n",
      "                         :        nSigmaTPCpr:           -0.087589              1.0000   [             -8.9520              2.6724 ]\n",
      "                         :        nSigmaTPCpi:             0.12345              1.0000   [            -0.97397              42.878 ]\n",
      "                         : -------------------------------------------------------------------------------------------------------------\n",
      "                         : Preparing the Principle Component (PCA) transformation...\n",
      "TFHandler_Factory        :           Variable                  Mean                  RMS          [        Min                  Max ]\n",
      "                         : -------------------------------------------------------------------------------------------------------------\n",
      "                         :         bachelorPt:         -2.2958e-08              499.49   [             -495.82              506.48 ]\n",
      "                         : combinedProtonProb:         -1.2673e-10              6.0915   [             -7.7587              237.63 ]\n",
      "                         :             signd0:          1.0363e-11              1.1987   [             -3.4610              9.5147 ]\n",
      "                         :        tImpParBach:          7.0723e-13             0.86460   [             -2.1472              26.484 ]\n",
      "                         :           cosPAK0S:          2.8976e-12             0.23941   [             -3.3238             0.64803 ]\n",
      "                         :       CosThetaStar:         -2.3402e-12             0.14214   [            -0.49572             0.43241 ]\n",
      "                         :        nSigmaTOFpr:         -8.8848e-13            0.042479   [            -0.51755             0.50061 ]\n",
      "                         :        nSigmaTPCpr:          2.6491e-13            0.029118   [            -0.60218             0.36285 ]\n",
      "                         :        nSigmaTPCpi:          5.1347e-15          0.00068049   [          -0.0030082           0.0099608 ]\n",
      "                         : -------------------------------------------------------------------------------------------------------------\n",
      "                         : Preparing the Gaussian transformation...\n",
      "                         : Preparing the Decorrelation transformation...\n",
      "TFHandler_Factory        :           Variable                  Mean                  RMS          [        Min                  Max ]\n",
      "                         : -------------------------------------------------------------------------------------------------------------\n",
      "                         :         bachelorPt:             0.15248              1.0000   [             -4.2264              12.641 ]\n",
      "                         : combinedProtonProb:             0.61179              1.0000   [             -4.1068              3.8078 ]\n",
      "                         :             signd0:           -0.036864              1.0000   [             -5.6069              5.7691 ]\n",
      "                         :        tImpParBach:           0.0021628              1.0000   [             -3.3320              5.7879 ]\n",
      "                         :           cosPAK0S:           -0.023216              1.0000   [             -4.2902              2.9859 ]\n",
      "                         :       CosThetaStar:            0.079296              1.0000   [             -6.4120              12.654 ]\n",
      "                         :        nSigmaTOFpr:             -1.1031              1.0000   [             -3.0131              4.2793 ]\n",
      "                         :        nSigmaTPCpr:          -0.0025089              1.0000   [             -3.8678              6.7927 ]\n",
      "                         :        nSigmaTPCpi:           -0.028813              1.0000   [             -4.8743              11.619 ]\n",
      "                         : -------------------------------------------------------------------------------------------------------------\n",
      "                         : Ranking input variables (method unspecific)...\n",
      "IdTransformation         : Ranking result (top variable is best ranked)\n",
      "                         : -------------------------------------------\n",
      "                         : Rank : Variable           : Separation\n",
      "                         : -------------------------------------------\n",
      "                         :    1 : combinedProtonProb : 1.647e-01\n",
      "                         :    2 : nSigmaTPCpr        : 5.966e-02\n",
      "                         :    3 : nSigmaTOFpr        : 5.907e-02\n",
      "                         :    4 : nSigmaTPCpi        : 4.675e-02\n",
      "                         :    5 : CosThetaStar       : 4.566e-02\n",
      "                         :    6 : bachelorPt         : 3.685e-02\n",
      "                         :    7 : tImpParBach        : 2.876e-02\n",
      "                         :    8 : signd0             : 2.219e-02\n",
      "                         :    9 : cosPAK0S           : 3.655e-03\n",
      "                         : -------------------------------------------\n",
      "Factory                  : Train method: Cuts for Classification\n",
      "                         : \n",
      "FitterBase               : <MCFitter> Sampling, please be patient ...\n",
      "                         : Elapsed time: 300 sec                           \n",
      "                         : ------------------------------------------------------\n",
      "Cuts                     : Cut values for requested signal efficiency: 0.1\n",
      "                         : Corresponding background efficiency       : 0.0232689\n",
      "                         : Transformation applied to input variables : None\n",
      "                         : ------------------------------------------------------\n",
      "                         : Cut[ 0]:    1.65986 <         bachelorPt <=      1e+30\n",
      "                         : Cut[ 1]:   0.619402 < combinedProtonProb <=      1e+30\n",
      "                         : Cut[ 2]:  0.0151489 <             signd0 <=      1e+30\n",
      "                         : Cut[ 3]: -0.0597134 <        tImpParBach <=      1e+30\n",
      "                         : Cut[ 4]:   0.993793 <           cosPAK0S <=      1e+30\n",
      "                         : Cut[ 5]:    -1.0074 <       CosThetaStar <=      1e+30\n",
      "                         : Cut[ 6]:   -658.034 <        nSigmaTOFpr <=      1e+30\n",
      "                         : Cut[ 7]:     -1e+30 <        nSigmaTPCpr <=      2.727\n",
      "                         : Cut[ 8]:     -1e+30 <        nSigmaTPCpi <=    119.358\n",
      "                         : ------------------------------------------------------\n",
      "                         : ------------------------------------------------------\n",
      "Cuts                     : Cut values for requested signal efficiency: 0.2\n",
      "                         : Corresponding background efficiency       : 0.0717674\n",
      "                         : Transformation applied to input variables : None\n",
      "                         : ------------------------------------------------------\n",
      "                         : Cut[ 0]:    2.19118 <         bachelorPt <=      1e+30\n",
      "                         : Cut[ 1]:   0.960917 < combinedProtonProb <=      1e+30\n",
      "                         : Cut[ 2]:  -0.140093 <             signd0 <=      1e+30\n",
      "                         : Cut[ 3]:  -0.197613 <        tImpParBach <=      1e+30\n",
      "                         : Cut[ 4]:   0.990906 <           cosPAK0S <=      1e+30\n",
      "                         : Cut[ 5]:  -0.878733 <       CosThetaStar <=      1e+30\n",
      "                         : Cut[ 6]:   -733.969 <        nSigmaTOFpr <=      1e+30\n",
      "                         : Cut[ 7]:     -1e+30 <        nSigmaTPCpr <=     1.9133\n",
      "                         : Cut[ 8]:     -1e+30 <        nSigmaTPCpi <=    71.7568\n",
      "                         : ------------------------------------------------------\n",
      "                         : ------------------------------------------------------\n",
      "Cuts                     : Cut values for requested signal efficiency: 0.3\n",
      "                         : Corresponding background efficiency       : 0.109284\n",
      "                         : Transformation applied to input variables : None\n",
      "                         : ------------------------------------------------------\n",
      "                         : Cut[ 0]:    1.22576 <         bachelorPt <=      1e+30\n",
      "                         : Cut[ 1]:   0.981523 < combinedProtonProb <=      1e+30\n",
      "                         : Cut[ 2]:  -0.149499 <             signd0 <=      1e+30\n",
      "                         : Cut[ 3]:  -0.383553 <        tImpParBach <=      1e+30\n",
      "                         : Cut[ 4]:   0.991737 <           cosPAK0S <=      1e+30\n",
      "                         : Cut[ 5]:  -0.706837 <       CosThetaStar <=      1e+30\n",
      "                         : Cut[ 6]:   -849.142 <        nSigmaTOFpr <=      1e+30\n",
      "                         : Cut[ 7]:     -1e+30 <        nSigmaTPCpr <=    2.29991\n",
      "                         : Cut[ 8]:     -1e+30 <        nSigmaTPCpi <=    235.421\n",
      "                         : ------------------------------------------------------\n",
      "                         : ------------------------------------------------------\n",
      "Cuts                     : Cut values for requested signal efficiency: 0.4\n",
      "                         : Corresponding background efficiency       : 0.148461\n",
      "                         : Transformation applied to input variables : None\n",
      "                         : ------------------------------------------------------\n",
      "                         : Cut[ 0]:    1.52656 <         bachelorPt <=      1e+30\n",
      "                         : Cut[ 1]:   0.788855 < combinedProtonProb <=      1e+30\n",
      "                         : Cut[ 2]:  -0.321457 <             signd0 <=      1e+30\n",
      "                         : Cut[ 3]: -0.0921497 <        tImpParBach <=      1e+30\n",
      "                         : Cut[ 4]:   0.999102 <           cosPAK0S <=      1e+30\n",
      "                         : Cut[ 5]:  -0.993361 <       CosThetaStar <=      1e+30\n",
      "                         : Cut[ 6]:   -403.787 <        nSigmaTOFpr <=      1e+30\n",
      "                         : Cut[ 7]:     -1e+30 <        nSigmaTPCpr <=     2.3466\n",
      "                         : Cut[ 8]:     -1e+30 <        nSigmaTPCpi <=    84.8809\n",
      "                         : ------------------------------------------------------\n",
      "                         : ------------------------------------------------------\n",
      "Cuts                     : Cut values for requested signal efficiency: 0.5\n",
      "                         : Corresponding background efficiency       : 0.214164\n",
      "                         : Transformation applied to input variables : None\n",
      "                         : ------------------------------------------------------\n",
      "                         : Cut[ 0]:   0.874064 <         bachelorPt <=      1e+30\n",
      "                         : Cut[ 1]:   0.570391 < combinedProtonProb <=      1e+30\n",
      "                         : Cut[ 2]:  -0.273799 <             signd0 <=      1e+30\n",
      "                         : Cut[ 3]:  -0.491161 <        tImpParBach <=      1e+30\n",
      "                         : Cut[ 4]:   0.990394 <           cosPAK0S <=      1e+30\n",
      "                         : Cut[ 5]:  -0.780702 <       CosThetaStar <=      1e+30\n",
      "                         : Cut[ 6]:   -502.787 <        nSigmaTOFpr <=      1e+30\n",
      "                         : Cut[ 7]:     -1e+30 <        nSigmaTPCpr <=    2.84125\n",
      "                         : Cut[ 8]:     -1e+30 <        nSigmaTPCpi <=     18.245\n",
      "                         : ------------------------------------------------------\n",
      "                         : ------------------------------------------------------\n",
      "Cuts                     : Cut values for requested signal efficiency: 0.6\n",
      "                         : Corresponding background efficiency       : -0.1\n",
      "                         : Transformation applied to input variables : None\n",
      "                         : ------------------------------------------------------\n",
      "                         : Cut[ 0]:          0 <         bachelorPt <=      1e+30\n",
      "                         : Cut[ 1]:          0 < combinedProtonProb <=      1e+30\n",
      "                         : Cut[ 2]:          0 <             signd0 <=      1e+30\n",
      "                         : Cut[ 3]:          0 <        tImpParBach <=      1e+30\n",
      "                         : Cut[ 4]:          0 <           cosPAK0S <=      1e+30\n",
      "                         : Cut[ 5]:          0 <       CosThetaStar <=      1e+30\n",
      "                         : Cut[ 6]:          0 <        nSigmaTOFpr <=      1e+30\n",
      "                         : Cut[ 7]:     -1e+30 <        nSigmaTPCpr <=          0\n",
      "                         : Cut[ 8]:     -1e+30 <        nSigmaTPCpi <=          0\n",
      "                         : ------------------------------------------------------\n",
      "                         : ------------------------------------------------------\n",
      "Cuts                     : Cut values for requested signal efficiency: 0.7\n",
      "                         : Corresponding background efficiency       : -0.1\n",
      "                         : Transformation applied to input variables : None\n",
      "                         : ------------------------------------------------------\n",
      "                         : Cut[ 0]:          0 <         bachelorPt <=      1e+30\n",
      "                         : Cut[ 1]:          0 < combinedProtonProb <=      1e+30\n",
      "                         : Cut[ 2]:          0 <             signd0 <=      1e+30\n",
      "                         : Cut[ 3]:          0 <        tImpParBach <=      1e+30\n",
      "                         : Cut[ 4]:          0 <           cosPAK0S <=      1e+30\n",
      "                         : Cut[ 5]:          0 <       CosThetaStar <=      1e+30\n",
      "                         : Cut[ 6]:          0 <        nSigmaTOFpr <=      1e+30\n",
      "                         : Cut[ 7]:     -1e+30 <        nSigmaTPCpr <=          0\n",
      "                         : Cut[ 8]:     -1e+30 <        nSigmaTPCpi <=          0\n",
      "                         : ------------------------------------------------------\n",
      "                         : ------------------------------------------------------\n",
      "Cuts                     : Cut values for requested signal efficiency: 0.8\n",
      "                         : Corresponding background efficiency       : -0.1\n",
      "                         : Transformation applied to input variables : None\n",
      "                         : ------------------------------------------------------\n",
      "                         : Cut[ 0]:          0 <         bachelorPt <=      1e+30\n",
      "                         : Cut[ 1]:          0 < combinedProtonProb <=      1e+30\n",
      "                         : Cut[ 2]:          0 <             signd0 <=      1e+30\n",
      "                         : Cut[ 3]:          0 <        tImpParBach <=      1e+30\n",
      "                         : Cut[ 4]:          0 <           cosPAK0S <=      1e+30\n",
      "                         : Cut[ 5]:          0 <       CosThetaStar <=      1e+30\n",
      "                         : Cut[ 6]:          0 <        nSigmaTOFpr <=      1e+30\n",
      "                         : Cut[ 7]:     -1e+30 <        nSigmaTPCpr <=          0\n",
      "                         : Cut[ 8]:     -1e+30 <        nSigmaTPCpi <=          0\n",
      "                         : ------------------------------------------------------\n",
      "                         : ------------------------------------------------------\n",
      "Cuts                     : Cut values for requested signal efficiency: 0.9\n",
      "                         : Corresponding background efficiency       : -0.1\n",
      "                         : Transformation applied to input variables : None\n",
      "                         : ------------------------------------------------------\n",
      "                         : Cut[ 0]:          0 <         bachelorPt <=      1e+30\n",
      "                         : Cut[ 1]:          0 < combinedProtonProb <=      1e+30\n",
      "                         : Cut[ 2]:          0 <             signd0 <=      1e+30\n",
      "                         : Cut[ 3]:          0 <        tImpParBach <=      1e+30\n",
      "                         : Cut[ 4]:          0 <           cosPAK0S <=      1e+30\n",
      "                         : Cut[ 5]:          0 <       CosThetaStar <=      1e+30\n",
      "                         : Cut[ 6]:          0 <        nSigmaTOFpr <=      1e+30\n",
      "                         : Cut[ 7]:     -1e+30 <        nSigmaTPCpr <=          0\n",
      "                         : Cut[ 8]:     -1e+30 <        nSigmaTPCpi <=          0\n",
      "                         : ------------------------------------------------------\n",
      "                         : Elapsed time for training with 376183 events: 302 sec         \n",
      "Cuts                     : [dataset] : Evaluation of Cuts on training sample (376183 events)\n",
      "                         : Elapsed time for evaluation of 376183 events: 0.0265 sec       \n",
      "                         : Creating xml weight file: \u001b[0;36mdataset/weights/TMVAClassification_Cuts.weights.xml\u001b[0m\n",
      "                         : Creating standalone class: \u001b[0;36mdataset/weights/TMVAClassification_Cuts.class.C\u001b[0m\n",
      "                         : TMVA_output.root:/dataset/Method_Cuts/Cuts\n",
      "Factory                  : Training finished\n",
      "                         : \n",
      "                         : Ranking input variables (method specific)...\n",
      "                         : No variable ranking supplied by classifier: Cuts\n",
      "Factory                  : === Destroy and recreate all methods via weight files for testing ===\n",
      "                         : \n",
      "                         : Reading weight file: \u001b[0;36mdataset/weights/TMVAClassification_Cuts.weights.xml\u001b[0m\n",
      "                         : Read cuts optimised using sample of MC events\n",
      "                         : Reading 100 signal efficiency bins for 9 variables\n"
     ]
    },
    {
     "name": "stderr",
     "output_type": "stream",
     "text": [
      "0%, time left: unknown\n",
      "7%, time left: 5 mins\n",
      "13%, time left: 271 sec\n",
      "19%, time left: 245 sec\n",
      "25%, time left: 229 sec\n",
      "32%, time left: 205 sec\n",
      "38%, time left: 187 sec\n",
      "44%, time left: 168 sec\n",
      "50%, time left: 150 sec\n",
      "57%, time left: 129 sec\n",
      "63%, time left: 110 sec\n",
      "69%, time left: 92 sec\n",
      "75%, time left: 74 sec\n",
      "82%, time left: 53 sec\n",
      "88%, time left: 36 sec\n",
      "94%, time left: 18 sec\n",
      "0%, time left: unknown\n",
      "6%, time left: 0 sec\n",
      "12%, time left: 0 sec\n",
      "18%, time left: 0 sec\n",
      "25%, time left: 0 sec\n",
      "31%, time left: 0 sec\n",
      "37%, time left: 0 sec\n",
      "43%, time left: 0 sec\n",
      "50%, time left: 0 sec\n",
      "56%, time left: 0 sec\n",
      "62%, time left: 0 sec\n",
      "68%, time left: 0 sec\n",
      "75%, time left: 0 sec\n",
      "81%, time left: 0 sec\n",
      "87%, time left: 0 sec\n",
      "93%, time left: 0 sec\n"
     ]
    }
   ],
   "source": [
    "# Train MVAs\n",
    "factory.TrainAllMethods()"
   ]
  },
  {
   "cell_type": "code",
   "execution_count": 16,
   "metadata": {},
   "outputs": [
    {
     "name": "stdout",
     "output_type": "stream",
     "text": [
      "Factory                  : \u001b[1mTest all methods\u001b[0m\n",
      "Factory                  : Test method: Cuts for Classification performance\n",
      "                         : \n",
      "Cuts                     : [dataset] : Evaluation of Cuts on testing sample (376183 events)\n",
      "                         : Elapsed time for evaluation of 376183 events: 0.0314 sec       \n"
     ]
    },
    {
     "name": "stderr",
     "output_type": "stream",
     "text": [
      "0%, time left: unknown\n",
      "6%, time left: 0 sec\n",
      "12%, time left: 0 sec\n",
      "18%, time left: 0 sec\n",
      "25%, time left: 0 sec\n",
      "31%, time left: 0 sec\n",
      "37%, time left: 0 sec\n",
      "43%, time left: 0 sec\n",
      "50%, time left: 0 sec\n",
      "56%, time left: 0 sec\n",
      "62%, time left: 0 sec\n",
      "68%, time left: 0 sec\n",
      "75%, time left: 0 sec\n",
      "81%, time left: 0 sec\n",
      "87%, time left: 0 sec\n",
      "93%, time left: 0 sec\n"
     ]
    }
   ],
   "source": [
    "# Test MVAs\n",
    "factory.TestAllMethods()"
   ]
  },
  {
   "cell_type": "code",
   "execution_count": 17,
   "metadata": {},
   "outputs": [
    {
     "name": "stdout",
     "output_type": "stream",
     "text": [
      "Factory                  : \u001b[1mEvaluate all methods\u001b[0m\n",
      "Factory                  : Evaluate classifier: Cuts\n",
      "                         : \n",
      "<WARNING>                : You have asked for histogram MVA_EFF_BvsS which does not seem to exist in *Results* .. better don't use it \n",
      "<WARNING>                : You have asked for histogram EFF_BVSS_TR which does not seem to exist in *Results* .. better don't use it \n",
      "<WARNING>                :  unable to fill 41 efficiency bins \n",
      "TFHandler_Cuts           :           Variable                  Mean                  RMS          [        Min                  Max ]\n",
      "                         : -------------------------------------------------------------------------------------------------------------\n",
      "                         :         bachelorPt:              2.3635              1.1013   [             0.34172              5.7675 ]\n",
      "                         : combinedProtonProb:             0.68777             0.35063   [          4.6705e-05              1.0000 ]\n",
      "                         :             signd0:            0.015172            0.030026   [           -0.021339             0.61503 ]\n",
      "                         :        tImpParBach:         -0.00038100            0.042627   [            -0.49963             0.49954 ]\n",
      "                         :           cosPAK0S:             0.99985          0.00070242   [             0.99000              1.0000 ]\n",
      "                         :       CosThetaStar:            -0.19831             0.53988   [            -0.99999             0.99770 ]\n",
      "                         :        nSigmaTOFpr:             -491.42              499.47   [             -999.00              2.9994 ]\n",
      "                         :        nSigmaTPCpr:            0.019429              1.1347   [             -2.9996              3.0000 ]\n",
      "                         :        nSigmaTPCpi:             0.13920              6.1008   [             -6.9101              229.73 ]\n",
      "                         : -------------------------------------------------------------------------------------------------------------\n",
      "                         : \n",
      "                         : Evaluation results ranked by best signal efficiency and purity (area)\n",
      "                         : -------------------------------------------------------------------------------------------------------------------\n",
      "                         : DataSet       MVA                       \n",
      "                         : Name:         Method:          ROC-integ\n",
      "                         : dataset       Cuts           : 0.642\n",
      "                         : -------------------------------------------------------------------------------------------------------------------\n",
      "                         : \n",
      "                         : Testing efficiency compared to training efficiency (overtraining check)\n",
      "                         : -------------------------------------------------------------------------------------------------------------------\n",
      "                         : DataSet              MVA              Signal efficiency: from test sample (from training sample) \n",
      "                         : Name:                Method:          @B=0.01             @B=0.10            @B=0.30   \n",
      "                         : -------------------------------------------------------------------------------------------------------------------\n",
      "                         : dataset              Cuts           : 0.048 (0.049)       0.284 (0.283)      0.502 (0.712)\n",
      "                         : -------------------------------------------------------------------------------------------------------------------\n",
      "                         : \n",
      "Dataset:dataset          : Created tree 'TestTree' with 376183 events\n",
      "                         : \n",
      "Dataset:dataset          : Created tree 'TrainTree' with 376183 events\n",
      "                         : \n",
      "Factory                  : \u001b[1mThank you for using TMVA!\u001b[0m\n",
      "                         : \u001b[1mFor citation information, please visit: http://tmva.sf.net/citeTMVA.html\u001b[0m\n"
     ]
    }
   ],
   "source": [
    "# Evaluate MVAs\n",
    "factory.EvaluateAllMethods() "
   ]
  },
  {
   "cell_type": "code",
   "execution_count": 18,
   "metadata": {
    "scrolled": false
   },
   "outputs": [],
   "source": [
    "# Save the output.\n",
    "outputFile.Close()"
   ]
  },
  {
   "cell_type": "code",
   "execution_count": null,
   "metadata": {
    "scrolled": false
   },
   "outputs": [],
   "source": []
  }
 ],
 "metadata": {
  "kernelspec": {
   "display_name": "Python 3",
   "language": "python",
   "name": "python3"
  },
  "language_info": {
   "codemirror_mode": {
    "name": "ipython",
    "version": 3
   },
   "file_extension": ".py",
   "mimetype": "text/x-python",
   "name": "python",
   "nbconvert_exporter": "python",
   "pygments_lexer": "ipython3",
   "version": "3.8.2"
  }
 },
 "nbformat": 4,
 "nbformat_minor": 4
}
